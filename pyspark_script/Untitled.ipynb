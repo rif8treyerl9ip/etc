{
 "cells": [
  {
   "cell_type": "code",
   "execution_count": 23,
   "id": "0acb295a-527d-49da-95fa-b147923959f5",
   "metadata": {},
   "outputs": [
    {
     "name": "stdout",
     "output_type": "stream",
     "text": [
      "+-------------------+------+---+------+---+-------+-------------+-----------------+\n",
      "|         click_time|    ip|app|device| os|channel|is_attributed|__index_level_0__|\n",
      "+-------------------+------+---+------+---+-------+-------------+-----------------+\n",
      "|2017-11-09 12:59:59|186714| 12|     1|  9|    178|        false|                0|\n",
      "|2017-11-09 13:00:00| 38877|  2|     1| 19|    477|        false|                1|\n",
      "|2017-11-09 13:00:00|104271| 14|     1| 18|    489|        false|                2|\n",
      "+-------------------+------+---+------+---+-------+-------------+-----------------+\n",
      "only showing top 3 rows\n",
      "\n",
      "root\n",
      " |-- click_time: timestamp (nullable = true)\n",
      " |-- ip: long (nullable = true)\n",
      " |-- app: integer (nullable = true)\n",
      " |-- device: integer (nullable = true)\n",
      " |-- os: integer (nullable = true)\n",
      " |-- channel: integer (nullable = true)\n",
      " |-- is_attributed: boolean (nullable = true)\n",
      " |-- __index_level_0__: long (nullable = true)\n",
      "\n"
     ]
    }
   ],
   "source": [
    "# df = spark.read.parquet(\"./tmp/last_day.pqt\")\n",
    "df = spark.read.format('parquet').load(\"./tmp/last_day.pqt\")\n",
    "df.show(3)\n",
    "df.printSchema()"
   ]
  },
  {
   "cell_type": "code",
   "execution_count": 27,
   "id": "63f12308-90ec-483b-a136-ce45f9e034c3",
   "metadata": {},
   "outputs": [
    {
     "name": "stdout",
     "output_type": "stream",
     "text": [
      "+--------+\n",
      "|count(1)|\n",
      "+--------+\n",
      "|37170059|\n",
      "+--------+\n",
      "\n"
     ]
    }
   ],
   "source": [
    "df.createOrReplaceTempView('tmp')\n",
    "spark.sql('''\n",
    "select count(*)\n",
    "from tmp\n",
    "''').show()"
   ]
  },
  {
   "cell_type": "code",
   "execution_count": 57,
   "id": "4f0e7e27-ab8e-4d66-9bfc-7c555fde6346",
   "metadata": {},
   "outputs": [
    {
     "name": "stdout",
     "output_type": "stream",
     "text": [
      "+---+-----------+-------------+\n",
      "| os|sum(device)|count(device)|\n",
      "+---+-----------+-------------+\n",
      "|148|        184|          177|\n",
      "|471|          3|            3|\n",
      "|243|          3|            3|\n",
      "|623|          7|            7|\n",
      "|897|          3|            3|\n",
      "| 31|     157807|       153125|\n",
      "| 85|       6982|         4069|\n",
      "|137|        508|          508|\n",
      "|251|          6|            5|\n",
      "|808|          1|            1|\n",
      "|451|          2|            2|\n",
      "| 65|      43926|        21963|\n",
      "|879|          3|            3|\n",
      "| 53|     269587|       263932|\n",
      "|133|        748|          641|\n",
      "|296|          2|            2|\n",
      "| 78|       1378|         1064|\n",
      "|513|          9|            9|\n",
      "|918|          2|            2|\n",
      "|321|          6|            6|\n",
      "+---+-----------+-------------+\n",
      "only showing top 20 rows\n",
      "\n",
      "+-------------------+------+---+------+---+-------+-------------+-----------------+\n",
      "|         click_time|    ip|app|device| os|channel|is_attributed|__index_level_0__|\n",
      "+-------------------+------+---+------+---+-------+-------------+-----------------+\n",
      "|2017-11-09 12:59:59|186714| 12|     1|  9|    178|        false|                0|\n",
      "|2017-11-09 13:00:00| 38877|  2|     1| 19|    477|        false|                1|\n",
      "|2017-11-09 13:00:00|104271| 14|     1| 18|    489|        false|                2|\n",
      "+-------------------+------+---+------+---+-------+-------------+-----------------+\n",
      "only showing top 3 rows\n",
      "\n",
      "Wall time: 2.36 s\n"
     ]
    }
   ],
   "source": [
    "%%time\n",
    "spark.catalog.dropTempView(\"TMPTEST\")\n",
    "spark.sql(\"\"\"\n",
    "CREATE TEMPORARY VIEW TMPTEST\n",
    "USING parquet OPTIONS (path \"./tmp/last_day.pqt\")\n",
    "\"\"\")\n",
    "\n",
    "spark.sql(\"\"\"\n",
    "SELECT\n",
    "os,\n",
    "sum(device),\n",
    "count(device)\n",
    "FROM TMPTEST\n",
    "group by os\n",
    "\"\"\").show()\n",
    "\n",
    "spark.sql(\"\"\"\n",
    "SELECT\n",
    "*\n",
    "FROM TMPTEST\n",
    "\"\"\").show(3)"
   ]
  },
  {
   "cell_type": "code",
   "execution_count": null,
   "id": "4e9714d1-43f0-4379-aa3d-b494257eb556",
   "metadata": {},
   "outputs": [],
   "source": []
  },
  {
   "cell_type": "code",
   "execution_count": null,
   "id": "55ba9641-5e0c-4e57-ac54-94ab651a32a1",
   "metadata": {},
   "outputs": [],
   "source": []
  }
 ],
 "metadata": {
  "kernelspec": {
   "display_name": "Python 3 (ipykernel)",
   "language": "python",
   "name": "python3"
  },
  "language_info": {
   "codemirror_mode": {
    "name": "ipython",
    "version": 3
   },
   "file_extension": ".py",
   "mimetype": "text/x-python",
   "name": "python",
   "nbconvert_exporter": "python",
   "pygments_lexer": "ipython3",
   "version": "3.9.5"
  }
 },
 "nbformat": 4,
 "nbformat_minor": 5
}
