{
 "cells": [
  {
   "cell_type": "code",
   "execution_count": 1,
   "id": "84038f9a-794e-4083-9732-ed67a75e7412",
   "metadata": {},
   "outputs": [],
   "source": [
    "tmp = [[1, '2012/01/05', '岡野 徹'],\n",
    "[2, '2012/1/0', '庄野 弘一'],\n",
    "[3, '2012/01/3', '若山 みどり'],\n",
    "[4, '2012/1/19', '岡野 徹']]\n",
    "\n",
    "from pyspark.sql.types import *\n",
    "schema = StructType([\n",
    "   StructField(\"id\", IntegerType(), True),\n",
    "   StructField(\"date\", StringType(), True),\n",
    "   StructField(\"name\", StringType(), True)]\n",
    ")\n",
    "df = spark.createDataFrame(tmp, schema=schema)\n"
   ]
  },
  {
   "cell_type": "code",
   "execution_count": null,
   "id": "a188687f-684e-4269-b60e-927b656a0091",
   "metadata": {},
   "outputs": [
    {
     "name": "stdout",
     "output_type": "stream",
     "text": [
      "+---+----------+-----------+\n",
      "| id|      date|       name|\n",
      "+---+----------+-----------+\n",
      "|  1|2012/01/05|    岡野 徹|\n",
      "|  2|  2012/1/0|  庄野 弘一|\n",
      "|  3| 2012/01/3|若山 みどり|\n",
      "|  4| 2012/1/19|    岡野 徹|\n",
      "+---+----------+-----------+\n",
      "\n"
     ]
    }
   ],
   "source": [
    "df.show()"
   ]
  },
  {
   "cell_type": "code",
   "execution_count": 21,
   "id": "b2fa2b05-ce2c-4de3-94e9-515338343db3",
   "metadata": {},
   "outputs": [
    {
     "name": "stdout",
     "output_type": "stream",
     "text": [
      "+---+----------+-----------+\n",
      "| id|      date|       name|\n",
      "+---+----------+-----------+\n",
      "|  1|2012/01/05|    岡野 徹|\n",
      "|  2|  2012/1/0|  庄野 弘一|\n",
      "|  3| 2012/01/3|若山 みどり|\n",
      "|  4| 2012/1/19|    岡野 徹|\n",
      "+---+----------+-----------+\n",
      "\n"
     ]
    }
   ],
   "source": [
    "# df.cache()\n",
    "df.persist()\n",
    "df.show()"
   ]
  },
  {
   "cell_type": "code",
   "execution_count": null,
   "id": "650a1434-fed0-4077-9260-8b9400f5e97c",
   "metadata": {},
   "outputs": [],
   "source": []
  }
 ],
 "metadata": {
  "kernelspec": {
   "display_name": "Python 3 (ipykernel)",
   "language": "python",
   "name": "python3"
  },
  "language_info": {
   "codemirror_mode": {
    "name": "ipython",
    "version": 3
   },
   "file_extension": ".py",
   "mimetype": "text/x-python",
   "name": "python",
   "nbconvert_exporter": "python",
   "pygments_lexer": "ipython3",
   "version": "3.9.5"
  }
 },
 "nbformat": 4,
 "nbformat_minor": 5
}
