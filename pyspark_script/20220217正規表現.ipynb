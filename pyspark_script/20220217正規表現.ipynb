{
 "cells": [
  {
   "cell_type": "code",
   "execution_count": null,
   "id": "67802b25-ea1a-40fb-8b67-66f25270ddce",
   "metadata": {},
   "outputs": [],
   "source": [
    "# yyyy/mm/ddにマッチする正規表現を実行したい"
   ]
  },
  {
   "cell_type": "code",
   "execution_count": 65,
   "id": "84038f9a-794e-4083-9732-ed67a75e7412",
   "metadata": {},
   "outputs": [],
   "source": [
    "tmp = [[1, '2012/01/05', '岡野 徹'],\n",
    "[2, '2012/1/0', '庄野 弘一'],\n",
    "[3, '2012/01/3', '若山 みどり'],\n",
    "[4, '2012/1/19', '岡野 徹']]\n",
    "\n",
    "from pyspark.sql.types import *\n",
    "schema = StructType([\n",
    "   StructField(\"id\", IntegerType(), True),\n",
    "   StructField(\"date\", StringType(), True),\n",
    "   StructField(\"name\", StringType(), True)]\n",
    ")\n",
    "df = spark.createDataFrame(tmp, schema=schema)\n"
   ]
  },
  {
   "cell_type": "code",
   "execution_count": 66,
   "id": "a9ce4e60-4b55-4911-9338-68fe7e2a8599",
   "metadata": {},
   "outputs": [],
   "source": [
    "collection = df.collect()"
   ]
  },
  {
   "cell_type": "code",
   "execution_count": null,
   "id": "f5ca1ea1-6683-41a7-afae-5d48ab65590e",
   "metadata": {},
   "outputs": [
    {
     "name": "stdout",
     "output_type": "stream",
     "text": [
      "None\n",
      "<re.Match object; span=(0, 10), match='2020/02/02'>\n",
      "None\n",
      "<re.Match object; span=(0, 8), match='2020/2/2'>\n",
      "<re.Match object; span=(0, 10), match='2020/92/92'>\n"
     ]
    }
   ],
   "source": [
    "# https://docs.python.org/ja/3/library/re.html#search-vs-match\n",
    "import re\n",
    "\n",
    "pattern = re.compile(r'[0-9]{4}-[0-9]{2}-[0-9]{2}')  # yyyy-mm-dd\n",
    "t = '2020/02/02'\n",
    "print(pattern.match(t))  # マッチせず\n",
    "\n",
    "pattern = re.compile(r'[0-9]{4}/[0-9]{2}/[0-9]{2}')  # yyyy/mm/dd\n",
    "t = '2020/02/02'\n",
    "print(pattern.match(t))  # マッチ\n",
    "t = '2020/2/2'\n",
    "print(pattern.match(t))  # マッチせず\n",
    "\n",
    "# 複数条件にマッチ、パイプの間にスペースを入れるとスペースも正規表現の対象になるので注意\n",
    "pattern = re.compile(r'[0-9]{4}/[0-9]{1}/[0-9]{1}|[0-9]{4}/[0-9]{2}/[0-9]{2}')  # yyyy/mm/dd or yyyy/m/d\n",
    "t = '2020/2/2'\n",
    "print(pattern.match(t))  # マッチ\n",
    "t = '2020/92/92'\n",
    "print(pattern.match(t))  # マッチ\n",
    "\n",
    "# pattern = re.compile(r'[0-9]{4}-[0-9]{1}-[0-9]{1}|[0-9]{4}-[0-9]{2}-[0-9]{2}')  # yyyy-mm-dd or yyyy-m-d\n"
   ]
  }
 ],
 "metadata": {
  "kernelspec": {
   "display_name": "Python 3 (ipykernel)",
   "language": "python",
   "name": "python3"
  },
  "language_info": {
   "codemirror_mode": {
    "name": "ipython",
    "version": 3
   },
   "file_extension": ".py",
   "mimetype": "text/x-python",
   "name": "python",
   "nbconvert_exporter": "python",
   "pygments_lexer": "ipython3",
   "version": "3.9.5"
  }
 },
 "nbformat": 4,
 "nbformat_minor": 5
}
