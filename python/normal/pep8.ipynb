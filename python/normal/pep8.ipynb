{
 "cells": [
  {
   "cell_type": "code",
   "execution_count": null,
   "source": [
    "https://qiita.com/sugulu_Ogawa_ISID/items/c0e8a5e6b177bfe05e99"
   ],
   "outputs": [],
   "metadata": {}
  },
  {
   "cell_type": "code",
   "execution_count": 3,
   "source": [
    "import pandas as pd\r\n",
    "import HOGE"
   ],
   "outputs": [],
   "metadata": {}
  },
  {
   "cell_type": "markdown",
   "source": [
    "関数化すると確かに速くなっている"
   ],
   "metadata": {}
  },
  {
   "cell_type": "code",
   "execution_count": 24,
   "source": [
    "import time\r\n",
    "import numpy as np\r\n",
    "\r\n",
    "start = time.time()\r\n",
    "\r\n",
    "data = np.random.rand(5000)\r\n",
    "sum = 0\r\n",
    "\r\n",
    "for i in range(len(data)):\r\n",
    "    for j in range(len(data)):\r\n",
    "        sum += data[j]\r\n",
    "\r\n",
    "elapsed_time = time.time() - start\r\n",
    "print(elapsed_time)"
   ],
   "outputs": [
    {
     "output_type": "stream",
     "name": "stdout",
     "text": [
      "6.764202117919922\n"
     ]
    }
   ],
   "metadata": {}
  },
  {
   "cell_type": "code",
   "execution_count": 25,
   "source": [
    "import time\r\n",
    "import numpy as np\r\n",
    "\r\n",
    "\r\n",
    "def main():\r\n",
    "    data = np.random.rand(5000)\r\n",
    "    sum = 0\r\n",
    "\r\n",
    "    for i in range(len(data)):\r\n",
    "        for j in range(len(data)):\r\n",
    "            sum += data[j]\r\n",
    "    return 0\r\n",
    "\r\n",
    "\r\n",
    "start = time.time()\r\n",
    "main()\r\n",
    "elapsed_time = time.time() - start\r\n",
    "print(elapsed_time)"
   ],
   "outputs": [
    {
     "output_type": "stream",
     "name": "stdout",
     "text": [
      "5.036234617233276\n"
     ]
    }
   ],
   "metadata": {}
  },
  {
   "cell_type": "code",
   "execution_count": null,
   "source": [
    "import time\r\n",
    "import numpy as np\r\n",
    "\r\n",
    "\r\n",
    "def main():\r\n",
    "    \"\"\"[summary]\r\n",
    "    本メソッドは、●●を実施する責務を担います。\r\n",
    "\r\n",
    "    Returns:\r\n",
    "        [type]: [description]\r\n",
    "    \"\"\"\r\n",
    "\r\n",
    "    data = np.random.rand(5000)\r\n",
    "    sum = 0\r\n",
    "\r\n",
    "    for i in range(len(data)):\r\n",
    "        for j in range(len(data)):\r\n",
    "            sum += data[j]\r\n",
    "    return 0\r\n",
    "\r\n",
    "\r\n",
    "start = time.time()\r\n",
    "main()\r\n",
    "elapsed_time = time.time() - start\r\n",
    "print(elapsed_time)\r\n",
    "\r\n"
   ],
   "outputs": [],
   "metadata": {}
  },
  {
   "cell_type": "code",
   "execution_count": 8,
   "source": [
    "import logging\r\n",
    "\r\n",
    "logger = logging.getLogger(__name__)\r\n",
    "\r\n",
    "# logに入れる値を適当に作成\r\n",
    "total_epoch = 1000\r\n",
    "epoch = 100\r\n",
    "loss_train = 5.44444\r\n",
    "\r\n",
    "# logで記録する内容\r\n",
    "log_list = [total_epoch, epoch, loss_train]\r\n",
    "\r\n",
    "# logに記録\r\n",
    "logger.info(\r\n",
    "    \"total_epoch: {0[0]}, epoch: {0[1]}, loss_train: {0[2]:.2f}\".format(log_list)\r\n",
    ")\r\n",
    "\r\n",
    "# logに記録した内容を出力して確認（今は確認用。本来は不要）\r\n",
    "print(\"total_epoch: {0[0]}, epoch: {0[1]}, loss_train: {0[2]:.2f}\".format(log_list))"
   ],
   "outputs": [
    {
     "output_type": "stream",
     "name": "stdout",
     "text": [
      "total_epoch: 1000, epoch: 100, loss_train: 5.44\n"
     ]
    }
   ],
   "metadata": {}
  },
  {
   "cell_type": "code",
   "execution_count": 13,
   "source": [
    "logger.info(f\"{total_epoch=}, {epoch=}, loss_train: {loss_train=:.2f}\")\r\n",
    "print(f\"{total_epoch=}, {epoch=}, loss_train: {loss_train=:.2f}\")\r\n"
   ],
   "outputs": [
    {
     "output_type": "stream",
     "name": "stdout",
     "text": [
      "1000, 100, loss_train: 5.44\n"
     ]
    }
   ],
   "metadata": {}
  },
  {
   "cell_type": "code",
   "execution_count": 19,
   "source": [
    "import 標準ライブラリ\r\n",
    "空白行\r\n",
    "import サードパーティに関連するもの（PyPIからpip installしたもの）\r\n",
    "空白行\r\n",
    "import 自分たちが今回用に作成したもの`\r\n",
    "空白行"
   ],
   "outputs": [
    {
     "output_type": "error",
     "ename": "SyntaxError",
     "evalue": "invalid character in identifier (Temp/ipykernel_15092/1539466624.py, line 3)",
     "traceback": [
      "\u001b[1;36m  File \u001b[1;32m\"C:\\Users\\thyt\\AppData\\Local\\Temp/ipykernel_15092/1539466624.py\"\u001b[1;36m, line \u001b[1;32m3\u001b[0m\n\u001b[1;33m    import サードパーティに関連するもの（PyPIからpip installしたもの）\u001b[0m\n\u001b[1;37m                                  ^\u001b[0m\n\u001b[1;31mSyntaxError\u001b[0m\u001b[1;31m:\u001b[0m invalid character in identifier\n"
     ]
    }
   ],
   "metadata": {}
  }
 ],
 "metadata": {
  "orig_nbformat": 4,
  "language_info": {
   "name": "python",
   "version": "3.8.10"
  },
  "kernelspec": {
   "name": "python3",
   "display_name": "Python 3.8.10 64-bit ('rake4': conda)"
  },
  "interpreter": {
   "hash": "dd5a840675b4b7a0124460e0160a18be5bf8441ea5223e9a03f358a511ddc22e"
  }
 },
 "nbformat": 4,
 "nbformat_minor": 2
}