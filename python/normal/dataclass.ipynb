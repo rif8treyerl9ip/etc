{
 "cells": [
  {
   "cell_type": "code",
   "execution_count": 1,
   "source": [
    "from dataclasses import dataclass"
   ],
   "outputs": [],
   "metadata": {}
  },
  {
   "cell_type": "code",
   "execution_count": 2,
   "source": [
    "\r\n",
    "@dataclass\r\n",
    "class User:\r\n",
    "    name: str\r\n",
    "    age: int=20 # こんな感じでデフォ値も設定可能、デフォ値のフィールドは最後に書く必要がある\r\n",
    "\r\n",
    "user = User('sato',100)\r\n",
    "print(user.name)\r\n",
    "print(user.age)\r\n",
    "\r\n",
    "user = User('sato')\r\n",
    "print(user.name)\r\n",
    "print(user.age)\r\n",
    "\r\n",
    "# 型チェックはやってないっぽい\r\n",
    "user = User('sato',20)\r\n",
    "print(user.name)\r\n",
    "print(user.age)"
   ],
   "outputs": [
    {
     "output_type": "stream",
     "name": "stdout",
     "text": [
      "sato\n",
      "100\n",
      "sato\n",
      "20\n",
      "sato\n",
      "20\n"
     ]
    }
   ],
   "metadata": {}
  },
  {
   "cell_type": "code",
   "execution_count": 19,
   "source": [
    "from dataclasses import field\r\n",
    "from typing import List\r\n",
    "\r\n",
    "@dataclass\r\n",
    "class User:\r\n",
    "    name: str\r\n",
    "    age: int=20\r\n",
    "    items: List[int] = field(default_factory=list)\r\n",
    "    items2: List[int] = field(default_factory=lambda: ['hoge','apple'])\r\n",
    "    \r\n",
    "    items3: dict = field(default_factory=dict)\r\n",
    "    items3: dict = field(default_factory=lambda:{'hoge':10000})\r\n",
    "\r\n",
    "user = User('sato',100)\r\n",
    "print(user.name)\r\n",
    "print(user.age)\r\n",
    "print(user.items)\r\n",
    "print(user.items2)\r\n",
    "print(user.items3)"
   ],
   "outputs": [
    {
     "output_type": "stream",
     "name": "stdout",
     "text": [
      "sato\n",
      "100\n",
      "[]\n",
      "['hoge', 'apple']\n",
      "{'hoge': 10000}\n"
     ]
    }
   ],
   "metadata": {}
  },
  {
   "cell_type": "code",
   "execution_count": 26,
   "source": [
    "from dataclasses import field\r\n",
    "from typing import List\r\n",
    "\r\n",
    "@dataclass\r\n",
    "class User:\r\n",
    "    name: str\r\n",
    "    age: int=20\r\n",
    "    items: List[int] = field(default_factory=list)\r\n",
    "    items2: List[int] = field(default_factory=lambda: ['hoge','apple'])\r\n",
    "\r\n",
    "user = User('sato',100)\r\n",
    "print(user.name)\r\n",
    "print(user.age)\r\n",
    "print(user.items)\r\n",
    "print(user.items2)"
   ],
   "outputs": [
    {
     "output_type": "stream",
     "name": "stdout",
     "text": [
      "sato\n",
      "100\n",
      "[]\n",
      "['hoge', 'apple']\n"
     ]
    }
   ],
   "metadata": {}
  },
  {
   "cell_type": "code",
   "execution_count": 25,
   "source": [
    "dataclasses.asdict"
   ],
   "outputs": [
    {
     "output_type": "error",
     "ename": "NameError",
     "evalue": "name 'dataclasses' is not defined",
     "traceback": [
      "\u001b[1;31m---------------------------------------------------------------------------\u001b[0m",
      "\u001b[1;31mNameError\u001b[0m                                 Traceback (most recent call last)",
      "\u001b[1;32m~\\AppData\\Local\\Temp/ipykernel_22716/1235562261.py\u001b[0m in \u001b[0;36m<module>\u001b[1;34m\u001b[0m\n\u001b[1;32m----> 1\u001b[1;33m \u001b[0mdataclasses\u001b[0m\u001b[1;33m.\u001b[0m\u001b[0masdict\u001b[0m\u001b[1;33m\u001b[0m\u001b[1;33m\u001b[0m\u001b[0m\n\u001b[0m",
      "\u001b[1;31mNameError\u001b[0m: name 'dataclasses' is not defined"
     ]
    }
   ],
   "metadata": {}
  },
  {
   "cell_type": "code",
   "execution_count": 21,
   "source": [
    "\r\n",
    "@dataclass(frozen=True)\r\n",
    "class User:\r\n",
    "    name: str\r\n",
    "    age: int=20\r\n",
    "\r\n",
    "user = User('変更不可',100000)\r\n",
    "print(user.name)\r\n",
    "print(user.age)\r\n",
    "# どちらも変更できない\r\n",
    "user.name = '変更したい'\r\n",
    "user.age = 1000"
   ],
   "outputs": [
    {
     "output_type": "stream",
     "name": "stdout",
     "text": [
      "変更不可\n",
      "100000\n"
     ]
    },
    {
     "output_type": "error",
     "ename": "FrozenInstanceError",
     "evalue": "cannot assign to field 'name'",
     "traceback": [
      "\u001b[1;31m---------------------------------------------------------------------------\u001b[0m",
      "\u001b[1;31mFrozenInstanceError\u001b[0m                       Traceback (most recent call last)",
      "\u001b[1;32m~\\AppData\\Local\\Temp/ipykernel_22716/352945900.py\u001b[0m in \u001b[0;36m<module>\u001b[1;34m\u001b[0m\n\u001b[0;32m      8\u001b[0m \u001b[0mprint\u001b[0m\u001b[1;33m(\u001b[0m\u001b[0muser\u001b[0m\u001b[1;33m.\u001b[0m\u001b[0mage\u001b[0m\u001b[1;33m)\u001b[0m\u001b[1;33m\u001b[0m\u001b[1;33m\u001b[0m\u001b[0m\n\u001b[0;32m      9\u001b[0m \u001b[1;31m# どちらも変更できない\u001b[0m\u001b[1;33m\u001b[0m\u001b[1;33m\u001b[0m\u001b[1;33m\u001b[0m\u001b[0m\n\u001b[1;32m---> 10\u001b[1;33m \u001b[0muser\u001b[0m\u001b[1;33m.\u001b[0m\u001b[0mname\u001b[0m \u001b[1;33m=\u001b[0m \u001b[1;34m'変更したい'\u001b[0m\u001b[1;33m\u001b[0m\u001b[1;33m\u001b[0m\u001b[0m\n\u001b[0m\u001b[0;32m     11\u001b[0m \u001b[0muser\u001b[0m\u001b[1;33m.\u001b[0m\u001b[0mage\u001b[0m \u001b[1;33m=\u001b[0m \u001b[1;36m1000\u001b[0m\u001b[1;33m\u001b[0m\u001b[1;33m\u001b[0m\u001b[0m\n",
      "\u001b[1;32m<string>\u001b[0m in \u001b[0;36m__setattr__\u001b[1;34m(self, name, value)\u001b[0m\n",
      "\u001b[1;31mFrozenInstanceError\u001b[0m: cannot assign to field 'name'"
     ]
    }
   ],
   "metadata": {}
  },
  {
   "cell_type": "code",
   "execution_count": 36,
   "source": [
    "import dataclasses\r\n",
    "# from dataclasses import asdict\r\n",
    "\r\n",
    "@dataclass(frozen=True)\r\n",
    "class User:\r\n",
    "    name: str\r\n",
    "    age: int=20\r\n",
    "\r\n",
    "user = User('変更不可',100000)\r\n",
    "result = dataclasses.asdict(user)\r\n",
    "result2 = dataclasses.astuple(user)\r\n",
    "print(result)\r\n",
    "print(result2)"
   ],
   "outputs": [
    {
     "output_type": "stream",
     "name": "stdout",
     "text": [
      "変更不可\n",
      "100000\n",
      "{'name': '変更不可', 'age': 100000}\n",
      "('変更不可', 100000)\n"
     ]
    }
   ],
   "metadata": {}
  },
  {
   "cell_type": "code",
   "execution_count": null,
   "source": [],
   "outputs": [],
   "metadata": {}
  }
 ],
 "metadata": {
  "orig_nbformat": 4,
  "language_info": {
   "name": "python",
   "version": "3.8.10",
   "mimetype": "text/x-python",
   "codemirror_mode": {
    "name": "ipython",
    "version": 3
   },
   "pygments_lexer": "ipython3",
   "nbconvert_exporter": "python",
   "file_extension": ".py"
  },
  "kernelspec": {
   "name": "python3",
   "display_name": "Python 3.8.10 64-bit ('rake4': conda)"
  },
  "interpreter": {
   "hash": "dd5a840675b4b7a0124460e0160a18be5bf8441ea5223e9a03f358a511ddc22e"
  }
 },
 "nbformat": 4,
 "nbformat_minor": 2
}