{
 "cells": [
  {
   "cell_type": "code",
   "execution_count": 1,
   "id": "1c0f7f3f-b99c-4357-93a7-21873365beb4",
   "metadata": {},
   "outputs": [],
   "source": [
    "# タスクごとに連番を振る\n",
    "\n",
    "# pythonにやってほしいこと\n",
    "# - URLを開く\n",
    "# - エクスプローラーを開く\n",
    "\n",
    "# - エクセルを開く\n",
    "# - 隠れているシートを開く\n"
   ]
  },
  {
   "cell_type": "code",
   "execution_count": 32,
   "id": "80845f9c-6c2a-4849-abad-4c1b5f1bfa90",
   "metadata": {},
   "outputs": [
    {
     "data": {
      "text/plain": [
       "True"
      ]
     },
     "execution_count": 32,
     "metadata": {},
     "output_type": "execute_result"
    }
   ],
   "source": [
    "import webbrowser\n",
    "URL='https://www.google.com'\n",
    "CHROME_PATH=\"C:\\Program Files\\Google\\Chrome\\Application\\chrome.exe\"\n",
    "# %sの意味が訳ワカメだが一応これでできる\n",
    "browser = webbrowser.get('\"C:\\Program Files\\Google\\Chrome\\Application\\chrome.exe\" %s')\n",
    "browser.open(url)"
   ]
  },
  {
   "cell_type": "code",
   "execution_count": 35,
   "id": "b1bbad1c-fca2-489f-9ee5-e480650572ce",
   "metadata": {},
   "outputs": [
    {
     "data": {
      "text/plain": [
       "<subprocess.Popen at 0x2698535c4c0>"
      ]
     },
     "execution_count": 35,
     "metadata": {},
     "output_type": "execute_result"
    }
   ],
   "source": [
    "import subprocess\n",
    "EXCEL = r'C:\\Users\\thyt\\SELF_S\\python\\20220219_monthly.xlsx'\n",
    "FOLDER = r'C:\\Users\\thyt\\Desktop\\TMP'\n",
    "\n",
    "# Windowsの場合は、キーワード引数shellにTrueを指定。これにより指定のコマンドはシェルつまりコマンドプロンプトによって実行されることになります\n",
    "subprocess.Popen(['start', EXCEL], shell=True)\n",
    "subprocess.Popen(['explorer', FOLDER])\n",
    "\n"
   ]
  },
  {
   "cell_type": "code",
   "execution_count": 42,
   "id": "34809a97-70b0-46c9-ae0f-b9369b3d8749",
   "metadata": {},
   "outputs": [],
   "source": [
    "# import openpyxl\n",
    " \n",
    "EXCEL = r'C:\\Users\\thyt\\SELF_S\\python\\20220219_monthly.xlsx'\n",
    "excelBook = openpyxl.load_workbook(EXCEL)\n",
    "# #ファイルに名前を付けて保存\n",
    "excelBook.save('test.xlsx')"
   ]
  },
  {
   "cell_type": "code",
   "execution_count": null,
   "id": "cb56ec68-2234-44a4-9fdb-364d93865459",
   "metadata": {},
   "outputs": [],
   "source": []
  },
  {
   "cell_type": "code",
   "execution_count": null,
   "id": "22641e98-bb46-4cac-9f5e-206923e1ecf5",
   "metadata": {},
   "outputs": [],
   "source": []
  },
  {
   "cell_type": "code",
   "execution_count": null,
   "id": "e97320e6-0579-4af8-9f05-dbbc3d2a3930",
   "metadata": {},
   "outputs": [],
   "source": []
  },
  {
   "cell_type": "code",
   "execution_count": 47,
   "id": "051561cf-a038-43fb-bf4e-a24729a676ff",
   "metadata": {},
   "outputs": [],
   "source": [
    "from openpyxl import Workbook\n",
    "wb = Workbook()\n"
   ]
  },
  {
   "cell_type": "code",
   "execution_count": 48,
   "id": "706177a0-fb1c-49e6-be63-3a771712c232",
   "metadata": {},
   "outputs": [],
   "source": [
    "ws = wb.active"
   ]
  },
  {
   "cell_type": "code",
   "execution_count": 50,
   "id": "8787b839-ffe4-4e01-b0f4-a0161a2415a2",
   "metadata": {},
   "outputs": [],
   "source": [
    "ws2 = wb.create_sheet(\"Mysheet\", 0) "
   ]
  },
  {
   "cell_type": "code",
   "execution_count": 52,
   "id": "49de76c6-14b2-407a-849c-2fbfb31767db",
   "metadata": {},
   "outputs": [],
   "source": [
    "ws.title = \"New Title\""
   ]
  },
  {
   "cell_type": "code",
   "execution_count": 53,
   "id": "efb68341-eb15-4bc8-80f6-e9914ab04edc",
   "metadata": {},
   "outputs": [
    {
     "name": "stdout",
     "output_type": "stream",
     "text": [
      "['Mysheet', 'New Title']\n"
     ]
    }
   ],
   "source": [
    "print(wb.sheetnames)"
   ]
  },
  {
   "cell_type": "code",
   "execution_count": 55,
   "id": "2ad7ced8-78df-4dcc-ba40-156ed5e20378",
   "metadata": {},
   "outputs": [],
   "source": [
    "c = ws['A4']\n",
    "ws['A4'] = 4"
   ]
  },
  {
   "cell_type": "code",
   "execution_count": 56,
   "id": "c9173721-3d41-46a3-9b42-28589d489ecc",
   "metadata": {},
   "outputs": [],
   "source": [
    "d = ws.cell(row=4, column=2, value=10)"
   ]
  },
  {
   "cell_type": "code",
   "execution_count": 57,
   "id": "560e9881-a520-46b5-a065-a542b332eda5",
   "metadata": {},
   "outputs": [],
   "source": [
    "wb.save('balances.xlsx')"
   ]
  },
  {
   "cell_type": "code",
   "execution_count": null,
   "id": "eb5aad50-bb6e-4b33-9e7a-1ac9517e3001",
   "metadata": {},
   "outputs": [],
   "source": []
  },
  {
   "cell_type": "code",
   "execution_count": null,
   "id": "d6869731-42dc-40a9-84e5-4bd0bf8011e7",
   "metadata": {},
   "outputs": [],
   "source": []
  },
  {
   "cell_type": "code",
   "execution_count": null,
   "id": "5c7d2e1f-26cc-40fa-854d-5534f4edf1fb",
   "metadata": {},
   "outputs": [],
   "source": []
  },
  {
   "cell_type": "code",
   "execution_count": null,
   "id": "a667c8c5-8e6a-4bdb-8bca-2bec08803ee7",
   "metadata": {},
   "outputs": [],
   "source": []
  }
 ],
 "metadata": {
  "kernelspec": {
   "display_name": "Python 3 (ipykernel)",
   "language": "python",
   "name": "python3"
  },
  "language_info": {
   "codemirror_mode": {
    "name": "ipython",
    "version": 3
   },
   "file_extension": ".py",
   "mimetype": "text/x-python",
   "name": "python",
   "nbconvert_exporter": "python",
   "pygments_lexer": "ipython3",
   "version": "3.8.0"
  }
 },
 "nbformat": 4,
 "nbformat_minor": 5
}
