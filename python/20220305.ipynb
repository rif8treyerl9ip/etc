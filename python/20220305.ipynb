{
 "cells": [
  {
   "cell_type": "code",
   "execution_count": 127,
   "metadata": {},
   "outputs": [
    {
     "name": "stdout",
     "output_type": "stream",
     "text": [
      "20220305.xlsxを20220305.xlsxに変更\n",
      "20220305_sagyou.sqlを20220305_sagyou.sqlに変更\n"
     ]
    }
   ],
   "source": [
    "'''\n",
    "作成物直下のyyyymmddから始まるファイルの日付を今日の日付に置き換えるスクリプト。\n",
    "yyyymmddと1文字以上含むディレクトリも取得してしまうが、そのようなディレクトリが存在するケースで使用不可。\n",
    "\n",
    "'''\n",
    "\n",
    "import glob\n",
    "import re\n",
    "import os\n",
    "import datetime\n",
    "\n",
    "\n",
    "today = datetime.datetime.today().strftime('%Y%m%d')\n",
    "FILE_DIR = 'C:/Users/thyt/SELF_S/shellscrpt/test/日本語ディレクトリ'  # 作成物へのパス\n",
    "filepath = glob.glob(f'{FILE_DIR}/*')\n",
    "pattern = re.compile(r'[0-9]{8}.*') # yyyymmddと1文字以上で構成されるファイルとディレクトリにマッチ\n",
    "\n",
    "for file in filepath:\n",
    "    # print(file.split('\\\\')[1])\n",
    "    filename = file.split('\\\\')[1]\n",
    "\n",
    "    if None != pattern.match(filename):\n",
    "        filepath_ = (file.split('\\\\')[0]+'/'+file.split('\\\\')[1])\n",
    "        savename = today+filename[8:]  # yyyymmdd以降の文字列\n",
    "        os.rename(f'{filepath_}', f'{FILE_DIR}/{savename}')\n",
    "        print(f'{filename}を{savename}に変更した')\n"
   ]
  }
 ],
 "metadata": {
  "interpreter": {
   "hash": "dd5a840675b4b7a0124460e0160a18be5bf8441ea5223e9a03f358a511ddc22e"
  },
  "kernelspec": {
   "display_name": "Python 3.8.10 64-bit ('rake4': conda)",
   "name": "python3"
  },
  "language_info": {
   "codemirror_mode": {
    "name": "ipython",
    "version": 3
   },
   "file_extension": ".py",
   "mimetype": "text/x-python",
   "name": "python",
   "nbconvert_exporter": "python",
   "pygments_lexer": "ipython3",
   "version": "3.9.5"
  },
  "orig_nbformat": 4
 },
 "nbformat": 4,
 "nbformat_minor": 2
}
