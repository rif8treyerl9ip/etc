{
 "cells": [
  {
   "cell_type": "code",
   "execution_count": 1,
   "metadata": {},
   "outputs": [
    {
     "name": "stdout",
     "output_type": "stream",
     "text": [
      "        Col1 Col2\n",
      "0   20200101    A\n",
      "1   20200102    A\n",
      "2   20210101    B\n",
      "3   20210102    B\n",
      "4   20190101    C\n",
      "5   20190102    C\n",
      "6   20190103    C\n",
      "7   20180101    D\n",
      "8   20180102    D\n",
      "9   20180103    D\n",
      "10  20180104    D\n"
     ]
    }
   ],
   "source": [
    "import pandas as pd\n",
    "df = pd.DataFrame(({'Col1':[20200101,20200102,20210101,20210102,20190101,20190102,20190103,20180101,20180102,20180103,20180104],'Col2':[\"A\",\"A\",\"B\",\"B\",\"C\",\"C\",\"C\",\"D\",\"D\",\"D\",\"D\"]}))\n",
    "print(df)"
   ]
  },
  {
   "cell_type": "code",
   "execution_count": 5,
   "metadata": {},
   "outputs": [
    {
     "name": "stdout",
     "output_type": "stream",
     "text": [
      "       Col1 Col2\n",
      "0  20200101    A\n",
      "1  20200102    A\n",
      "2  20210101    B\n",
      "3  20210102    B\n",
      "4  20190101    C\n",
      "5  20190102    C\n",
      "7  20180101    D\n",
      "8  20180102    D\n"
     ]
    }
   ],
   "source": [
    "minrows = df.groupby('Col2').count().min()[0]\n",
    "df_min = pd.concat([gdf[:minrows] for _, gdf in df.groupby('Col2')])\n",
    "print(df_min)"
   ]
  },
  {
   "cell_type": "code",
   "execution_count": 4,
   "metadata": {},
   "outputs": [
    {
     "ename": "SyntaxError",
     "evalue": "invalid syntax (Temp/ipykernel_23564/1327335454.py, line 1)",
     "output_type": "error",
     "traceback": [
      "\u001b[1;36m  File \u001b[1;32m\"C:\\Users\\thyt\\AppData\\Local\\Temp/ipykernel_23564/1327335454.py\"\u001b[1;36m, line \u001b[1;32m1\u001b[0m\n\u001b[1;33m    [for _, gdf in df.groupby('Col2')]\u001b[0m\n\u001b[1;37m     ^\u001b[0m\n\u001b[1;31mSyntaxError\u001b[0m\u001b[1;31m:\u001b[0m invalid syntax\n"
     ]
    }
   ],
   "source": [
    "for _, gdf in df.groupby('Col2')"
   ]
  },
  {
   "cell_type": "code",
   "execution_count": null,
   "metadata": {},
   "outputs": [],
   "source": []
  },
  {
   "cell_type": "code",
   "execution_count": null,
   "metadata": {},
   "outputs": [],
   "source": []
  }
 ],
 "metadata": {
  "interpreter": {
   "hash": "bb3752a082a3253a85bb3f97d3fb88550cfd603b950f3680aa8f9498edd90b9d"
  },
  "kernelspec": {
   "display_name": "Python 3.8.10 64-bit ('rake4.1_pip': conda)",
   "name": "python3"
  },
  "language_info": {
   "codemirror_mode": {
    "name": "ipython",
    "version": 3
   },
   "file_extension": ".py",
   "mimetype": "text/x-python",
   "name": "python",
   "nbconvert_exporter": "python",
   "pygments_lexer": "ipython3",
   "version": "3.8.10"
  },
  "orig_nbformat": 4
 },
 "nbformat": 4,
 "nbformat_minor": 2
}
