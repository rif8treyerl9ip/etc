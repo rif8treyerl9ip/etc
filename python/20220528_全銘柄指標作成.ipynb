{
 "cells": [
  {
   "cell_type": "code",
   "execution_count": 1,
   "id": "56593ad2-3526-4474-86e3-ee663320902e",
   "metadata": {},
   "outputs": [],
   "source": [
    "# - 売り上げ高\n",
    "# - 営業利益\n",
    "# まで\n",
    "# かなりめんどくさい…\n",
    "\n",
    "# todo \n",
    "# 営業活動キャッシュフロー\n",
    "# 営業活動キャッシュフロー/売上=営業キャッシュフローマージン計算\n",
    "# 営業キャッシュフローマージンをendDatetimeで降順ソートして直近5年(出せるとこまで、2年が限界か？)\n",
    "# 算出し、15%以上が2年以上ならOperating_cash_flow_margin_listに銘柄を追加"
   ]
  },
  {
   "cell_type": "code",
   "execution_count": 2,
   "id": "8d11fc9f-8885-43c4-ae16-f03cd9850f59",
   "metadata": {},
   "outputs": [
    {
     "name": "stdout",
     "output_type": "stream",
     "text": [
      "60\n",
      "20\n"
     ]
    }
   ],
   "source": [
    "import glob\n",
    "import os\n",
    "\n",
    "from arelle.ModelValue import qname\n",
    "from arelle import Cntlr\n",
    "import numpy as np\n",
    "\n",
    "import pandas as pd\n",
    "pd.reset_option('display.max_rows')\n",
    "print(pd.options.display.max_rows)\n",
    "pd.reset_option('display.max_columns')\n",
    "print(pd.options.display.max_columns)\n",
    "import plotly.graph_objects as go\n",
    "\n",
    "import stock_research as sr\n",
    "taiouhyou = sr.taiouhyou\n"
   ]
  },
  {
   "cell_type": "code",
   "execution_count": 3,
   "id": "0b6ff59d-b695-4557-bb6d-130ca0668f40",
   "metadata": {},
   "outputs": [
    {
     "name": "stdout",
     "output_type": "stream",
     "text": [
      "../warehouse/stock/created\\submitted_doc_list_only_stock_20220101_20220428.csv\n",
      "../warehouse/stock/created\\submitted_doc_list_only_stock_20220301_20220428.csv\n",
      "../warehouse/stock/created\\submitted_doc_list_only_stock_20220330_20220428.csv\n"
     ]
    }
   ],
   "source": [
    "stock_code_list_path = '../warehouse/stock/created/submitted_doc_list_only_stock*.csv'\n",
    "files = glob.glob(stock_code_list_path)\n",
    "for file in files:\n",
    "    print(file)"
   ]
  },
  {
   "cell_type": "code",
   "execution_count": 4,
   "id": "dfd17a55-e24b-48cb-bba1-6bee766c76bb",
   "metadata": {},
   "outputs": [],
   "source": [
    "orig_data_path = '../warehouse/stock/original_data/'\n",
    "stock_code_list = '../warehouse/stock/created/submitted_doc_list_only_stock_20220101_20220428.csv'\n",
    "code_df = pd.read_csv(stock_code_list)"
   ]
  },
  {
   "cell_type": "code",
   "execution_count": 5,
   "id": "41f07fa1-6a9e-43a7-9e3f-88d235bdbee5",
   "metadata": {},
   "outputs": [],
   "source": [
    "import warnings\n",
    "warnings.filterwarnings('ignore')"
   ]
  },
  {
   "cell_type": "code",
   "execution_count": 10,
   "id": "d6a45393-68f3-4ac9-b943-2c6057036420",
   "metadata": {},
   "outputs": [
    {
     "data": {
      "text/plain": [
       "'../warehouse/stock/original_data/2022-03-11/S100NN9G/XBRL/PublicDoc/*.xbrl'"
      ]
     },
     "execution_count": 10,
     "metadata": {},
     "output_type": "execute_result"
    }
   ],
   "source": [
    "file_path"
   ]
  },
  {
   "cell_type": "code",
   "execution_count": 15,
   "id": "47ee98a3-a26a-45d9-a787-3c94bcc2ab63",
   "metadata": {},
   "outputs": [
    {
     "data": {
      "text/plain": [
       "(array([486], dtype=int64),)"
      ]
     },
     "execution_count": 15,
     "metadata": {},
     "output_type": "execute_result"
    }
   ],
   "source": [
    "np.where(np.sort(code_df['secCode'].unique())==6697)\n",
    "# np.sort(code_df['secCode'].unique())[487:]"
   ]
  },
  {
   "cell_type": "code",
   "execution_count": 24,
   "id": "8ba83d68-926c-4ca7-a964-a1ccdb87b99a",
   "metadata": {},
   "outputs": [
    {
     "name": "stdout",
     "output_type": "stream",
     "text": [
      "0 / 686\n",
      "50 / 686\n",
      "100 / 686\n",
      "150 / 686\n",
      "200 / 686\n",
      "250 / 686\n",
      "300 / 686\n"
     ]
    },
    {
     "ename": "KeyboardInterrupt",
     "evalue": "",
     "output_type": "error",
     "traceback": [
      "\u001b[1;31m---------------------------------------------------------------------------\u001b[0m",
      "\u001b[1;31mKeyboardInterrupt\u001b[0m                         Traceback (most recent call last)",
      "\u001b[1;32m~\\AppData\\Local\\Temp/ipykernel_24136/3819073829.py\u001b[0m in \u001b[0;36m<module>\u001b[1;34m\u001b[0m\n\u001b[0;32m     15\u001b[0m     \u001b[0mfile_path\u001b[0m \u001b[1;33m=\u001b[0m \u001b[0morig_data_path\u001b[0m \u001b[1;33m+\u001b[0m \u001b[0mdate\u001b[0m\u001b[1;33m[\u001b[0m\u001b[1;33m:\u001b[0m\u001b[1;36m10\u001b[0m\u001b[1;33m]\u001b[0m \u001b[1;33m+\u001b[0m \u001b[1;34m'/'\u001b[0m \u001b[1;33m+\u001b[0m \u001b[0mdoc_id\u001b[0m \u001b[1;33m+\u001b[0m \u001b[1;34m'/XBRL/PublicDoc/*.xbrl'\u001b[0m\u001b[1;33m\u001b[0m\u001b[1;33m\u001b[0m\u001b[0m\n\u001b[0;32m     16\u001b[0m     \u001b[0mfile_path\u001b[0m \u001b[1;33m=\u001b[0m \u001b[0mglob\u001b[0m\u001b[1;33m.\u001b[0m\u001b[0mglob\u001b[0m\u001b[1;33m(\u001b[0m\u001b[0mfile_path\u001b[0m\u001b[1;33m)\u001b[0m\u001b[1;33m[\u001b[0m\u001b[1;36m0\u001b[0m\u001b[1;33m]\u001b[0m\u001b[1;33m\u001b[0m\u001b[1;33m\u001b[0m\u001b[0m\n\u001b[1;32m---> 17\u001b[1;33m     \u001b[0mfact_df\u001b[0m \u001b[1;33m=\u001b[0m \u001b[0msr\u001b[0m\u001b[1;33m.\u001b[0m\u001b[0mread_xbrl\u001b[0m\u001b[1;33m(\u001b[0m\u001b[0mfile_path\u001b[0m\u001b[1;33m,\u001b[0m\u001b[0mstock_code\u001b[0m\u001b[1;33m)\u001b[0m\u001b[1;33m\u001b[0m\u001b[1;33m\u001b[0m\u001b[0m\n\u001b[0m\u001b[0;32m     18\u001b[0m \u001b[1;33m\u001b[0m\u001b[0m\n\u001b[0;32m     19\u001b[0m     \u001b[0mmask\u001b[0m \u001b[1;33m=\u001b[0m \u001b[0mfact_df\u001b[0m\u001b[1;33m.\u001b[0m\u001b[0mcontextID\u001b[0m\u001b[1;33m.\u001b[0m\u001b[0mstr\u001b[0m\u001b[1;33m.\u001b[0m\u001b[0mcontains\u001b[0m\u001b[1;33m(\u001b[0m\u001b[1;34m'NonConsolidated'\u001b[0m\u001b[1;33m)\u001b[0m\u001b[1;33m\u001b[0m\u001b[1;33m\u001b[0m\u001b[0m\n",
      "\u001b[1;32m~\\SELF_S\\python\\stock_research.py\u001b[0m in \u001b[0;36mread_xbrl\u001b[1;34m(file_path, stock_code)\u001b[0m\n\u001b[0;32m    127\u001b[0m \u001b[1;32mdef\u001b[0m \u001b[0mread_xbrl\u001b[0m\u001b[1;33m(\u001b[0m\u001b[0mfile_path\u001b[0m\u001b[1;33m,\u001b[0m\u001b[0mstock_code\u001b[0m\u001b[1;33m)\u001b[0m \u001b[1;33m->\u001b[0m \u001b[0mpd\u001b[0m\u001b[1;33m.\u001b[0m\u001b[0mDataFrame\u001b[0m\u001b[1;33m:\u001b[0m\u001b[1;33m\u001b[0m\u001b[1;33m\u001b[0m\u001b[0m\n\u001b[0;32m    128\u001b[0m     \u001b[0mctrl\u001b[0m \u001b[1;33m=\u001b[0m \u001b[0mCntlr\u001b[0m\u001b[1;33m.\u001b[0m\u001b[0mCntlr\u001b[0m\u001b[1;33m(\u001b[0m\u001b[0mlogFileName\u001b[0m\u001b[1;33m=\u001b[0m\u001b[1;34m'logToPrint'\u001b[0m\u001b[1;33m)\u001b[0m\u001b[1;33m\u001b[0m\u001b[1;33m\u001b[0m\u001b[0m\n\u001b[1;32m--> 129\u001b[1;33m     \u001b[0mmodelXbrl\u001b[0m \u001b[1;33m=\u001b[0m \u001b[0mctrl\u001b[0m\u001b[1;33m.\u001b[0m\u001b[0mmodelManager\u001b[0m\u001b[1;33m.\u001b[0m\u001b[0mload\u001b[0m\u001b[1;33m(\u001b[0m\u001b[0mfile_path\u001b[0m\u001b[1;33m)\u001b[0m\u001b[1;33m\u001b[0m\u001b[1;33m\u001b[0m\u001b[0m\n\u001b[0m\u001b[0;32m    130\u001b[0m \u001b[1;33m\u001b[0m\u001b[0m\n\u001b[0;32m    131\u001b[0m     fact_df = pd.DataFrame(\n",
      "\u001b[1;32m~\\tfgpu2\\.venv\\lib\\site-packages\\arelle\\ModelManager.py\u001b[0m in \u001b[0;36mload\u001b[1;34m(self, filesource, nextaction, taxonomyPackages, **kwargs)\u001b[0m\n\u001b[0;32m    156\u001b[0m                 \u001b[1;32mbreak\u001b[0m \u001b[1;31m# custom loader did the loading\u001b[0m\u001b[1;33m\u001b[0m\u001b[1;33m\u001b[0m\u001b[0m\n\u001b[0;32m    157\u001b[0m         \u001b[1;32mif\u001b[0m \u001b[0mmodelXbrl\u001b[0m \u001b[1;32mis\u001b[0m \u001b[1;32mNone\u001b[0m\u001b[1;33m:\u001b[0m  \u001b[1;31m# use default xbrl loader\u001b[0m\u001b[1;33m\u001b[0m\u001b[1;33m\u001b[0m\u001b[0m\n\u001b[1;32m--> 158\u001b[1;33m             \u001b[0mmodelXbrl\u001b[0m \u001b[1;33m=\u001b[0m \u001b[0mModelXbrl\u001b[0m\u001b[1;33m.\u001b[0m\u001b[0mload\u001b[0m\u001b[1;33m(\u001b[0m\u001b[0mself\u001b[0m\u001b[1;33m,\u001b[0m \u001b[0mfilesource\u001b[0m\u001b[1;33m,\u001b[0m \u001b[0mnextaction\u001b[0m\u001b[1;33m,\u001b[0m \u001b[1;33m**\u001b[0m\u001b[0mkwargs\u001b[0m\u001b[1;33m)\u001b[0m\u001b[1;33m\u001b[0m\u001b[1;33m\u001b[0m\u001b[0m\n\u001b[0m\u001b[0;32m    159\u001b[0m         \u001b[0mself\u001b[0m\u001b[1;33m.\u001b[0m\u001b[0mmodelXbrl\u001b[0m \u001b[1;33m=\u001b[0m \u001b[0mmodelXbrl\u001b[0m\u001b[1;33m\u001b[0m\u001b[1;33m\u001b[0m\u001b[0m\n\u001b[0;32m    160\u001b[0m         \u001b[0mself\u001b[0m\u001b[1;33m.\u001b[0m\u001b[0mloadedModelXbrls\u001b[0m\u001b[1;33m.\u001b[0m\u001b[0mappend\u001b[0m\u001b[1;33m(\u001b[0m\u001b[0mself\u001b[0m\u001b[1;33m.\u001b[0m\u001b[0mmodelXbrl\u001b[0m\u001b[1;33m)\u001b[0m\u001b[1;33m\u001b[0m\u001b[1;33m\u001b[0m\u001b[0m\n",
      "\u001b[1;32m~\\tfgpu2\\.venv\\lib\\site-packages\\arelle\\ModelXbrl.py\u001b[0m in \u001b[0;36mload\u001b[1;34m(modelManager, url, nextaction, base, useFileSource, errorCaptureLevel, **kwargs)\u001b[0m\n\u001b[0;32m     67\u001b[0m         \u001b[0mmodelXbrl\u001b[0m\u001b[1;33m.\u001b[0m\u001b[0mcloseFileSource\u001b[0m\u001b[1;33m=\u001b[0m \u001b[1;32mTrue\u001b[0m\u001b[1;33m\u001b[0m\u001b[1;33m\u001b[0m\u001b[0m\n\u001b[0;32m     68\u001b[0m \u001b[1;33m\u001b[0m\u001b[0m\n\u001b[1;32m---> 69\u001b[1;33m     \u001b[0mmodelXbrl\u001b[0m\u001b[1;33m.\u001b[0m\u001b[0mmodelDocument\u001b[0m \u001b[1;33m=\u001b[0m \u001b[0mModelDocument\u001b[0m\u001b[1;33m.\u001b[0m\u001b[0mload\u001b[0m\u001b[1;33m(\u001b[0m\u001b[0mmodelXbrl\u001b[0m\u001b[1;33m,\u001b[0m \u001b[0murl\u001b[0m\u001b[1;33m,\u001b[0m \u001b[0mbase\u001b[0m\u001b[1;33m,\u001b[0m \u001b[0misEntry\u001b[0m\u001b[1;33m=\u001b[0m\u001b[1;32mTrue\u001b[0m\u001b[1;33m,\u001b[0m \u001b[1;33m**\u001b[0m\u001b[0mkwargs\u001b[0m\u001b[1;33m)\u001b[0m\u001b[1;33m\u001b[0m\u001b[1;33m\u001b[0m\u001b[0m\n\u001b[0m\u001b[0;32m     70\u001b[0m \u001b[1;33m\u001b[0m\u001b[0m\n\u001b[0;32m     71\u001b[0m \u001b[1;31m#    print('Model Document' + str(modelXbrl.modelDocument))\u001b[0m\u001b[1;33m\u001b[0m\u001b[1;33m\u001b[0m\u001b[1;33m\u001b[0m\u001b[0m\n",
      "\u001b[1;32m~\\tfgpu2\\.venv\\lib\\site-packages\\arelle\\ModelDocument.py\u001b[0m in \u001b[0;36mload\u001b[1;34m(modelXbrl, uri, base, referringElement, isEntry, isDiscovered, isIncluded, namespace, reloadCache, **kwargs)\u001b[0m\n\u001b[0;32m    332\u001b[0m                 \u001b[0mmodelDocument\u001b[0m\u001b[1;33m.\u001b[0m\u001b[0mlinkbaseDiscover\u001b[0m\u001b[1;33m(\u001b[0m\u001b[0mrootNode\u001b[0m\u001b[1;33m)\u001b[0m\u001b[1;33m\u001b[0m\u001b[1;33m\u001b[0m\u001b[0m\n\u001b[0;32m    333\u001b[0m         \u001b[1;32melif\u001b[0m \u001b[0m_type\u001b[0m \u001b[1;33m==\u001b[0m \u001b[0mType\u001b[0m\u001b[1;33m.\u001b[0m\u001b[0mINSTANCE\u001b[0m\u001b[1;33m:\u001b[0m\u001b[1;33m\u001b[0m\u001b[1;33m\u001b[0m\u001b[0m\n\u001b[1;32m--> 334\u001b[1;33m             \u001b[0mmodelDocument\u001b[0m\u001b[1;33m.\u001b[0m\u001b[0minstanceDiscover\u001b[0m\u001b[1;33m(\u001b[0m\u001b[0mrootNode\u001b[0m\u001b[1;33m)\u001b[0m\u001b[1;33m\u001b[0m\u001b[1;33m\u001b[0m\u001b[0m\n\u001b[0m\u001b[0;32m    335\u001b[0m         \u001b[1;32melif\u001b[0m \u001b[0m_type\u001b[0m \u001b[1;33m==\u001b[0m \u001b[0mType\u001b[0m\u001b[1;33m.\u001b[0m\u001b[0mINLINEXBRL\u001b[0m\u001b[1;33m:\u001b[0m\u001b[1;33m\u001b[0m\u001b[1;33m\u001b[0m\u001b[0m\n\u001b[0;32m    336\u001b[0m             \u001b[1;31m# slow\u001b[0m\u001b[1;33m\u001b[0m\u001b[1;33m\u001b[0m\u001b[1;33m\u001b[0m\u001b[0m\n",
      "\u001b[1;32m~\\tfgpu2\\.venv\\lib\\site-packages\\arelle\\ModelDocument.py\u001b[0m in \u001b[0;36minstanceDiscover\u001b[1;34m(self, xbrlElement)\u001b[0m\n\u001b[0;32m   1144\u001b[0m \u001b[1;33m\u001b[0m\u001b[0m\n\u001b[0;32m   1145\u001b[0m     \u001b[1;32mdef\u001b[0m \u001b[0minstanceDiscover\u001b[0m\u001b[1;33m(\u001b[0m\u001b[0mself\u001b[0m\u001b[1;33m,\u001b[0m \u001b[0mxbrlElement\u001b[0m\u001b[1;33m)\u001b[0m\u001b[1;33m:\u001b[0m\u001b[1;33m\u001b[0m\u001b[1;33m\u001b[0m\u001b[0m\n\u001b[1;32m-> 1146\u001b[1;33m         \u001b[0mself\u001b[0m\u001b[1;33m.\u001b[0m\u001b[0mschemaLinkbaseRefsDiscover\u001b[0m\u001b[1;33m(\u001b[0m\u001b[0mxbrlElement\u001b[0m\u001b[1;33m)\u001b[0m\u001b[1;33m\u001b[0m\u001b[1;33m\u001b[0m\u001b[0m\n\u001b[0m\u001b[0;32m   1147\u001b[0m         \u001b[1;32mif\u001b[0m \u001b[1;32mnot\u001b[0m \u001b[0mself\u001b[0m\u001b[1;33m.\u001b[0m\u001b[0mskipDTS\u001b[0m\u001b[1;33m:\u001b[0m\u001b[1;33m\u001b[0m\u001b[1;33m\u001b[0m\u001b[0m\n\u001b[0;32m   1148\u001b[0m             \u001b[0mself\u001b[0m\u001b[1;33m.\u001b[0m\u001b[0mlinkbaseDiscover\u001b[0m\u001b[1;33m(\u001b[0m\u001b[0mxbrlElement\u001b[0m\u001b[1;33m,\u001b[0m\u001b[0minInstance\u001b[0m\u001b[1;33m=\u001b[0m\u001b[1;32mTrue\u001b[0m\u001b[1;33m)\u001b[0m \u001b[1;31m# for role/arcroleRefs and footnoteLinks\u001b[0m\u001b[1;33m\u001b[0m\u001b[1;33m\u001b[0m\u001b[0m\n",
      "\u001b[1;32m~\\tfgpu2\\.venv\\lib\\site-packages\\arelle\\ModelDocument.py\u001b[0m in \u001b[0;36mschemaLinkbaseRefsDiscover\u001b[1;34m(self, tree)\u001b[0m\n\u001b[0;32m   1007\u001b[0m             \u001b[1;32mfor\u001b[0m \u001b[0melement\u001b[0m \u001b[1;32min\u001b[0m \u001b[0mtree\u001b[0m\u001b[1;33m.\u001b[0m\u001b[0miterdescendants\u001b[0m\u001b[1;33m(\u001b[0m\u001b[0mtag\u001b[0m\u001b[1;33m=\u001b[0m\u001b[0mrefln\u001b[0m\u001b[1;33m)\u001b[0m\u001b[1;33m:\u001b[0m\u001b[1;33m\u001b[0m\u001b[1;33m\u001b[0m\u001b[0m\n\u001b[0;32m   1008\u001b[0m                 \u001b[1;32mif\u001b[0m \u001b[0misinstance\u001b[0m\u001b[1;33m(\u001b[0m\u001b[0melement\u001b[0m\u001b[1;33m,\u001b[0m\u001b[0mModelObject\u001b[0m\u001b[1;33m)\u001b[0m\u001b[1;33m:\u001b[0m\u001b[1;33m\u001b[0m\u001b[1;33m\u001b[0m\u001b[0m\n\u001b[1;32m-> 1009\u001b[1;33m                     \u001b[0mself\u001b[0m\u001b[1;33m.\u001b[0m\u001b[0mschemaLinkbaseRefDiscover\u001b[0m\u001b[1;33m(\u001b[0m\u001b[0melement\u001b[0m\u001b[1;33m)\u001b[0m\u001b[1;33m\u001b[0m\u001b[1;33m\u001b[0m\u001b[0m\n\u001b[0m\u001b[0;32m   1010\u001b[0m \u001b[1;33m\u001b[0m\u001b[0m\n\u001b[0;32m   1011\u001b[0m     \u001b[1;32mdef\u001b[0m \u001b[0mschemaLinkbaseRefDiscover\u001b[0m\u001b[1;33m(\u001b[0m\u001b[0mself\u001b[0m\u001b[1;33m,\u001b[0m \u001b[0melement\u001b[0m\u001b[1;33m)\u001b[0m\u001b[1;33m:\u001b[0m\u001b[1;33m\u001b[0m\u001b[1;33m\u001b[0m\u001b[0m\n",
      "\u001b[1;32m~\\tfgpu2\\.venv\\lib\\site-packages\\arelle\\ModelDocument.py\u001b[0m in \u001b[0;36mschemaLinkbaseRefDiscover\u001b[1;34m(self, element)\u001b[0m\n\u001b[0;32m   1010\u001b[0m \u001b[1;33m\u001b[0m\u001b[0m\n\u001b[0;32m   1011\u001b[0m     \u001b[1;32mdef\u001b[0m \u001b[0mschemaLinkbaseRefDiscover\u001b[0m\u001b[1;33m(\u001b[0m\u001b[0mself\u001b[0m\u001b[1;33m,\u001b[0m \u001b[0melement\u001b[0m\u001b[1;33m)\u001b[0m\u001b[1;33m:\u001b[0m\u001b[1;33m\u001b[0m\u001b[1;33m\u001b[0m\u001b[0m\n\u001b[1;32m-> 1012\u001b[1;33m         \u001b[1;32mreturn\u001b[0m \u001b[0mself\u001b[0m\u001b[1;33m.\u001b[0m\u001b[0mdiscoverHref\u001b[0m\u001b[1;33m(\u001b[0m\u001b[0melement\u001b[0m\u001b[1;33m,\u001b[0m \u001b[0murlRewritePluginClass\u001b[0m\u001b[1;33m=\u001b[0m\u001b[1;34m\"ModelDocument.InstanceSchemaRefRewriter\"\u001b[0m\u001b[1;33m)\u001b[0m\u001b[1;33m\u001b[0m\u001b[1;33m\u001b[0m\u001b[0m\n\u001b[0m\u001b[0;32m   1013\u001b[0m \u001b[1;33m\u001b[0m\u001b[0m\n\u001b[0;32m   1014\u001b[0m     \u001b[1;32mdef\u001b[0m \u001b[0mlinkbasesDiscover\u001b[0m\u001b[1;33m(\u001b[0m\u001b[0mself\u001b[0m\u001b[1;33m,\u001b[0m \u001b[0mtree\u001b[0m\u001b[1;33m)\u001b[0m\u001b[1;33m:\u001b[0m\u001b[1;33m\u001b[0m\u001b[1;33m\u001b[0m\u001b[0m\n",
      "\u001b[1;32m~\\tfgpu2\\.venv\\lib\\site-packages\\arelle\\ModelDocument.py\u001b[0m in \u001b[0;36mdiscoverHref\u001b[1;34m(self, element, nonDTS, urlRewritePluginClass)\u001b[0m\n\u001b[0;32m   1130\u001b[0m                     \u001b[1;32mfor\u001b[0m \u001b[0mpluginMethod\u001b[0m \u001b[1;32min\u001b[0m \u001b[0mpluginClassMethods\u001b[0m\u001b[1;33m(\u001b[0m\u001b[0murlRewritePluginClass\u001b[0m\u001b[1;33m)\u001b[0m\u001b[1;33m:\u001b[0m\u001b[1;33m\u001b[0m\u001b[1;33m\u001b[0m\u001b[0m\n\u001b[0;32m   1131\u001b[0m                         \u001b[0murl\u001b[0m \u001b[1;33m=\u001b[0m \u001b[0mpluginMethod\u001b[0m\u001b[1;33m(\u001b[0m\u001b[0mself\u001b[0m\u001b[1;33m,\u001b[0m \u001b[0murl\u001b[0m\u001b[1;33m)\u001b[0m\u001b[1;33m\u001b[0m\u001b[1;33m\u001b[0m\u001b[0m\n\u001b[1;32m-> 1132\u001b[1;33m                 \u001b[0mdoc\u001b[0m \u001b[1;33m=\u001b[0m \u001b[0m_newDoc\u001b[0m\u001b[1;33m(\u001b[0m\u001b[0mself\u001b[0m\u001b[1;33m.\u001b[0m\u001b[0mmodelXbrl\u001b[0m\u001b[1;33m,\u001b[0m \u001b[0murl\u001b[0m\u001b[1;33m,\u001b[0m \u001b[0misDiscovered\u001b[0m\u001b[1;33m=\u001b[0m\u001b[1;32mnot\u001b[0m \u001b[0mnonDTS\u001b[0m\u001b[1;33m,\u001b[0m \u001b[0mbase\u001b[0m\u001b[1;33m=\u001b[0m\u001b[0mself\u001b[0m\u001b[1;33m.\u001b[0m\u001b[0mbaseForElement\u001b[0m\u001b[1;33m(\u001b[0m\u001b[0melement\u001b[0m\u001b[1;33m)\u001b[0m\u001b[1;33m,\u001b[0m \u001b[0mreferringElement\u001b[0m\u001b[1;33m=\u001b[0m\u001b[0melement\u001b[0m\u001b[1;33m)\u001b[0m\u001b[1;33m\u001b[0m\u001b[1;33m\u001b[0m\u001b[0m\n\u001b[0m\u001b[0;32m   1133\u001b[0m                 \u001b[1;32mif\u001b[0m \u001b[1;32mnot\u001b[0m \u001b[0mnonDTS\u001b[0m \u001b[1;32mand\u001b[0m \u001b[0mdoc\u001b[0m \u001b[1;32mis\u001b[0m \u001b[1;32mnot\u001b[0m \u001b[1;32mNone\u001b[0m \u001b[1;32mand\u001b[0m \u001b[0mdoc\u001b[0m \u001b[1;32mnot\u001b[0m \u001b[1;32min\u001b[0m \u001b[0mself\u001b[0m\u001b[1;33m.\u001b[0m\u001b[0mreferencesDocument\u001b[0m\u001b[1;33m:\u001b[0m\u001b[1;33m\u001b[0m\u001b[1;33m\u001b[0m\u001b[0m\n\u001b[0;32m   1134\u001b[0m                     \u001b[0mself\u001b[0m\u001b[1;33m.\u001b[0m\u001b[0mreferencesDocument\u001b[0m\u001b[1;33m[\u001b[0m\u001b[0mdoc\u001b[0m\u001b[1;33m]\u001b[0m \u001b[1;33m=\u001b[0m \u001b[0mModelDocumentReference\u001b[0m\u001b[1;33m(\u001b[0m\u001b[1;34m\"href\"\u001b[0m\u001b[1;33m,\u001b[0m \u001b[0melement\u001b[0m\u001b[1;33m)\u001b[0m\u001b[1;33m\u001b[0m\u001b[1;33m\u001b[0m\u001b[0m\n",
      "\u001b[1;32m~\\tfgpu2\\.venv\\lib\\site-packages\\arelle\\ModelDocument.py\u001b[0m in \u001b[0;36mload\u001b[1;34m(modelXbrl, uri, base, referringElement, isEntry, isDiscovered, isIncluded, namespace, reloadCache, **kwargs)\u001b[0m\n\u001b[0;32m    325\u001b[0m         \u001b[1;32melif\u001b[0m \u001b[0m_type\u001b[0m \u001b[1;33m==\u001b[0m \u001b[0mType\u001b[0m\u001b[1;33m.\u001b[0m\u001b[0mSCHEMA\u001b[0m\u001b[1;33m:\u001b[0m\u001b[1;33m\u001b[0m\u001b[1;33m\u001b[0m\u001b[0m\n\u001b[0;32m    326\u001b[0m             \u001b[1;31m# slow\u001b[0m\u001b[1;33m\u001b[0m\u001b[1;33m\u001b[0m\u001b[1;33m\u001b[0m\u001b[0m\n\u001b[1;32m--> 327\u001b[1;33m             \u001b[0mmodelDocument\u001b[0m\u001b[1;33m.\u001b[0m\u001b[0mschemaDiscover\u001b[0m\u001b[1;33m(\u001b[0m\u001b[0mrootNode\u001b[0m\u001b[1;33m,\u001b[0m \u001b[0misIncluded\u001b[0m\u001b[1;33m,\u001b[0m \u001b[0mnamespace\u001b[0m\u001b[1;33m)\u001b[0m\u001b[1;33m\u001b[0m\u001b[1;33m\u001b[0m\u001b[0m\n\u001b[0m\u001b[0;32m    328\u001b[0m             \u001b[1;31m#print(\"SCHEMA: {0:.2f} | {1} {2}\".format(time()-s, isIncluded, namespace))\u001b[0m\u001b[1;33m\u001b[0m\u001b[1;33m\u001b[0m\u001b[1;33m\u001b[0m\u001b[0m\n\u001b[0;32m    329\u001b[0m         \u001b[1;32melif\u001b[0m \u001b[0m_type\u001b[0m \u001b[1;33m==\u001b[0m \u001b[0mType\u001b[0m\u001b[1;33m.\u001b[0m\u001b[0mLINKBASE\u001b[0m\u001b[1;33m:\u001b[0m\u001b[1;33m\u001b[0m\u001b[1;33m\u001b[0m\u001b[0m\n",
      "\u001b[1;32m~\\tfgpu2\\.venv\\lib\\site-packages\\arelle\\ModelDocument.py\u001b[0m in \u001b[0;36mschemaDiscover\u001b[1;34m(self, rootElement, isIncluded, namespace)\u001b[0m\n\u001b[0;32m    870\u001b[0m         \u001b[1;31m# self.definesUTR = any(ns == XbrlConst.utr for ns in rootElement.nsmap.values())\u001b[0m\u001b[1;33m\u001b[0m\u001b[1;33m\u001b[0m\u001b[1;33m\u001b[0m\u001b[0m\n\u001b[0;32m    871\u001b[0m         \u001b[1;32mtry\u001b[0m\u001b[1;33m:\u001b[0m\u001b[1;33m\u001b[0m\u001b[1;33m\u001b[0m\u001b[0m\n\u001b[1;32m--> 872\u001b[1;33m             \u001b[0mself\u001b[0m\u001b[1;33m.\u001b[0m\u001b[0mschemaDiscoverChildElements\u001b[0m\u001b[1;33m(\u001b[0m\u001b[0mrootElement\u001b[0m\u001b[1;33m)\u001b[0m\u001b[1;33m\u001b[0m\u001b[1;33m\u001b[0m\u001b[0m\n\u001b[0m\u001b[0;32m    873\u001b[0m         \u001b[1;32mexcept\u001b[0m \u001b[1;33m(\u001b[0m\u001b[0mValueError\u001b[0m\u001b[1;33m,\u001b[0m \u001b[0mLookupError\u001b[0m\u001b[1;33m)\u001b[0m \u001b[1;32mas\u001b[0m \u001b[0merr\u001b[0m\u001b[1;33m:\u001b[0m\u001b[1;33m\u001b[0m\u001b[1;33m\u001b[0m\u001b[0m\n\u001b[0;32m    874\u001b[0m             self.modelXbrl.modelManager.addToLog(\"discovery: {0} error {1}\".format(\n",
      "\u001b[1;32m~\\tfgpu2\\.venv\\lib\\site-packages\\arelle\\ModelDocument.py\u001b[0m in \u001b[0;36mschemaDiscoverChildElements\u001b[1;34m(self, parentModelObject)\u001b[0m\n\u001b[0;32m    907\u001b[0m                             \u001b[0mself\u001b[0m\u001b[1;33m.\u001b[0m\u001b[0mlinkbaseDiscover\u001b[0m\u001b[1;33m(\u001b[0m\u001b[0mmodelObject\u001b[0m\u001b[1;33m)\u001b[0m\u001b[1;33m\u001b[0m\u001b[1;33m\u001b[0m\u001b[0m\n\u001b[0;32m    908\u001b[0m                 \u001b[1;31m# recurse to children\u001b[0m\u001b[1;33m\u001b[0m\u001b[1;33m\u001b[0m\u001b[1;33m\u001b[0m\u001b[0m\n\u001b[1;32m--> 909\u001b[1;33m                 \u001b[0mself\u001b[0m\u001b[1;33m.\u001b[0m\u001b[0mschemaDiscoverChildElements\u001b[0m\u001b[1;33m(\u001b[0m\u001b[0mmodelObject\u001b[0m\u001b[1;33m)\u001b[0m\u001b[1;33m\u001b[0m\u001b[1;33m\u001b[0m\u001b[0m\n\u001b[0m\u001b[0;32m    910\u001b[0m \u001b[1;33m\u001b[0m\u001b[0m\n\u001b[0;32m    911\u001b[0m \u001b[1;33m\u001b[0m\u001b[0m\n",
      "\u001b[1;32m~\\tfgpu2\\.venv\\lib\\site-packages\\arelle\\ModelDocument.py\u001b[0m in \u001b[0;36mschemaDiscoverChildElements\u001b[1;34m(self, parentModelObject)\u001b[0m\n\u001b[0;32m    907\u001b[0m                             \u001b[0mself\u001b[0m\u001b[1;33m.\u001b[0m\u001b[0mlinkbaseDiscover\u001b[0m\u001b[1;33m(\u001b[0m\u001b[0mmodelObject\u001b[0m\u001b[1;33m)\u001b[0m\u001b[1;33m\u001b[0m\u001b[1;33m\u001b[0m\u001b[0m\n\u001b[0;32m    908\u001b[0m                 \u001b[1;31m# recurse to children\u001b[0m\u001b[1;33m\u001b[0m\u001b[1;33m\u001b[0m\u001b[1;33m\u001b[0m\u001b[0m\n\u001b[1;32m--> 909\u001b[1;33m                 \u001b[0mself\u001b[0m\u001b[1;33m.\u001b[0m\u001b[0mschemaDiscoverChildElements\u001b[0m\u001b[1;33m(\u001b[0m\u001b[0mmodelObject\u001b[0m\u001b[1;33m)\u001b[0m\u001b[1;33m\u001b[0m\u001b[1;33m\u001b[0m\u001b[0m\n\u001b[0m\u001b[0;32m    910\u001b[0m \u001b[1;33m\u001b[0m\u001b[0m\n\u001b[0;32m    911\u001b[0m \u001b[1;33m\u001b[0m\u001b[0m\n",
      "\u001b[1;32m~\\tfgpu2\\.venv\\lib\\site-packages\\arelle\\ModelDocument.py\u001b[0m in \u001b[0;36mschemaDiscoverChildElements\u001b[1;34m(self, parentModelObject)\u001b[0m\n\u001b[0;32m    903\u001b[0m                             \u001b[0mself\u001b[0m\u001b[1;33m.\u001b[0m\u001b[0mmodelXbrl\u001b[0m\u001b[1;33m.\u001b[0m\u001b[0marcroleTypes\u001b[0m\u001b[1;33m[\u001b[0m\u001b[0mmodelObject\u001b[0m\u001b[1;33m.\u001b[0m\u001b[0marcroleURI\u001b[0m\u001b[1;33m]\u001b[0m\u001b[1;33m.\u001b[0m\u001b[0mappend\u001b[0m\u001b[1;33m(\u001b[0m\u001b[0mmodelObject\u001b[0m\u001b[1;33m)\u001b[0m\u001b[1;33m\u001b[0m\u001b[1;33m\u001b[0m\u001b[0m\n\u001b[0;32m    904\u001b[0m                         \u001b[1;32melif\u001b[0m \u001b[0mln\u001b[0m \u001b[1;33m==\u001b[0m \u001b[1;34m\"linkbaseRef\"\u001b[0m\u001b[1;33m:\u001b[0m\u001b[1;33m\u001b[0m\u001b[1;33m\u001b[0m\u001b[0m\n\u001b[1;32m--> 905\u001b[1;33m                             \u001b[0mself\u001b[0m\u001b[1;33m.\u001b[0m\u001b[0mschemaLinkbaseRefDiscover\u001b[0m\u001b[1;33m(\u001b[0m\u001b[0mmodelObject\u001b[0m\u001b[1;33m)\u001b[0m\u001b[1;33m\u001b[0m\u001b[1;33m\u001b[0m\u001b[0m\n\u001b[0m\u001b[0;32m    906\u001b[0m                         \u001b[1;32melif\u001b[0m \u001b[0mln\u001b[0m \u001b[1;33m==\u001b[0m \u001b[1;34m\"linkbase\"\u001b[0m\u001b[1;33m:\u001b[0m\u001b[1;33m\u001b[0m\u001b[1;33m\u001b[0m\u001b[0m\n\u001b[0;32m    907\u001b[0m                             \u001b[0mself\u001b[0m\u001b[1;33m.\u001b[0m\u001b[0mlinkbaseDiscover\u001b[0m\u001b[1;33m(\u001b[0m\u001b[0mmodelObject\u001b[0m\u001b[1;33m)\u001b[0m\u001b[1;33m\u001b[0m\u001b[1;33m\u001b[0m\u001b[0m\n",
      "\u001b[1;32m~\\tfgpu2\\.venv\\lib\\site-packages\\arelle\\ModelDocument.py\u001b[0m in \u001b[0;36mschemaLinkbaseRefDiscover\u001b[1;34m(self, element)\u001b[0m\n\u001b[0;32m   1010\u001b[0m \u001b[1;33m\u001b[0m\u001b[0m\n\u001b[0;32m   1011\u001b[0m     \u001b[1;32mdef\u001b[0m \u001b[0mschemaLinkbaseRefDiscover\u001b[0m\u001b[1;33m(\u001b[0m\u001b[0mself\u001b[0m\u001b[1;33m,\u001b[0m \u001b[0melement\u001b[0m\u001b[1;33m)\u001b[0m\u001b[1;33m:\u001b[0m\u001b[1;33m\u001b[0m\u001b[1;33m\u001b[0m\u001b[0m\n\u001b[1;32m-> 1012\u001b[1;33m         \u001b[1;32mreturn\u001b[0m \u001b[0mself\u001b[0m\u001b[1;33m.\u001b[0m\u001b[0mdiscoverHref\u001b[0m\u001b[1;33m(\u001b[0m\u001b[0melement\u001b[0m\u001b[1;33m,\u001b[0m \u001b[0murlRewritePluginClass\u001b[0m\u001b[1;33m=\u001b[0m\u001b[1;34m\"ModelDocument.InstanceSchemaRefRewriter\"\u001b[0m\u001b[1;33m)\u001b[0m\u001b[1;33m\u001b[0m\u001b[1;33m\u001b[0m\u001b[0m\n\u001b[0m\u001b[0;32m   1013\u001b[0m \u001b[1;33m\u001b[0m\u001b[0m\n\u001b[0;32m   1014\u001b[0m     \u001b[1;32mdef\u001b[0m \u001b[0mlinkbasesDiscover\u001b[0m\u001b[1;33m(\u001b[0m\u001b[0mself\u001b[0m\u001b[1;33m,\u001b[0m \u001b[0mtree\u001b[0m\u001b[1;33m)\u001b[0m\u001b[1;33m:\u001b[0m\u001b[1;33m\u001b[0m\u001b[1;33m\u001b[0m\u001b[0m\n",
      "\u001b[1;32m~\\tfgpu2\\.venv\\lib\\site-packages\\arelle\\ModelDocument.py\u001b[0m in \u001b[0;36mdiscoverHref\u001b[1;34m(self, element, nonDTS, urlRewritePluginClass)\u001b[0m\n\u001b[0;32m   1130\u001b[0m                     \u001b[1;32mfor\u001b[0m \u001b[0mpluginMethod\u001b[0m \u001b[1;32min\u001b[0m \u001b[0mpluginClassMethods\u001b[0m\u001b[1;33m(\u001b[0m\u001b[0murlRewritePluginClass\u001b[0m\u001b[1;33m)\u001b[0m\u001b[1;33m:\u001b[0m\u001b[1;33m\u001b[0m\u001b[1;33m\u001b[0m\u001b[0m\n\u001b[0;32m   1131\u001b[0m                         \u001b[0murl\u001b[0m \u001b[1;33m=\u001b[0m \u001b[0mpluginMethod\u001b[0m\u001b[1;33m(\u001b[0m\u001b[0mself\u001b[0m\u001b[1;33m,\u001b[0m \u001b[0murl\u001b[0m\u001b[1;33m)\u001b[0m\u001b[1;33m\u001b[0m\u001b[1;33m\u001b[0m\u001b[0m\n\u001b[1;32m-> 1132\u001b[1;33m                 \u001b[0mdoc\u001b[0m \u001b[1;33m=\u001b[0m \u001b[0m_newDoc\u001b[0m\u001b[1;33m(\u001b[0m\u001b[0mself\u001b[0m\u001b[1;33m.\u001b[0m\u001b[0mmodelXbrl\u001b[0m\u001b[1;33m,\u001b[0m \u001b[0murl\u001b[0m\u001b[1;33m,\u001b[0m \u001b[0misDiscovered\u001b[0m\u001b[1;33m=\u001b[0m\u001b[1;32mnot\u001b[0m \u001b[0mnonDTS\u001b[0m\u001b[1;33m,\u001b[0m \u001b[0mbase\u001b[0m\u001b[1;33m=\u001b[0m\u001b[0mself\u001b[0m\u001b[1;33m.\u001b[0m\u001b[0mbaseForElement\u001b[0m\u001b[1;33m(\u001b[0m\u001b[0melement\u001b[0m\u001b[1;33m)\u001b[0m\u001b[1;33m,\u001b[0m \u001b[0mreferringElement\u001b[0m\u001b[1;33m=\u001b[0m\u001b[0melement\u001b[0m\u001b[1;33m)\u001b[0m\u001b[1;33m\u001b[0m\u001b[1;33m\u001b[0m\u001b[0m\n\u001b[0m\u001b[0;32m   1133\u001b[0m                 \u001b[1;32mif\u001b[0m \u001b[1;32mnot\u001b[0m \u001b[0mnonDTS\u001b[0m \u001b[1;32mand\u001b[0m \u001b[0mdoc\u001b[0m \u001b[1;32mis\u001b[0m \u001b[1;32mnot\u001b[0m \u001b[1;32mNone\u001b[0m \u001b[1;32mand\u001b[0m \u001b[0mdoc\u001b[0m \u001b[1;32mnot\u001b[0m \u001b[1;32min\u001b[0m \u001b[0mself\u001b[0m\u001b[1;33m.\u001b[0m\u001b[0mreferencesDocument\u001b[0m\u001b[1;33m:\u001b[0m\u001b[1;33m\u001b[0m\u001b[1;33m\u001b[0m\u001b[0m\n\u001b[0;32m   1134\u001b[0m                     \u001b[0mself\u001b[0m\u001b[1;33m.\u001b[0m\u001b[0mreferencesDocument\u001b[0m\u001b[1;33m[\u001b[0m\u001b[0mdoc\u001b[0m\u001b[1;33m]\u001b[0m \u001b[1;33m=\u001b[0m \u001b[0mModelDocumentReference\u001b[0m\u001b[1;33m(\u001b[0m\u001b[1;34m\"href\"\u001b[0m\u001b[1;33m,\u001b[0m \u001b[0melement\u001b[0m\u001b[1;33m)\u001b[0m\u001b[1;33m\u001b[0m\u001b[1;33m\u001b[0m\u001b[0m\n",
      "\u001b[1;32m~\\tfgpu2\\.venv\\lib\\site-packages\\arelle\\ModelDocument.py\u001b[0m in \u001b[0;36mload\u001b[1;34m(modelXbrl, uri, base, referringElement, isEntry, isDiscovered, isIncluded, namespace, reloadCache, **kwargs)\u001b[0m\n\u001b[0;32m    330\u001b[0m             \u001b[1;31m# slow\u001b[0m\u001b[1;33m\u001b[0m\u001b[1;33m\u001b[0m\u001b[1;33m\u001b[0m\u001b[0m\n\u001b[0;32m    331\u001b[0m             \u001b[1;32mif\u001b[0m \u001b[1;32mnot\u001b[0m \u001b[0mAWESOME_MODS\u001b[0m\u001b[1;33m:\u001b[0m\u001b[1;33m\u001b[0m\u001b[1;33m\u001b[0m\u001b[0m\n\u001b[1;32m--> 332\u001b[1;33m                 \u001b[0mmodelDocument\u001b[0m\u001b[1;33m.\u001b[0m\u001b[0mlinkbaseDiscover\u001b[0m\u001b[1;33m(\u001b[0m\u001b[0mrootNode\u001b[0m\u001b[1;33m)\u001b[0m\u001b[1;33m\u001b[0m\u001b[1;33m\u001b[0m\u001b[0m\n\u001b[0m\u001b[0;32m    333\u001b[0m         \u001b[1;32melif\u001b[0m \u001b[0m_type\u001b[0m \u001b[1;33m==\u001b[0m \u001b[0mType\u001b[0m\u001b[1;33m.\u001b[0m\u001b[0mINSTANCE\u001b[0m\u001b[1;33m:\u001b[0m\u001b[1;33m\u001b[0m\u001b[1;33m\u001b[0m\u001b[0m\n\u001b[0;32m    334\u001b[0m             \u001b[0mmodelDocument\u001b[0m\u001b[1;33m.\u001b[0m\u001b[0minstanceDiscover\u001b[0m\u001b[1;33m(\u001b[0m\u001b[0mrootNode\u001b[0m\u001b[1;33m)\u001b[0m\u001b[1;33m\u001b[0m\u001b[1;33m\u001b[0m\u001b[0m\n",
      "\u001b[1;32m~\\tfgpu2\\.venv\\lib\\site-packages\\arelle\\ModelDocument.py\u001b[0m in \u001b[0;36mlinkbaseDiscover\u001b[1;34m(self, linkbaseElement, inInstance)\u001b[0m\n\u001b[0;32m   1051\u001b[0m                                 \u001b[0mself\u001b[0m\u001b[1;33m.\u001b[0m\u001b[0mmodelXbrl\u001b[0m\u001b[1;33m.\u001b[0m\u001b[0mbaseSets\u001b[0m\u001b[1;33m[\u001b[0m\u001b[0mbaseSetKey\u001b[0m\u001b[1;33m]\u001b[0m\u001b[1;33m.\u001b[0m\u001b[0mappend\u001b[0m\u001b[1;33m(\u001b[0m\u001b[0mlbElement\u001b[0m\u001b[1;33m)\u001b[0m\u001b[1;33m\u001b[0m\u001b[1;33m\u001b[0m\u001b[0m\n\u001b[0;32m   1052\u001b[0m                         \u001b[0mlinkElementSequence\u001b[0m \u001b[1;33m=\u001b[0m \u001b[1;36m0\u001b[0m\u001b[1;33m\u001b[0m\u001b[1;33m\u001b[0m\u001b[0m\n\u001b[1;32m-> 1053\u001b[1;33m                         \u001b[1;32mfor\u001b[0m \u001b[0mlinkElement\u001b[0m \u001b[1;32min\u001b[0m \u001b[0mlbElement\u001b[0m\u001b[1;33m.\u001b[0m\u001b[0miterchildren\u001b[0m\u001b[1;33m(\u001b[0m\u001b[1;33m)\u001b[0m\u001b[1;33m:\u001b[0m\u001b[1;33m\u001b[0m\u001b[1;33m\u001b[0m\u001b[0m\n\u001b[0m\u001b[0;32m   1054\u001b[0m                             \u001b[1;32mif\u001b[0m \u001b[0misinstance\u001b[0m\u001b[1;33m(\u001b[0m\u001b[0mlinkElement\u001b[0m\u001b[1;33m,\u001b[0m\u001b[0mModelObject\u001b[0m\u001b[1;33m)\u001b[0m\u001b[1;33m:\u001b[0m\u001b[1;33m\u001b[0m\u001b[1;33m\u001b[0m\u001b[0m\n\u001b[0;32m   1055\u001b[0m                                 \u001b[0mlinkElementSequence\u001b[0m \u001b[1;33m+=\u001b[0m \u001b[1;36m1\u001b[0m\u001b[1;33m\u001b[0m\u001b[1;33m\u001b[0m\u001b[0m\n",
      "\u001b[1;32msrc\\lxml\\etree.pyx\u001b[0m in \u001b[0;36mlxml.etree._ElementMatchIterator.__next__\u001b[1;34m()\u001b[0m\n",
      "\u001b[1;32msrc\\lxml\\etree.pyx\u001b[0m in \u001b[0;36mlxml.etree._ElementMatchIterator._storeNext\u001b[1;34m()\u001b[0m\n",
      "\u001b[1;32msrc\\lxml\\etree.pyx\u001b[0m in \u001b[0;36mlxml.etree._elementFactory\u001b[1;34m()\u001b[0m\n",
      "\u001b[1;32m~\\tfgpu2\\.venv\\lib\\site-packages\\arelle\\ModelObject.py\u001b[0m in \u001b[0;36m_init\u001b[1;34m(self)\u001b[0m\n\u001b[0;32m     93\u001b[0m     \"\"\"\n\u001b[0;32m     94\u001b[0m     \u001b[1;32mdef\u001b[0m \u001b[0m_init\u001b[0m\u001b[1;33m(\u001b[0m\u001b[0mself\u001b[0m\u001b[1;33m)\u001b[0m\u001b[1;33m:\u001b[0m\u001b[1;33m\u001b[0m\u001b[1;33m\u001b[0m\u001b[0m\n\u001b[1;32m---> 95\u001b[1;33m         \u001b[0mself\u001b[0m\u001b[1;33m.\u001b[0m\u001b[0misChanged\u001b[0m \u001b[1;33m=\u001b[0m \u001b[1;32mFalse\u001b[0m\u001b[1;33m\u001b[0m\u001b[1;33m\u001b[0m\u001b[0m\n\u001b[0m\u001b[0;32m     96\u001b[0m         \u001b[0mparent\u001b[0m \u001b[1;33m=\u001b[0m \u001b[0mself\u001b[0m\u001b[1;33m.\u001b[0m\u001b[0mgetparent\u001b[0m\u001b[1;33m(\u001b[0m\u001b[1;33m)\u001b[0m\u001b[1;33m\u001b[0m\u001b[1;33m\u001b[0m\u001b[0m\n\u001b[0;32m     97\u001b[0m         \u001b[1;32mif\u001b[0m \u001b[0mparent\u001b[0m \u001b[1;32mis\u001b[0m \u001b[1;32mnot\u001b[0m \u001b[1;32mNone\u001b[0m \u001b[1;32mand\u001b[0m \u001b[0mhasattr\u001b[0m\u001b[1;33m(\u001b[0m\u001b[0mparent\u001b[0m\u001b[1;33m,\u001b[0m \u001b[1;34m\"modelDocument\"\u001b[0m\u001b[1;33m)\u001b[0m\u001b[1;33m:\u001b[0m\u001b[1;33m\u001b[0m\u001b[1;33m\u001b[0m\u001b[0m\n",
      "\u001b[1;31mKeyboardInterrupt\u001b[0m: "
     ]
    }
   ],
   "source": [
    "j=-1\n",
    "# for stock_code in code_df['secCode'].unique():\n",
    "# for stock_code in np.sort(code_df['secCode'].unique()):\n",
    "# for i,stock_code in enumerate([1720]):\n",
    "# for i, stock_code in enumerate([6025]):\n",
    "for i, stock_code in enumerate(np.sort(code_df['secCode'].unique())):\n",
    "    # j+=1\n",
    "    # if j==:break\n",
    "    doc_id = code_df.query(f'secCode=={stock_code}').docID.values[0]\n",
    "    date = code_df.query(f'secCode=={stock_code}').submitDateTime.values[0]\n",
    "    filerName = code_df.query(f'secCode=={stock_code}').filerName.values[0]\n",
    "    class_33 = code_df.query(f'secCode=={stock_code}')['33業種区分'].values[0]\n",
    "    class_17 = code_df.query(f'secCode=={stock_code}')['17業種区分'].values[0]\n",
    "\n",
    "    file_path = orig_data_path + date[:10] + '/' + doc_id + '/XBRL/PublicDoc/*.xbrl'\n",
    "    file_path = glob.glob(file_path)[0]\n",
    "    fact_df = sr.read_xbrl(file_path,stock_code)\n",
    "    \n",
    "    mask = fact_df.contextID.str.contains('NonConsolidated')\n",
    "    mask = mask.astype(int)\n",
    "    fact_df['NonConsolidated'] = mask\n",
    "    \n",
    "    # プロットに向かない数値以外のデータをすべて除外\n",
    "    mask = fact_df['value'].str.match('^[0-9]+$')\n",
    "    fact_df = fact_df[mask]\n",
    "    \n",
    "    for k,key in enumerate(taiouhyou):\n",
    "        tmp = sr.get_key(fact_df,key)\n",
    "        \n",
    "        if k==0:\n",
    "            sdf = tmp\n",
    "        else:\n",
    "            sdf = pd.concat([sdf,tmp],axis=0)\n",
    "            \n",
    "    sdf = sr.make_operatingincome_margin(sdf)\n",
    "    sdf['filerName'] = filerName\n",
    "    sdf['secCode'] = stock_code\n",
    "    sdf['33業種区分'] = class_33\n",
    "    sdf['17業種区分'] = class_17\n",
    "\n",
    "    \n",
    "    # print(sdf.shape)\n",
    "            \n",
    "    # if i==0:\n",
    "    #     df = sdf\n",
    "    # else:\n",
    "    df = pd.concat([df,sdf],axis=0)\n",
    "    \n",
    "    if i%50==0:print(i,'/',len(code_df['secCode'].unique()))\n"
   ]
  },
  {
   "cell_type": "code",
   "execution_count": null,
   "id": "caa23392-3290-40e9-9617-990b692d6a7a",
   "metadata": {},
   "outputs": [],
   "source": [
    "df = sr.save_stock_statistics(df)"
   ]
  },
  {
   "cell_type": "code",
   "execution_count": null,
   "id": "56c61b9f-10e7-4b1a-89ff-87d17981de19",
   "metadata": {},
   "outputs": [],
   "source": [
    "# path = orig_data_path\n",
    "# files = glob.glob(orig_data_path+\"*/*.zip\",) # recursive=True\n",
    "# for file in files:.query('value==823000000')\n",
    "#     print(file)\n",
    "#     # os.remove(file)"
   ]
  },
  {
   "cell_type": "code",
   "execution_count": null,
   "id": "5198cc75-1ed4-46e2-906e-6b0bfb54eda1",
   "metadata": {},
   "outputs": [],
   "source": [
    "fact_df[9:10]['element_id'].values"
   ]
  },
  {
   "cell_type": "code",
   "execution_count": null,
   "id": "d974f39b-34dc-47c3-a2d2-a2810f08e53b",
   "metadata": {},
   "outputs": [],
   "source": [
    "fact_df[9:10]['element_id'].values"
   ]
  },
  {
   "cell_type": "code",
   "execution_count": null,
   "id": "85474a95-1da4-47cd-b17e-2e97ac91ae72",
   "metadata": {},
   "outputs": [],
   "source": [
    "fact_df[fact_df.Ja_item_name.str.contains('純利益')]"
   ]
  },
  {
   "cell_type": "code",
   "execution_count": null,
   "id": "946c7032-9493-4f5d-ac1a-a14be0f2fed3",
   "metadata": {},
   "outputs": [],
   "source": [
    "fact_df.query(\"element_id=='ProfitLossAttributableToOwnersOfParentSummaryOfBusinessResults'\")"
   ]
  },
  {
   "cell_type": "code",
   "execution_count": null,
   "id": "7e817143-37e5-44a8-b0f1-d23b85751dbe",
   "metadata": {},
   "outputs": [],
   "source": [
    "fact_df.query(\"element_id=='NetIncomeLossSummaryOfBusinessResults'\")"
   ]
  },
  {
   "cell_type": "code",
   "execution_count": null,
   "id": "4e84dce9-528a-4429-adb5-7abe4c9d3c65",
   "metadata": {},
   "outputs": [],
   "source": []
  }
 ],
 "metadata": {
  "kernelspec": {
   "display_name": "Python 3 (ipykernel)",
   "language": "python",
   "name": "python3"
  },
  "language_info": {
   "codemirror_mode": {
    "name": "ipython",
    "version": 3
   },
   "file_extension": ".py",
   "mimetype": "text/x-python",
   "name": "python",
   "nbconvert_exporter": "python",
   "pygments_lexer": "ipython3",
   "version": "3.8.0"
  }
 },
 "nbformat": 4,
 "nbformat_minor": 5
}
