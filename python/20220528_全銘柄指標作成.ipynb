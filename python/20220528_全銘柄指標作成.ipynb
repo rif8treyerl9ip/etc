{
 "cells": [
  {
   "cell_type": "code",
   "execution_count": 1,
   "id": "56593ad2-3526-4474-86e3-ee663320902e",
   "metadata": {},
   "outputs": [],
   "source": [
    "# - 売り上げ高\n",
    "# - 営業利益\n",
    "# まで\n",
    "# かなりめんどくさい…\n",
    "\n",
    "# todo \n",
    "# 営業活動キャッシュフロー\n",
    "# 営業活動キャッシュフロー/売上=営業キャッシュフローマージン計算\n",
    "# 営業キャッシュフローマージンをendDatetimeで降順ソートして直近5年(出せるとこまで、2年が限界か？)\n",
    "# 算出し、15%以上が2年以上ならOperating_cash_flow_margin_listに銘柄を追加"
   ]
  },
  {
   "cell_type": "code",
   "execution_count": 2,
   "id": "8d11fc9f-8885-43c4-ae16-f03cd9850f59",
   "metadata": {},
   "outputs": [
    {
     "name": "stdout",
     "output_type": "stream",
     "text": [
      "60\n",
      "20\n"
     ]
    }
   ],
   "source": [
    "import glob\n",
    "import os\n",
    "\n",
    "from arelle.ModelValue import qname\n",
    "from arelle import Cntlr\n",
    "import numpy as np\n",
    "\n",
    "import pandas as pd\n",
    "pd.reset_option('display.max_rows')\n",
    "print(pd.options.display.max_rows)\n",
    "pd.reset_option('display.max_columns')\n",
    "print(pd.options.display.max_columns)\n",
    "import plotly.graph_objects as go\n",
    "\n",
    "import stock_research as sr\n",
    "taiouhyou = sr.taiouhyou\n"
   ]
  },
  {
   "cell_type": "code",
   "execution_count": 3,
   "id": "0b6ff59d-b695-4557-bb6d-130ca0668f40",
   "metadata": {},
   "outputs": [
    {
     "name": "stdout",
     "output_type": "stream",
     "text": [
      "../warehouse/stock/created\\submitted_doc_list_only_stock_20220101_20220428.csv\n",
      "../warehouse/stock/created\\submitted_doc_list_only_stock_20220301_20220428.csv\n",
      "../warehouse/stock/created\\submitted_doc_list_only_stock_20220330_20220428.csv\n"
     ]
    }
   ],
   "source": [
    "stock_code_list_path = '../warehouse/stock/created/submitted_doc_list_only_stock*.csv'\n",
    "files = glob.glob(stock_code_list_path)\n",
    "for file in files:\n",
    "    print(file)"
   ]
  },
  {
   "cell_type": "code",
   "execution_count": 4,
   "id": "dfd17a55-e24b-48cb-bba1-6bee766c76bb",
   "metadata": {},
   "outputs": [],
   "source": [
    "orig_data_path = '../warehouse/stock/original_data/'\n",
    "stock_code_list = '../warehouse/stock/created/submitted_doc_list_only_stock_20220101_20220428.csv'\n",
    "code_df = pd.read_csv(stock_code_list)"
   ]
  },
  {
   "cell_type": "code",
   "execution_count": 5,
   "id": "41f07fa1-6a9e-43a7-9e3f-88d235bdbee5",
   "metadata": {},
   "outputs": [],
   "source": [
    "import warnings\n",
    "warnings.filterwarnings('ignore')"
   ]
  },
  {
   "cell_type": "code",
   "execution_count": 30,
   "id": "6e3bbc4a-6bb4-44ab-a75f-ba3b478fd846",
   "metadata": {},
   "outputs": [
    {
     "data": {
      "text/plain": [
       "6697"
      ]
     },
     "execution_count": 30,
     "metadata": {},
     "output_type": "execute_result"
    }
   ],
   "source": [
    "stock_code"
   ]
  },
  {
   "cell_type": "code",
   "execution_count": 31,
   "id": "2b3e7977-fb21-4d4d-a785-96f8c940d7dc",
   "metadata": {},
   "outputs": [
    {
     "data": {
      "text/plain": [
       "'../warehouse/stock/original_data/2022-03-11/S100NN9G/XBRL/PublicDoc/*.xbrl'"
      ]
     },
     "execution_count": 31,
     "metadata": {},
     "output_type": "execute_result"
    }
   ],
   "source": [
    "file_path"
   ]
  },
  {
   "cell_type": "code",
   "execution_count": 35,
   "id": "8ba83d68-926c-4ca7-a964-a1ccdb87b99a",
   "metadata": {},
   "outputs": [
    {
     "name": "stdout",
     "output_type": "stream",
     "text": [
      "0 / 686\n",
      "50 / 686\n",
      "100 / 686\n",
      "150 / 686\n",
      "200 / 686\n",
      "250 / 686\n",
      "300 / 686\n",
      "350 / 686\n",
      "400 / 686\n",
      "450 / 686\n",
      "500 / 686\n",
      "550 / 686\n",
      "600 / 686\n",
      "650 / 686\n"
     ]
    }
   ],
   "source": [
    "j=-1\n",
    "# for stock_code in code_df['secCode'].unique():\n",
    "# for stock_code in np.sort(code_df['secCode'].unique()):\n",
    "# for i,stock_code in enumerate([1720]):\n",
    "# for i, stock_code in enumerate([6025]):\n",
    "for i, stock_code in enumerate(np.sort(code_df['secCode'].unique())):\n",
    "    doc_id = code_df.query(f'secCode=={stock_code}').docID.values[0]\n",
    "    date = code_df.query(f'secCode=={stock_code}').submitDateTime.values[0]\n",
    "    filerName = code_df.query(f'secCode=={stock_code}').filerName.values[0]\n",
    "    class_33 = code_df.query(f'secCode=={stock_code}')['33業種区分'].values[0]\n",
    "    class_17 = code_df.query(f'secCode=={stock_code}')['17業種区分'].values[0]\n",
    "\n",
    "    file_path = orig_data_path + date[:10] + '/' + doc_id + '/XBRL/PublicDoc/*.xbrl'\n",
    "    try:\n",
    "        file_path = glob.glob(file_path)[0]\n",
    "    except:\n",
    "        continue\n",
    "    fact_df = sr.read_xbrl(file_path,stock_code)\n",
    "    \n",
    "    mask = fact_df.contextID.str.contains('NonConsolidated')\n",
    "    mask = mask.astype(int)\n",
    "    fact_df['NonConsolidated'] = mask\n",
    "    \n",
    "    # プロットに向かない数値以外のデータをすべて除外\n",
    "    mask = fact_df['value'].str.match('^[0-9]+$')\n",
    "    fact_df = fact_df[mask]\n",
    "    \n",
    "    for k,key in enumerate(taiouhyou):\n",
    "        tmp = sr.get_key(fact_df,key)\n",
    "        \n",
    "        if k==0:\n",
    "            sdf = tmp\n",
    "        else:\n",
    "            sdf = pd.concat([sdf,tmp],axis=0)\n",
    "            \n",
    "    sdf = sr.make_operatingincome_margin(sdf)\n",
    "    sdf['filerName'] = filerName\n",
    "    sdf['secCode'] = stock_code\n",
    "    sdf['33業種区分'] = class_33\n",
    "    sdf['17業種区分'] = class_17\n",
    "\n",
    "    \n",
    "    # print(sdf.shape)\n",
    "            \n",
    "    if i==0:\n",
    "        df = sdf\n",
    "    else:\n",
    "        df = pd.concat([df,sdf],axis=0)\n",
    "    \n",
    "    if i%50==0:print(i,'/',len(code_df['secCode'].unique()))\n"
   ]
  },
  {
   "cell_type": "code",
   "execution_count": 36,
   "id": "caa23392-3290-40e9-9617-990b692d6a7a",
   "metadata": {},
   "outputs": [],
   "source": [
    "df = sr.save_stock_statistics(df)"
   ]
  },
  {
   "cell_type": "code",
   "execution_count": null,
   "id": "56c61b9f-10e7-4b1a-89ff-87d17981de19",
   "metadata": {},
   "outputs": [],
   "source": [
    "# path = orig_data_path\n",
    "# files = glob.glob(orig_data_path+\"*/*.zip\",) # recursive=True\n",
    "# for file in files:.query('value==823000000')\n",
    "#     print(file)\n",
    "#     # os.remove(file)"
   ]
  },
  {
   "cell_type": "code",
   "execution_count": null,
   "id": "5198cc75-1ed4-46e2-906e-6b0bfb54eda1",
   "metadata": {},
   "outputs": [],
   "source": [
    "fact_df[9:10]['element_id'].values"
   ]
  },
  {
   "cell_type": "code",
   "execution_count": null,
   "id": "d974f39b-34dc-47c3-a2d2-a2810f08e53b",
   "metadata": {},
   "outputs": [],
   "source": [
    "fact_df[9:10]['element_id'].values"
   ]
  },
  {
   "cell_type": "code",
   "execution_count": null,
   "id": "85474a95-1da4-47cd-b17e-2e97ac91ae72",
   "metadata": {},
   "outputs": [],
   "source": [
    "fact_df[fact_df.Ja_item_name.str.contains('純利益')]"
   ]
  },
  {
   "cell_type": "code",
   "execution_count": null,
   "id": "946c7032-9493-4f5d-ac1a-a14be0f2fed3",
   "metadata": {},
   "outputs": [],
   "source": [
    "fact_df.query(\"element_id=='ProfitLossAttributableToOwnersOfParentSummaryOfBusinessResults'\")"
   ]
  },
  {
   "cell_type": "code",
   "execution_count": null,
   "id": "7e817143-37e5-44a8-b0f1-d23b85751dbe",
   "metadata": {},
   "outputs": [],
   "source": [
    "fact_df.query(\"element_id=='NetIncomeLossSummaryOfBusinessResults'\")"
   ]
  },
  {
   "cell_type": "code",
   "execution_count": null,
   "id": "4e84dce9-528a-4429-adb5-7abe4c9d3c65",
   "metadata": {},
   "outputs": [],
   "source": []
  }
 ],
 "metadata": {
  "kernelspec": {
   "display_name": "Python 3 (ipykernel)",
   "language": "python",
   "name": "python3"
  },
  "language_info": {
   "codemirror_mode": {
    "name": "ipython",
    "version": 3
   },
   "file_extension": ".py",
   "mimetype": "text/x-python",
   "name": "python",
   "nbconvert_exporter": "python",
   "pygments_lexer": "ipython3",
   "version": "3.8.0"
  }
 },
 "nbformat": 4,
 "nbformat_minor": 5
}
