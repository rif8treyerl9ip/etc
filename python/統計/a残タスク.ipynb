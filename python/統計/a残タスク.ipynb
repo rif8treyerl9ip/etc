{
 "cells": [
  {
   "cell_type": "markdown",
   "source": [
    "- 対応のあるt検定\r\n",
    "- 正規性の検定\r\n",
    "- 分散分析復習\r\n",
    "- 中心極限定理分散導出"
   ],
   "metadata": {}
  },
  {
   "cell_type": "markdown",
   "source": [
    "\r\n",
    "いずれやる\r\n",
    "応答局面法、ノンパラメトリック検定、多重検定問題"
   ],
   "metadata": {}
  }
 ],
 "metadata": {
  "orig_nbformat": 4,
  "language_info": {
   "name": "python"
  }
 },
 "nbformat": 4,
 "nbformat_minor": 2
}