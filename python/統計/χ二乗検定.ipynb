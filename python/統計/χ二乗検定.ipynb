{
 "cells": [
  {
   "cell_type": "code",
   "execution_count": 92,
   "source": [
    "import numpy as np\r\n",
    "import pandas as pd\r\n",
    "import scipy.stats as ss\r\n"
   ],
   "outputs": [],
   "metadata": {}
  },
  {
   "cell_type": "markdown",
   "source": [
    "### 4.2.4 $\\chi^2$検定\r\n",
    "\r\n",
    "\r\n",
    "続いて、母平均の差の検定に次いでよく使うであろう、**独立性の検定(test of independence)**について紹介する。この検定を俗に$\\chi^2$検定と呼ぶことが多い。また、この検定はクロス集計表に対してその表頭と表側の変数に関連があるかを確かめるために行われることから、クロス表の検定などとも呼ばれる。\r\n",
    "\r\n",
    "[問題]　　男女別に、ある法案についての賛成、中立、反対を集計したところ、以下のようなクロス集計表が得られた。\r\n",
    "\r\n",
    "|性別\\態度|賛成|中立|反対|合計|\r\n",
    "|:-:|:-:|:-:|:-:|:-:|\r\n",
    "|男性|60|30|10|100|\r\n",
    "|女性|20|40|40|100|\r\n",
    "|合計|80|70|50|200|\r\n",
    "\r\n",
    "\r\n",
    "\r\n",
    "\r\n"
   ],
   "metadata": {}
  },
  {
   "cell_type": "code",
   "execution_count": 3,
   "source": [
    "cross = np.array([[60,30,10], [20,40,40]])\r\n",
    "cross"
   ],
   "outputs": [
    {
     "output_type": "execute_result",
     "data": {
      "text/plain": [
       "array([[60, 30, 10],\n",
       "       [20, 40, 40]])"
      ]
     },
     "metadata": {},
     "execution_count": 3
    }
   ],
   "metadata": {}
  },
  {
   "cell_type": "code",
   "execution_count": 223,
   "source": [
    "cross = np.array([[60,30,10], [20,40,40]])\r\n",
    "cross\r\n",
    "\r\n",
    "chitest = ss.chi2_contingency(cross)\r\n",
    "print('カイ二乗値', chitest[0])\r\n",
    "print('p値', chitest[1]) # 片側p値\r\n",
    "print('自由度', chitest[2])\r\n",
    "print('期待度数表', chitest[3])"
   ],
   "outputs": [
    {
     "output_type": "stream",
     "name": "stdout",
     "text": [
      "カイ二乗値 39.42857142857143\n",
      "p値 2.7428022661917792e-09\n",
      "自由度 2\n",
      "期待度数表 [[40. 35. 25.]\n",
      " [40. 35. 25.]]\n"
     ]
    }
   ],
   "metadata": {}
  },
  {
   "cell_type": "markdown",
   "source": [
    "### 地道にχ二乗値を算出するのはめんどくさい"
   ],
   "metadata": {}
  },
  {
   "cell_type": "code",
   "execution_count": 183,
   "source": [
    "cross = pd.DataFrame(cross)\r\n",
    "cross.columns = ['Agree','neutral','disagree'] \r\n",
    "cross.index=['MALE','FEMALE']\r\n"
   ],
   "outputs": [],
   "metadata": {}
  },
  {
   "cell_type": "code",
   "execution_count": 184,
   "source": [
    "# 期待度数のデータフレームを作ってみる\r\n",
    "total = pd.DataFrame(np.sum(cross,axis=0)).T\r\n",
    "total.index = ['total']\r\n",
    "\r\n",
    "expected_frac = total.values/np.sum(total,axis=1).values\r\n",
    "\r\n",
    "x = [i * expected_frac for i in np.array(np.sum(cross,axis=1))]\r\n",
    "expected_frequency = pd.DataFrame(np.array(x).flatten().reshape(2,3))\r\n",
    "expected_frequency.columns = ['Agree','neutral','disagree']\r\n",
    "expected_frequency.index= ['MALE','FEMALE']\r\n",
    "\r\n",
    "display(cross)\r\n",
    "display(expected_frequency)\r\n"
   ],
   "outputs": [
    {
     "output_type": "display_data",
     "data": {
      "text/html": [
       "<div>\n",
       "<style scoped>\n",
       "    .dataframe tbody tr th:only-of-type {\n",
       "        vertical-align: middle;\n",
       "    }\n",
       "\n",
       "    .dataframe tbody tr th {\n",
       "        vertical-align: top;\n",
       "    }\n",
       "\n",
       "    .dataframe thead th {\n",
       "        text-align: right;\n",
       "    }\n",
       "</style>\n",
       "<table border=\"1\" class=\"dataframe\">\n",
       "  <thead>\n",
       "    <tr style=\"text-align: right;\">\n",
       "      <th></th>\n",
       "      <th>Agree</th>\n",
       "      <th>neutral</th>\n",
       "      <th>disagree</th>\n",
       "    </tr>\n",
       "  </thead>\n",
       "  <tbody>\n",
       "    <tr>\n",
       "      <th>MALE</th>\n",
       "      <td>60</td>\n",
       "      <td>30</td>\n",
       "      <td>10</td>\n",
       "    </tr>\n",
       "    <tr>\n",
       "      <th>FEMALE</th>\n",
       "      <td>20</td>\n",
       "      <td>40</td>\n",
       "      <td>40</td>\n",
       "    </tr>\n",
       "  </tbody>\n",
       "</table>\n",
       "</div>"
      ],
      "text/plain": [
       "        Agree  neutral  disagree\n",
       "MALE       60       30        10\n",
       "FEMALE     20       40        40"
      ]
     },
     "metadata": {}
    },
    {
     "output_type": "display_data",
     "data": {
      "text/html": [
       "<div>\n",
       "<style scoped>\n",
       "    .dataframe tbody tr th:only-of-type {\n",
       "        vertical-align: middle;\n",
       "    }\n",
       "\n",
       "    .dataframe tbody tr th {\n",
       "        vertical-align: top;\n",
       "    }\n",
       "\n",
       "    .dataframe thead th {\n",
       "        text-align: right;\n",
       "    }\n",
       "</style>\n",
       "<table border=\"1\" class=\"dataframe\">\n",
       "  <thead>\n",
       "    <tr style=\"text-align: right;\">\n",
       "      <th></th>\n",
       "      <th>Agree</th>\n",
       "      <th>neutral</th>\n",
       "      <th>disagree</th>\n",
       "    </tr>\n",
       "  </thead>\n",
       "  <tbody>\n",
       "    <tr>\n",
       "      <th>MALE</th>\n",
       "      <td>40.0</td>\n",
       "      <td>35.0</td>\n",
       "      <td>25.0</td>\n",
       "    </tr>\n",
       "    <tr>\n",
       "      <th>FEMALE</th>\n",
       "      <td>40.0</td>\n",
       "      <td>35.0</td>\n",
       "      <td>25.0</td>\n",
       "    </tr>\n",
       "  </tbody>\n",
       "</table>\n",
       "</div>"
      ],
      "text/plain": [
       "        Agree  neutral  disagree\n",
       "MALE     40.0     35.0      25.0\n",
       "FEMALE   40.0     35.0      25.0"
      ]
     },
     "metadata": {}
    }
   ],
   "metadata": {}
  },
  {
   "cell_type": "code",
   "execution_count": 228,
   "source": [
    "cross-expected_frequency\r\n",
    "(cross-expected_frequency)**2\r\n",
    "(cross-expected_frequency)**2/expected_frequency\r\n",
    "# np.sumですべての要素を足してほしいならndarrayに変換かけてから足す\r\n",
    "chi_value = np.sum(((cross-expected_frequency)**2/expected_frequency).values)\r\n",
    "# 計算結果は上記で求めたχ二乗値と一致する\r\n",
    "\r\n",
    "d_of_freedom=(2-1)*(3-1)\r\n",
    "\r\n",
    "chi2.ppf(0.95,d_of_freedom) # 棄却域\r\n",
    "\r\n",
    "chi_value > chi2.ppf(0.95,d_of_freedom)\r\n"
   ],
   "outputs": [
    {
     "output_type": "execute_result",
     "data": {
      "text/plain": [
       "True"
      ]
     },
     "metadata": {},
     "execution_count": 228
    }
   ],
   "metadata": {}
  },
  {
   "cell_type": "markdown",
   "source": [
    "inspection"
   ],
   "metadata": {}
  },
  {
   "cell_type": "code",
   "execution_count": 216,
   "source": [
    "from scipy.stats import chi2\r\n",
    "df=1\r\n",
    "# 下側から自由度１のχ二乗分布の累積確立95%点を求めた\r\n",
    "chi2.ppf(0.95, df)\r\n",
    "# 下側から自由度10のχ二乗分布の累積確立95%点を求めた\r\n",
    "df=10\r\n",
    "chi2.ppf(0.95, df)"
   ],
   "outputs": [
    {
     "output_type": "execute_result",
     "data": {
      "text/plain": [
       "18.307038053275146"
      ]
     },
     "metadata": {},
     "execution_count": 216
    }
   ],
   "metadata": {}
  },
  {
   "cell_type": "code",
   "execution_count": 208,
   "source": [
    "import matplotlib.pyplot as plt\r\n",
    "from scipy.stats import chi2\r\n",
    "\r\n",
    "fig, ax = plt.subplots(1, 1)\r\n",
    "df = 10\r\n",
    "x = np.linspace(chi2.ppf(0.01, df),\r\n",
    "                chi2.ppf(0.99, df), 100)\r\n",
    "ax.plot(x, chi2.pdf(x, df),\r\n",
    "       'r-', alpha=0.7, label='chi2 pdf') # alpha = 色の濃さ、\r\n",
    "# Probability density function.\r\n",
    "\r\n",
    "fig, ax = plt.subplots(1, 1)\r\n",
    "df = 10\r\n",
    "x = np.linspace(chi2.ppf(0.01, df),\r\n",
    "                chi2.ppf(0.99, df), 100)\r\n",
    "ax.plot(x, chi2.pdf(x, df),\r\n",
    "       'r-', alpha=0.7, label='chi2 pdf') # alpha = 色の濃さ、"
   ],
   "outputs": [
    {
     "output_type": "execute_result",
     "data": {
      "text/plain": [
       "[<matplotlib.lines.Line2D at 0x1724f242bb0>]"
      ]
     },
     "metadata": {},
     "execution_count": 208
    },
    {
     "output_type": "display_data",
     "data": {
      "image/png": "[encoded data removed]",
      "text/plain": [
       "<Figure size 432x288 with 1 Axes>"
      ]
     },
     "metadata": {
      "needs_background": "light"
     }
    },
    {
     "output_type": "display_data",
     "data": {
      "image/png": "[encoded data removed]",
      "text/plain": [
       "<Figure size 432x288 with 1 Axes>"
      ]
     },
     "metadata": {
      "needs_background": "light"
     }
    }
   ],
   "metadata": {}
  }
 ],
 "metadata": {
  "orig_nbformat": 4,
  "language_info": {
   "name": "python",
   "version": "3.8.10",
   "mimetype": "text/x-python",
   "codemirror_mode": {
    "name": "ipython",
    "version": 3
   },
   "pygments_lexer": "ipython3",
   "nbconvert_exporter": "python",
   "file_extension": ".py"
  },
  "kernelspec": {
   "name": "python3",
   "display_name": "Python 3.8.10 64-bit ('rake4': conda)"
  },
  "interpreter": {
   "hash": "dd5a840675b4b7a0124460e0160a18be5bf8441ea5223e9a03f358a511ddc22e"
  }
 },
 "nbformat": 4,
 "nbformat_minor": 2
}