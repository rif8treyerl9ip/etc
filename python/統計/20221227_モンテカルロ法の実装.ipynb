{
 "cells": [
  {
   "cell_type": "code",
   "execution_count": 2,
   "id": "ce2e83ae-80aa-44d1-90e1-ec9a4eb5c58e",
   "metadata": {},
   "outputs": [],
   "source": [
    "import numpy as np\n",
    "import matplotlib.pyplot as plt"
   ]
  },
  {
   "cell_type": "markdown",
   "id": "c450d893-efa8-4b54-bbf7-e5203d58b259",
   "metadata": {},
   "source": [
    "$$\n",
    "f(x)=\\int_0^4 \\sqrt{2 x+1} d x\n",
    "$$"
   ]
  },
  {
   "cell_type": "markdown",
   "id": "b3a75666-0374-499f-a5b6-03f46943854c",
   "metadata": {},
   "source": [
    "$$\n",
    "p(x)= \\begin{cases}\\frac{1}{b-a} & (a \\leq x \\leq b) \\\\ 0 & \\text { (otherwise })\\end{cases}\n",
    "$$"
   ]
  },
  {
   "cell_type": "markdown",
   "id": "69d7ff62-8194-4638-bb6b-08bb472470d1",
   "metadata": {},
   "source": [
    "$$\n",
    "\\int_a^b f(x) d x \\simeq \\frac{b-a}{N} \\sum_{n=1}^N f\\left(x^{(n)}\\right)\n",
    "$$"
   ]
  },
  {
   "cell_type": "markdown",
   "id": "80a2e3ef-5d4d-4d53-b3b6-34bcd422ed47",
   "metadata": {},
   "source": [
    "### モンテカルロ法によるサンプリング\n",
    "引用：https://www.iwanttobeacat.com/entry/2018/03/03/020059"
   ]
  },
  {
   "cell_type": "code",
   "execution_count": 17,
   "id": "a23d4af6-f635-48a3-b2d1-021496b129b4",
   "metadata": {},
   "outputs": [
    {
     "data": {
      "image/png": "[encoded data removed]",
      "text/plain": [
       "<Figure size 432x288 with 1 Axes>"
      ]
     },
     "metadata": {
      "needs_background": "light"
     },
     "output_type": "display_data"
    }
   ],
   "source": [
    "np.random.seed(0)\n",
    "answer = 26.0/3.0  # f(x)の積分の解\n",
    "# 積分対象の関数\n",
    "def f(x):\n",
    "    return np.sqrt(2*x+1)\n",
    "\n",
    "# Nサンプル発生させて積分を近似計算し、真値との誤差を計算（積分の真値は26.0/3.0）\n",
    "def err(N):\n",
    "    p = np.random.uniform(0, 4, N)\n",
    "    return np.abs(4*np.average(f(p)) - answer)\n",
    "\n",
    "# M回誤差を計算して平均をとる\n",
    "M = 100\n",
    "\n",
    "error = []\n",
    "\n",
    "# サンプリング数のリスト\n",
    "# N = [10**i for i in range(2, 9)]\n",
    "N = [10**i for i in range(2, 7)]\n",
    "\n",
    "for i in N:\n",
    "    # 計算時間調整\n",
    "    # if i >= 1e5:\n",
    "    #     M = 10\n",
    "    error.append(np.average([err(i) for j in range(M)]))\n",
    "\n",
    "plt.yscale(\"log\")\n",
    "plt.xscale(\"log\")\n",
    "plt.grid(which=\"both\")\n",
    "plt.xlabel(\"N\")\n",
    "plt.ylabel(\"error\")\n",
    "plt.plot(N, error)\n",
    "plt.show()"
   ]
  },
  {
   "cell_type": "markdown",
   "id": "fded0753-8e94-4a29-994e-141ea3b6a930",
   "metadata": {},
   "source": [
    "### 次の場合（統計学実践ワークブック 32章例4を実装）"
   ]
  },
  {
   "cell_type": "markdown",
   "id": "2ac898fe-acce-43a0-82d9-b1547c632098",
   "metadata": {},
   "source": [
    "$$\n",
    "\\int_2^5 e^{-x} d x\n",
    "$$"
   ]
  },
  {
   "cell_type": "markdown",
   "id": "7fc4f869-6bd5-4399-a8cc-32bae98e617d",
   "metadata": {},
   "source": [
    "$$\n",
    "f(x)=e^{-x}\n",
    "$$"
   ]
  },
  {
   "cell_type": "markdown",
   "id": "51d74d96-2714-453d-b23a-56ca6e13a37f",
   "metadata": {},
   "source": [
    "$$\n",
    "p(x)= \\begin{cases}\\frac{1}{5-2} & (2 \\leq x \\leq 5) \\\\ 0 & \\text { (otherwise })\\end{cases}\n",
    "$$"
   ]
  },
  {
   "cell_type": "markdown",
   "id": "f2ccb9de-2aba-44ba-b37e-237bde9fd8c1",
   "metadata": {},
   "source": [
    "$$\n",
    "\\int_2^5 f(x) d x \\simeq \\frac{5-2}{N} \\sum_{n=1}^N f\\left(x^{(n)}\\right)\n",
    "$$"
   ]
  },
  {
   "cell_type": "markdown",
   "id": "bd60d617-08bf-4c5c-a50f-03d5b1d36567",
   "metadata": {},
   "source": [
    "サンプリング数を増やすほどやはり標準誤差が減る。100倍にすると一桁減る。"
   ]
  },
  {
   "cell_type": "code",
   "execution_count": 26,
   "id": "a948e4b1-b677-4349-8eb7-24c1757ed37d",
   "metadata": {},
   "outputs": [
    {
     "data": {
      "image/png": "[encoded data removed]",
      "text/plain": [
       "<Figure size 432x288 with 1 Axes>"
      ]
     },
     "metadata": {
      "needs_background": "light"
     },
     "output_type": "display_data"
    }
   ],
   "source": [
    "np.random.seed(0)\n",
    "answer = 0.12860  # f(x)の積分の解\n",
    "\n",
    "def f(x):\n",
    "    return np.exp(-x)\n",
    "\n",
    "# Nサンプル発生させて積分を近似計算し、真値との誤差を計算（積分の真値は26.0/3.0）\n",
    "def err(N):\n",
    "    p = np.random.uniform(2, 5, N)\n",
    "    return np.abs(3*np.average(f(p)) - answer)\n",
    "\n",
    "# M回誤差を計算して平均をとる\n",
    "M = 100\n",
    "\n",
    "error = []\n",
    "\n",
    "# サンプリング数のリスト\n",
    "N = [10**i for i in range(2, 7)]\n",
    "\n",
    "for i in N:\n",
    "    error.append(np.average([err(i) for j in range(M)]))\n",
    "\n",
    "plt.yscale(\"log\")\n",
    "plt.xscale(\"log\")\n",
    "plt.grid(which=\"both\")\n",
    "plt.xlabel(\"N\")\n",
    "plt.ylabel(\"error\")\n",
    "plt.plot(N, error)\n",
    "plt.show()"
   ]
  },
  {
   "cell_type": "code",
   "execution_count": 21,
   "id": "b455b819-ee35-4f70-9d6a-862a50a52b58",
   "metadata": {},
   "outputs": [
    {
     "data": {
      "text/plain": [
       "0.12859733623752723"
      ]
     },
     "execution_count": 21,
     "metadata": {},
     "output_type": "execute_result"
    }
   ],
   "source": [
    "-np.exp(-5)+np.exp(-2)"
   ]
  },
  {
   "cell_type": "code",
   "execution_count": null,
   "id": "92df0854-57a8-4f48-b3a5-57a5b8a7105c",
   "metadata": {},
   "outputs": [],
   "source": [
    "\n"
   ]
  }
 ],
 "metadata": {
  "kernelspec": {
   "display_name": "Python 3 (ipykernel)",
   "language": "python",
   "name": "python3"
  },
  "language_info": {
   "codemirror_mode": {
    "name": "ipython",
    "version": 3
   },
   "file_extension": ".py",
   "mimetype": "text/x-python",
   "name": "python",
   "nbconvert_exporter": "python",
   "pygments_lexer": "ipython3",
   "version": "3.8.0"
  }
 },
 "nbformat": 4,
 "nbformat_minor": 5
}
