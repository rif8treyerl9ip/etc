{
 "cells": [
  {
   "cell_type": "code",
   "execution_count": 1,
   "metadata": {},
   "outputs": [],
   "source": [
    "from datetime import datetime, timedelta\n",
    "from datetime import date\n",
    "\n",
    "import glob\n",
    "import os\n",
    "\n",
    "import matplotlib.pyplot as plt\n",
    "plt.style.use('ggplot')\n",
    "%matplotlib inline\n",
    "import pandas as pd\n",
    "\n",
    "import stock_research as sr\n"
   ]
  },
  {
   "cell_type": "code",
   "execution_count": 2,
   "metadata": {},
   "outputs": [],
   "source": [
    "start_date = datetime(2022, 5, 1)\n",
    "end_date = datetime(2022, 5, 13)\n",
    "sdate = start_date.strftime('%Y%m%d')\n",
    "edate = end_date.strftime('%Y%m%d')\n",
    "date = '2022-03-30'\n",
    "SUMMARY_TYPE = 2\n",
    "params = {'date': date, 'type': SUMMARY_TYPE}\n",
    "EDINET_API_URL = \"https://disclosure.edinet-fsa.go.jp/api/v1\"\n",
    "save_path = '../warehouse/stock/original_data/'"
   ]
  },
  {
   "cell_type": "code",
   "execution_count": 7,
   "metadata": {},
   "outputs": [
    {
     "name": "stdout",
     "output_type": "stream",
     "text": [
      "start_date:2022-05-01 00:00:00\n",
      "end_date:2022-05-13 00:00:00\n",
      "sdate:20220501\n",
      "edate:20220513\n",
      "date:2022-03-30\n",
      "SUMMARY_TYPE:2\n",
      "params:{'date': '2022-03-30', 'type': 2}\n"
     ]
    }
   ],
   "source": [
    "print(f'start_date:{start_date}')\n",
    "print(f'end_date:{end_date}')\n",
    "print(f'sdate:{sdate}')\n",
    "print(f'edate:{edate}')\n",
    "print(f'date:{date}')\n",
    "print(f'SUMMARY_TYPE:{SUMMARY_TYPE}')\n",
    "print(f'params:{params}')"
   ]
  },
  {
   "cell_type": "code",
   "execution_count": 4,
   "metadata": {},
   "outputs": [
    {
     "name": "stdout",
     "output_type": "stream",
     "text": [
      "https://disclosure.edinet-fsa.go.jp/api/v1/documents.json\n"
     ]
    },
    {
     "ename": "ConnectionError",
     "evalue": "HTTPSConnectionPool(host='disclosure.edinet-fsa.go.jp', port=443): Max retries exceeded with url: /api/v1/documents.json?date=2022-03-30&type=2 (Caused by NewConnectionError('<urllib3.connection.HTTPSConnection object at 0x000001D0FCB7B940>: Failed to establish a new connection: [Errno 11001] getaddrinfo failed'))",
     "output_type": "error",
     "traceback": [
      "\u001b[1;31m---------------------------------------------------------------------------\u001b[0m",
      "\u001b[1;31mgaierror\u001b[0m                                  Traceback (most recent call last)",
      "\u001b[1;32m~\\tfgpu2\\.venv\\lib\\site-packages\\urllib3\\connection.py\u001b[0m in \u001b[0;36m_new_conn\u001b[1;34m(self)\u001b[0m\n\u001b[0;32m    173\u001b[0m         \u001b[1;32mtry\u001b[0m\u001b[1;33m:\u001b[0m\u001b[1;33m\u001b[0m\u001b[1;33m\u001b[0m\u001b[0m\n\u001b[1;32m--> 174\u001b[1;33m             conn = connection.create_connection(\n\u001b[0m\u001b[0;32m    175\u001b[0m                 \u001b[1;33m(\u001b[0m\u001b[0mself\u001b[0m\u001b[1;33m.\u001b[0m\u001b[0m_dns_host\u001b[0m\u001b[1;33m,\u001b[0m \u001b[0mself\u001b[0m\u001b[1;33m.\u001b[0m\u001b[0mport\u001b[0m\u001b[1;33m)\u001b[0m\u001b[1;33m,\u001b[0m \u001b[0mself\u001b[0m\u001b[1;33m.\u001b[0m\u001b[0mtimeout\u001b[0m\u001b[1;33m,\u001b[0m \u001b[1;33m**\u001b[0m\u001b[0mextra_kw\u001b[0m\u001b[1;33m\u001b[0m\u001b[1;33m\u001b[0m\u001b[0m\n",
      "\u001b[1;32m~\\tfgpu2\\.venv\\lib\\site-packages\\urllib3\\util\\connection.py\u001b[0m in \u001b[0;36mcreate_connection\u001b[1;34m(address, timeout, source_address, socket_options)\u001b[0m\n\u001b[0;32m     72\u001b[0m \u001b[1;33m\u001b[0m\u001b[0m\n\u001b[1;32m---> 73\u001b[1;33m     \u001b[1;32mfor\u001b[0m \u001b[0mres\u001b[0m \u001b[1;32min\u001b[0m \u001b[0msocket\u001b[0m\u001b[1;33m.\u001b[0m\u001b[0mgetaddrinfo\u001b[0m\u001b[1;33m(\u001b[0m\u001b[0mhost\u001b[0m\u001b[1;33m,\u001b[0m \u001b[0mport\u001b[0m\u001b[1;33m,\u001b[0m \u001b[0mfamily\u001b[0m\u001b[1;33m,\u001b[0m \u001b[0msocket\u001b[0m\u001b[1;33m.\u001b[0m\u001b[0mSOCK_STREAM\u001b[0m\u001b[1;33m)\u001b[0m\u001b[1;33m:\u001b[0m\u001b[1;33m\u001b[0m\u001b[1;33m\u001b[0m\u001b[0m\n\u001b[0m\u001b[0;32m     74\u001b[0m         \u001b[0maf\u001b[0m\u001b[1;33m,\u001b[0m \u001b[0msocktype\u001b[0m\u001b[1;33m,\u001b[0m \u001b[0mproto\u001b[0m\u001b[1;33m,\u001b[0m \u001b[0mcanonname\u001b[0m\u001b[1;33m,\u001b[0m \u001b[0msa\u001b[0m \u001b[1;33m=\u001b[0m \u001b[0mres\u001b[0m\u001b[1;33m\u001b[0m\u001b[1;33m\u001b[0m\u001b[0m\n",
      "\u001b[1;32m~\\.pyenv_win\\pyenv-win\\versions\\3.8.0\\lib\\socket.py\u001b[0m in \u001b[0;36mgetaddrinfo\u001b[1;34m(host, port, family, type, proto, flags)\u001b[0m\n\u001b[0;32m    913\u001b[0m     \u001b[0maddrlist\u001b[0m \u001b[1;33m=\u001b[0m \u001b[1;33m[\u001b[0m\u001b[1;33m]\u001b[0m\u001b[1;33m\u001b[0m\u001b[1;33m\u001b[0m\u001b[0m\n\u001b[1;32m--> 914\u001b[1;33m     \u001b[1;32mfor\u001b[0m \u001b[0mres\u001b[0m \u001b[1;32min\u001b[0m \u001b[0m_socket\u001b[0m\u001b[1;33m.\u001b[0m\u001b[0mgetaddrinfo\u001b[0m\u001b[1;33m(\u001b[0m\u001b[0mhost\u001b[0m\u001b[1;33m,\u001b[0m \u001b[0mport\u001b[0m\u001b[1;33m,\u001b[0m \u001b[0mfamily\u001b[0m\u001b[1;33m,\u001b[0m \u001b[0mtype\u001b[0m\u001b[1;33m,\u001b[0m \u001b[0mproto\u001b[0m\u001b[1;33m,\u001b[0m \u001b[0mflags\u001b[0m\u001b[1;33m)\u001b[0m\u001b[1;33m:\u001b[0m\u001b[1;33m\u001b[0m\u001b[1;33m\u001b[0m\u001b[0m\n\u001b[0m\u001b[0;32m    915\u001b[0m         \u001b[0maf\u001b[0m\u001b[1;33m,\u001b[0m \u001b[0msocktype\u001b[0m\u001b[1;33m,\u001b[0m \u001b[0mproto\u001b[0m\u001b[1;33m,\u001b[0m \u001b[0mcanonname\u001b[0m\u001b[1;33m,\u001b[0m \u001b[0msa\u001b[0m \u001b[1;33m=\u001b[0m \u001b[0mres\u001b[0m\u001b[1;33m\u001b[0m\u001b[1;33m\u001b[0m\u001b[0m\n",
      "\u001b[1;31mgaierror\u001b[0m: [Errno 11001] getaddrinfo failed",
      "\nDuring handling of the above exception, another exception occurred:\n",
      "\u001b[1;31mNewConnectionError\u001b[0m                        Traceback (most recent call last)",
      "\u001b[1;32m~\\tfgpu2\\.venv\\lib\\site-packages\\urllib3\\connectionpool.py\u001b[0m in \u001b[0;36murlopen\u001b[1;34m(self, method, url, body, headers, retries, redirect, assert_same_host, timeout, pool_timeout, release_conn, chunked, body_pos, **response_kw)\u001b[0m\n\u001b[0;32m    698\u001b[0m             \u001b[1;31m# Make the request on the httplib connection object.\u001b[0m\u001b[1;33m\u001b[0m\u001b[1;33m\u001b[0m\u001b[1;33m\u001b[0m\u001b[0m\n\u001b[1;32m--> 699\u001b[1;33m             httplib_response = self._make_request(\n\u001b[0m\u001b[0;32m    700\u001b[0m                 \u001b[0mconn\u001b[0m\u001b[1;33m,\u001b[0m\u001b[1;33m\u001b[0m\u001b[1;33m\u001b[0m\u001b[0m\n",
      "\u001b[1;32m~\\tfgpu2\\.venv\\lib\\site-packages\\urllib3\\connectionpool.py\u001b[0m in \u001b[0;36m_make_request\u001b[1;34m(self, conn, method, url, timeout, chunked, **httplib_request_kw)\u001b[0m\n\u001b[0;32m    381\u001b[0m         \u001b[1;32mtry\u001b[0m\u001b[1;33m:\u001b[0m\u001b[1;33m\u001b[0m\u001b[1;33m\u001b[0m\u001b[0m\n\u001b[1;32m--> 382\u001b[1;33m             \u001b[0mself\u001b[0m\u001b[1;33m.\u001b[0m\u001b[0m_validate_conn\u001b[0m\u001b[1;33m(\u001b[0m\u001b[0mconn\u001b[0m\u001b[1;33m)\u001b[0m\u001b[1;33m\u001b[0m\u001b[1;33m\u001b[0m\u001b[0m\n\u001b[0m\u001b[0;32m    383\u001b[0m         \u001b[1;32mexcept\u001b[0m \u001b[1;33m(\u001b[0m\u001b[0mSocketTimeout\u001b[0m\u001b[1;33m,\u001b[0m \u001b[0mBaseSSLError\u001b[0m\u001b[1;33m)\u001b[0m \u001b[1;32mas\u001b[0m \u001b[0me\u001b[0m\u001b[1;33m:\u001b[0m\u001b[1;33m\u001b[0m\u001b[1;33m\u001b[0m\u001b[0m\n",
      "\u001b[1;32m~\\tfgpu2\\.venv\\lib\\site-packages\\urllib3\\connectionpool.py\u001b[0m in \u001b[0;36m_validate_conn\u001b[1;34m(self, conn)\u001b[0m\n\u001b[0;32m   1009\u001b[0m         \u001b[1;32mif\u001b[0m \u001b[1;32mnot\u001b[0m \u001b[0mgetattr\u001b[0m\u001b[1;33m(\u001b[0m\u001b[0mconn\u001b[0m\u001b[1;33m,\u001b[0m \u001b[1;34m\"sock\"\u001b[0m\u001b[1;33m,\u001b[0m \u001b[1;32mNone\u001b[0m\u001b[1;33m)\u001b[0m\u001b[1;33m:\u001b[0m  \u001b[1;31m# AppEngine might not have  `.sock`\u001b[0m\u001b[1;33m\u001b[0m\u001b[1;33m\u001b[0m\u001b[0m\n\u001b[1;32m-> 1010\u001b[1;33m             \u001b[0mconn\u001b[0m\u001b[1;33m.\u001b[0m\u001b[0mconnect\u001b[0m\u001b[1;33m(\u001b[0m\u001b[1;33m)\u001b[0m\u001b[1;33m\u001b[0m\u001b[1;33m\u001b[0m\u001b[0m\n\u001b[0m\u001b[0;32m   1011\u001b[0m \u001b[1;33m\u001b[0m\u001b[0m\n",
      "\u001b[1;32m~\\tfgpu2\\.venv\\lib\\site-packages\\urllib3\\connection.py\u001b[0m in \u001b[0;36mconnect\u001b[1;34m(self)\u001b[0m\n\u001b[0;32m    357\u001b[0m         \u001b[1;31m# Add certificate verification\u001b[0m\u001b[1;33m\u001b[0m\u001b[1;33m\u001b[0m\u001b[1;33m\u001b[0m\u001b[0m\n\u001b[1;32m--> 358\u001b[1;33m         \u001b[0mconn\u001b[0m \u001b[1;33m=\u001b[0m \u001b[0mself\u001b[0m\u001b[1;33m.\u001b[0m\u001b[0m_new_conn\u001b[0m\u001b[1;33m(\u001b[0m\u001b[1;33m)\u001b[0m\u001b[1;33m\u001b[0m\u001b[1;33m\u001b[0m\u001b[0m\n\u001b[0m\u001b[0;32m    359\u001b[0m         \u001b[0mhostname\u001b[0m \u001b[1;33m=\u001b[0m \u001b[0mself\u001b[0m\u001b[1;33m.\u001b[0m\u001b[0mhost\u001b[0m\u001b[1;33m\u001b[0m\u001b[1;33m\u001b[0m\u001b[0m\n",
      "\u001b[1;32m~\\tfgpu2\\.venv\\lib\\site-packages\\urllib3\\connection.py\u001b[0m in \u001b[0;36m_new_conn\u001b[1;34m(self)\u001b[0m\n\u001b[0;32m    185\u001b[0m         \u001b[1;32mexcept\u001b[0m \u001b[0mSocketError\u001b[0m \u001b[1;32mas\u001b[0m \u001b[0me\u001b[0m\u001b[1;33m:\u001b[0m\u001b[1;33m\u001b[0m\u001b[1;33m\u001b[0m\u001b[0m\n\u001b[1;32m--> 186\u001b[1;33m             raise NewConnectionError(\n\u001b[0m\u001b[0;32m    187\u001b[0m                 \u001b[0mself\u001b[0m\u001b[1;33m,\u001b[0m \u001b[1;34m\"Failed to establish a new connection: %s\"\u001b[0m \u001b[1;33m%\u001b[0m \u001b[0me\u001b[0m\u001b[1;33m\u001b[0m\u001b[1;33m\u001b[0m\u001b[0m\n",
      "\u001b[1;31mNewConnectionError\u001b[0m: <urllib3.connection.HTTPSConnection object at 0x000001D0FCB7B940>: Failed to establish a new connection: [Errno 11001] getaddrinfo failed",
      "\nDuring handling of the above exception, another exception occurred:\n",
      "\u001b[1;31mMaxRetryError\u001b[0m                             Traceback (most recent call last)",
      "\u001b[1;32m~\\tfgpu2\\.venv\\lib\\site-packages\\requests\\adapters.py\u001b[0m in \u001b[0;36msend\u001b[1;34m(self, request, stream, timeout, verify, cert, proxies)\u001b[0m\n\u001b[0;32m    439\u001b[0m             \u001b[1;32mif\u001b[0m \u001b[1;32mnot\u001b[0m \u001b[0mchunked\u001b[0m\u001b[1;33m:\u001b[0m\u001b[1;33m\u001b[0m\u001b[1;33m\u001b[0m\u001b[0m\n\u001b[1;32m--> 440\u001b[1;33m                 resp = conn.urlopen(\n\u001b[0m\u001b[0;32m    441\u001b[0m                     \u001b[0mmethod\u001b[0m\u001b[1;33m=\u001b[0m\u001b[0mrequest\u001b[0m\u001b[1;33m.\u001b[0m\u001b[0mmethod\u001b[0m\u001b[1;33m,\u001b[0m\u001b[1;33m\u001b[0m\u001b[1;33m\u001b[0m\u001b[0m\n",
      "\u001b[1;32m~\\tfgpu2\\.venv\\lib\\site-packages\\urllib3\\connectionpool.py\u001b[0m in \u001b[0;36murlopen\u001b[1;34m(self, method, url, body, headers, retries, redirect, assert_same_host, timeout, pool_timeout, release_conn, chunked, body_pos, **response_kw)\u001b[0m\n\u001b[0;32m    754\u001b[0m \u001b[1;33m\u001b[0m\u001b[0m\n\u001b[1;32m--> 755\u001b[1;33m             retries = retries.increment(\n\u001b[0m\u001b[0;32m    756\u001b[0m                 \u001b[0mmethod\u001b[0m\u001b[1;33m,\u001b[0m \u001b[0murl\u001b[0m\u001b[1;33m,\u001b[0m \u001b[0merror\u001b[0m\u001b[1;33m=\u001b[0m\u001b[0me\u001b[0m\u001b[1;33m,\u001b[0m \u001b[0m_pool\u001b[0m\u001b[1;33m=\u001b[0m\u001b[0mself\u001b[0m\u001b[1;33m,\u001b[0m \u001b[0m_stacktrace\u001b[0m\u001b[1;33m=\u001b[0m\u001b[0msys\u001b[0m\u001b[1;33m.\u001b[0m\u001b[0mexc_info\u001b[0m\u001b[1;33m(\u001b[0m\u001b[1;33m)\u001b[0m\u001b[1;33m[\u001b[0m\u001b[1;36m2\u001b[0m\u001b[1;33m]\u001b[0m\u001b[1;33m\u001b[0m\u001b[1;33m\u001b[0m\u001b[0m\n",
      "\u001b[1;32m~\\tfgpu2\\.venv\\lib\\site-packages\\urllib3\\util\\retry.py\u001b[0m in \u001b[0;36mincrement\u001b[1;34m(self, method, url, response, error, _pool, _stacktrace)\u001b[0m\n\u001b[0;32m    573\u001b[0m         \u001b[1;32mif\u001b[0m \u001b[0mnew_retry\u001b[0m\u001b[1;33m.\u001b[0m\u001b[0mis_exhausted\u001b[0m\u001b[1;33m(\u001b[0m\u001b[1;33m)\u001b[0m\u001b[1;33m:\u001b[0m\u001b[1;33m\u001b[0m\u001b[1;33m\u001b[0m\u001b[0m\n\u001b[1;32m--> 574\u001b[1;33m             \u001b[1;32mraise\u001b[0m \u001b[0mMaxRetryError\u001b[0m\u001b[1;33m(\u001b[0m\u001b[0m_pool\u001b[0m\u001b[1;33m,\u001b[0m \u001b[0murl\u001b[0m\u001b[1;33m,\u001b[0m \u001b[0merror\u001b[0m \u001b[1;32mor\u001b[0m \u001b[0mResponseError\u001b[0m\u001b[1;33m(\u001b[0m\u001b[0mcause\u001b[0m\u001b[1;33m)\u001b[0m\u001b[1;33m)\u001b[0m\u001b[1;33m\u001b[0m\u001b[1;33m\u001b[0m\u001b[0m\n\u001b[0m\u001b[0;32m    575\u001b[0m \u001b[1;33m\u001b[0m\u001b[0m\n",
      "\u001b[1;31mMaxRetryError\u001b[0m: HTTPSConnectionPool(host='disclosure.edinet-fsa.go.jp', port=443): Max retries exceeded with url: /api/v1/documents.json?date=2022-03-30&type=2 (Caused by NewConnectionError('<urllib3.connection.HTTPSConnection object at 0x000001D0FCB7B940>: Failed to establish a new connection: [Errno 11001] getaddrinfo failed'))",
      "\nDuring handling of the above exception, another exception occurred:\n",
      "\u001b[1;31mConnectionError\u001b[0m                           Traceback (most recent call last)",
      "\u001b[1;32m~\\AppData\\Local\\Temp/ipykernel_3008/1273466616.py\u001b[0m in \u001b[0;36m<module>\u001b[1;34m\u001b[0m\n\u001b[0;32m     12\u001b[0m     \u001b[1;32mreturn\u001b[0m \u001b[0mresponse\u001b[0m\u001b[1;33m.\u001b[0m\u001b[0mjson\u001b[0m\u001b[1;33m(\u001b[0m\u001b[1;33m)\u001b[0m\u001b[1;33m\u001b[0m\u001b[1;33m\u001b[0m\u001b[0m\n\u001b[0;32m     13\u001b[0m \u001b[1;33m\u001b[0m\u001b[0m\n\u001b[1;32m---> 14\u001b[1;33m \u001b[0mdoc_summary\u001b[0m \u001b[1;33m=\u001b[0m \u001b[0mget_submitted_summary\u001b[0m\u001b[1;33m(\u001b[0m\u001b[0mparams\u001b[0m\u001b[1;33m)\u001b[0m\u001b[1;33m\u001b[0m\u001b[1;33m\u001b[0m\u001b[0m\n\u001b[0m\u001b[0;32m     15\u001b[0m \u001b[0mdf_doc_summary\u001b[0m \u001b[1;33m=\u001b[0m \u001b[0mpd\u001b[0m\u001b[1;33m.\u001b[0m\u001b[0mDataFrame\u001b[0m\u001b[1;33m(\u001b[0m\u001b[0mdoc_summary\u001b[0m\u001b[1;33m[\u001b[0m\u001b[1;34m'results'\u001b[0m\u001b[1;33m]\u001b[0m\u001b[1;33m)\u001b[0m\u001b[1;33m\u001b[0m\u001b[1;33m\u001b[0m\u001b[0m\n",
      "\u001b[1;32m~\\AppData\\Local\\Temp/ipykernel_3008/1273466616.py\u001b[0m in \u001b[0;36mget_submitted_summary\u001b[1;34m(params)\u001b[0m\n\u001b[0;32m      7\u001b[0m     \u001b[0murl\u001b[0m \u001b[1;33m=\u001b[0m \u001b[0mEDINET_API_URL\u001b[0m \u001b[1;33m+\u001b[0m \u001b[1;34m'/documents.json'\u001b[0m\u001b[1;33m\u001b[0m\u001b[1;33m\u001b[0m\u001b[0m\n\u001b[0;32m      8\u001b[0m     \u001b[0mprint\u001b[0m\u001b[1;33m(\u001b[0m\u001b[0murl\u001b[0m\u001b[1;33m)\u001b[0m\u001b[1;33m\u001b[0m\u001b[1;33m\u001b[0m\u001b[0m\n\u001b[1;32m----> 9\u001b[1;33m     \u001b[0mresponse\u001b[0m \u001b[1;33m=\u001b[0m \u001b[0mrequests\u001b[0m\u001b[1;33m.\u001b[0m\u001b[0mget\u001b[0m\u001b[1;33m(\u001b[0m\u001b[0murl\u001b[0m\u001b[1;33m,\u001b[0m \u001b[0mparams\u001b[0m\u001b[1;33m=\u001b[0m\u001b[0mparams\u001b[0m\u001b[1;33m)\u001b[0m\u001b[1;33m\u001b[0m\u001b[1;33m\u001b[0m\u001b[0m\n\u001b[0m\u001b[0;32m     10\u001b[0m     \u001b[1;31m# responseが200でなければエラーを出力\u001b[0m\u001b[1;33m\u001b[0m\u001b[1;33m\u001b[0m\u001b[1;33m\u001b[0m\u001b[0m\n\u001b[0;32m     11\u001b[0m     \u001b[1;32massert\u001b[0m \u001b[0mresponse\u001b[0m\u001b[1;33m.\u001b[0m\u001b[0mstatus_code\u001b[0m\u001b[1;33m==\u001b[0m\u001b[1;36m200\u001b[0m\u001b[1;33m\u001b[0m\u001b[1;33m\u001b[0m\u001b[0m\n",
      "\u001b[1;32m~\\tfgpu2\\.venv\\lib\\site-packages\\requests\\api.py\u001b[0m in \u001b[0;36mget\u001b[1;34m(url, params, **kwargs)\u001b[0m\n\u001b[0;32m     73\u001b[0m     \"\"\"\n\u001b[0;32m     74\u001b[0m \u001b[1;33m\u001b[0m\u001b[0m\n\u001b[1;32m---> 75\u001b[1;33m     \u001b[1;32mreturn\u001b[0m \u001b[0mrequest\u001b[0m\u001b[1;33m(\u001b[0m\u001b[1;34m'get'\u001b[0m\u001b[1;33m,\u001b[0m \u001b[0murl\u001b[0m\u001b[1;33m,\u001b[0m \u001b[0mparams\u001b[0m\u001b[1;33m=\u001b[0m\u001b[0mparams\u001b[0m\u001b[1;33m,\u001b[0m \u001b[1;33m**\u001b[0m\u001b[0mkwargs\u001b[0m\u001b[1;33m)\u001b[0m\u001b[1;33m\u001b[0m\u001b[1;33m\u001b[0m\u001b[0m\n\u001b[0m\u001b[0;32m     76\u001b[0m \u001b[1;33m\u001b[0m\u001b[0m\n\u001b[0;32m     77\u001b[0m \u001b[1;33m\u001b[0m\u001b[0m\n",
      "\u001b[1;32m~\\tfgpu2\\.venv\\lib\\site-packages\\requests\\api.py\u001b[0m in \u001b[0;36mrequest\u001b[1;34m(method, url, **kwargs)\u001b[0m\n\u001b[0;32m     59\u001b[0m     \u001b[1;31m# cases, and look like a memory leak in others.\u001b[0m\u001b[1;33m\u001b[0m\u001b[1;33m\u001b[0m\u001b[1;33m\u001b[0m\u001b[0m\n\u001b[0;32m     60\u001b[0m     \u001b[1;32mwith\u001b[0m \u001b[0msessions\u001b[0m\u001b[1;33m.\u001b[0m\u001b[0mSession\u001b[0m\u001b[1;33m(\u001b[0m\u001b[1;33m)\u001b[0m \u001b[1;32mas\u001b[0m \u001b[0msession\u001b[0m\u001b[1;33m:\u001b[0m\u001b[1;33m\u001b[0m\u001b[1;33m\u001b[0m\u001b[0m\n\u001b[1;32m---> 61\u001b[1;33m         \u001b[1;32mreturn\u001b[0m \u001b[0msession\u001b[0m\u001b[1;33m.\u001b[0m\u001b[0mrequest\u001b[0m\u001b[1;33m(\u001b[0m\u001b[0mmethod\u001b[0m\u001b[1;33m=\u001b[0m\u001b[0mmethod\u001b[0m\u001b[1;33m,\u001b[0m \u001b[0murl\u001b[0m\u001b[1;33m=\u001b[0m\u001b[0murl\u001b[0m\u001b[1;33m,\u001b[0m \u001b[1;33m**\u001b[0m\u001b[0mkwargs\u001b[0m\u001b[1;33m)\u001b[0m\u001b[1;33m\u001b[0m\u001b[1;33m\u001b[0m\u001b[0m\n\u001b[0m\u001b[0;32m     62\u001b[0m \u001b[1;33m\u001b[0m\u001b[0m\n\u001b[0;32m     63\u001b[0m \u001b[1;33m\u001b[0m\u001b[0m\n",
      "\u001b[1;32m~\\tfgpu2\\.venv\\lib\\site-packages\\requests\\sessions.py\u001b[0m in \u001b[0;36mrequest\u001b[1;34m(self, method, url, params, data, headers, cookies, files, auth, timeout, allow_redirects, proxies, hooks, stream, verify, cert, json)\u001b[0m\n\u001b[0;32m    527\u001b[0m         }\n\u001b[0;32m    528\u001b[0m         \u001b[0msend_kwargs\u001b[0m\u001b[1;33m.\u001b[0m\u001b[0mupdate\u001b[0m\u001b[1;33m(\u001b[0m\u001b[0msettings\u001b[0m\u001b[1;33m)\u001b[0m\u001b[1;33m\u001b[0m\u001b[1;33m\u001b[0m\u001b[0m\n\u001b[1;32m--> 529\u001b[1;33m         \u001b[0mresp\u001b[0m \u001b[1;33m=\u001b[0m \u001b[0mself\u001b[0m\u001b[1;33m.\u001b[0m\u001b[0msend\u001b[0m\u001b[1;33m(\u001b[0m\u001b[0mprep\u001b[0m\u001b[1;33m,\u001b[0m \u001b[1;33m**\u001b[0m\u001b[0msend_kwargs\u001b[0m\u001b[1;33m)\u001b[0m\u001b[1;33m\u001b[0m\u001b[1;33m\u001b[0m\u001b[0m\n\u001b[0m\u001b[0;32m    530\u001b[0m \u001b[1;33m\u001b[0m\u001b[0m\n\u001b[0;32m    531\u001b[0m         \u001b[1;32mreturn\u001b[0m \u001b[0mresp\u001b[0m\u001b[1;33m\u001b[0m\u001b[1;33m\u001b[0m\u001b[0m\n",
      "\u001b[1;32m~\\tfgpu2\\.venv\\lib\\site-packages\\requests\\sessions.py\u001b[0m in \u001b[0;36msend\u001b[1;34m(self, request, **kwargs)\u001b[0m\n\u001b[0;32m    643\u001b[0m \u001b[1;33m\u001b[0m\u001b[0m\n\u001b[0;32m    644\u001b[0m         \u001b[1;31m# Send the request\u001b[0m\u001b[1;33m\u001b[0m\u001b[1;33m\u001b[0m\u001b[1;33m\u001b[0m\u001b[0m\n\u001b[1;32m--> 645\u001b[1;33m         \u001b[0mr\u001b[0m \u001b[1;33m=\u001b[0m \u001b[0madapter\u001b[0m\u001b[1;33m.\u001b[0m\u001b[0msend\u001b[0m\u001b[1;33m(\u001b[0m\u001b[0mrequest\u001b[0m\u001b[1;33m,\u001b[0m \u001b[1;33m**\u001b[0m\u001b[0mkwargs\u001b[0m\u001b[1;33m)\u001b[0m\u001b[1;33m\u001b[0m\u001b[1;33m\u001b[0m\u001b[0m\n\u001b[0m\u001b[0;32m    646\u001b[0m \u001b[1;33m\u001b[0m\u001b[0m\n\u001b[0;32m    647\u001b[0m         \u001b[1;31m# Total elapsed time of the request (approximately)\u001b[0m\u001b[1;33m\u001b[0m\u001b[1;33m\u001b[0m\u001b[1;33m\u001b[0m\u001b[0m\n",
      "\u001b[1;32m~\\tfgpu2\\.venv\\lib\\site-packages\\requests\\adapters.py\u001b[0m in \u001b[0;36msend\u001b[1;34m(self, request, stream, timeout, verify, cert, proxies)\u001b[0m\n\u001b[0;32m    517\u001b[0m                 \u001b[1;32mraise\u001b[0m \u001b[0mSSLError\u001b[0m\u001b[1;33m(\u001b[0m\u001b[0me\u001b[0m\u001b[1;33m,\u001b[0m \u001b[0mrequest\u001b[0m\u001b[1;33m=\u001b[0m\u001b[0mrequest\u001b[0m\u001b[1;33m)\u001b[0m\u001b[1;33m\u001b[0m\u001b[1;33m\u001b[0m\u001b[0m\n\u001b[0;32m    518\u001b[0m \u001b[1;33m\u001b[0m\u001b[0m\n\u001b[1;32m--> 519\u001b[1;33m             \u001b[1;32mraise\u001b[0m \u001b[0mConnectionError\u001b[0m\u001b[1;33m(\u001b[0m\u001b[0me\u001b[0m\u001b[1;33m,\u001b[0m \u001b[0mrequest\u001b[0m\u001b[1;33m=\u001b[0m\u001b[0mrequest\u001b[0m\u001b[1;33m)\u001b[0m\u001b[1;33m\u001b[0m\u001b[1;33m\u001b[0m\u001b[0m\n\u001b[0m\u001b[0;32m    520\u001b[0m \u001b[1;33m\u001b[0m\u001b[0m\n\u001b[0;32m    521\u001b[0m         \u001b[1;32mexcept\u001b[0m \u001b[0mClosedPoolError\u001b[0m \u001b[1;32mas\u001b[0m \u001b[0me\u001b[0m\u001b[1;33m:\u001b[0m\u001b[1;33m\u001b[0m\u001b[1;33m\u001b[0m\u001b[0m\n",
      "\u001b[1;31mConnectionError\u001b[0m: HTTPSConnectionPool(host='disclosure.edinet-fsa.go.jp', port=443): Max retries exceeded with url: /api/v1/documents.json?date=2022-03-30&type=2 (Caused by NewConnectionError('<urllib3.connection.HTTPSConnection object at 0x000001D0FCB7B940>: Failed to establish a new connection: [Errno 11001] getaddrinfo failed'))"
     ]
    }
   ],
   "source": [
    "doc_summary = sr.get_submitted_summary(params)\n",
    "df_doc_summary = pd.DataFrame(doc_summary['results'])"
   ]
  },
  {
   "cell_type": "code",
   "execution_count": 7,
   "metadata": {},
   "outputs": [],
   "source": [
    "  SUMMARY_TYPE = 2\n"
   ]
  },
  {
   "cell_type": "code",
   "execution_count": 80,
   "metadata": {},
   "outputs": [
    {
     "name": "stdout",
     "output_type": "stream",
     "text": [
      "https://disclosure.edinet-fsa.go.jp/api/v1/documents.json\n",
      "2022-05-01 (0, 0)\n",
      "https://disclosure.edinet-fsa.go.jp/api/v1/documents.json\n",
      "2022-05-02 (19, 27)\n",
      "https://disclosure.edinet-fsa.go.jp/api/v1/documents.json\n",
      "2022-05-03 (19, 27)\n",
      "https://disclosure.edinet-fsa.go.jp/api/v1/documents.json\n",
      "2022-05-04 (19, 27)\n",
      "https://disclosure.edinet-fsa.go.jp/api/v1/documents.json\n",
      "2022-05-05 (19, 27)\n",
      "https://disclosure.edinet-fsa.go.jp/api/v1/documents.json\n",
      "2022-05-06 (50, 27)\n",
      "https://disclosure.edinet-fsa.go.jp/api/v1/documents.json\n",
      "2022-05-07 (50, 27)\n",
      "https://disclosure.edinet-fsa.go.jp/api/v1/documents.json\n",
      "2022-05-08 (50, 27)\n",
      "https://disclosure.edinet-fsa.go.jp/api/v1/documents.json\n",
      "2022-05-09 (74, 27)\n",
      "https://disclosure.edinet-fsa.go.jp/api/v1/documents.json\n",
      "2022-05-10 (92, 27)\n",
      "https://disclosure.edinet-fsa.go.jp/api/v1/documents.json\n",
      "2022-05-11 (100, 27)\n",
      "https://disclosure.edinet-fsa.go.jp/api/v1/documents.json\n",
      "2022-05-12 (123, 27)\n",
      "https://disclosure.edinet-fsa.go.jp/api/v1/documents.json\n",
      "2022-05-13 (195, 27)\n"
     ]
    }
   ],
   "source": [
    "doc_type_code=['120']\n",
    " \n",
    "for i, date in enumerate(date_range(start_date, end_date)):\n",
    "    date_str = str(date)[:10]\n",
    "    df_doc_summary = sr.download_all_documents(date_str, save_path, doc_type_code)\n",
    "    if i == 0:\n",
    "        df_doc_summary_all = df_doc_summary.copy()\n",
    "    else:\n",
    "        df_doc_summary_all = pd.concat([df_doc_summary_all, df_doc_summary])\n",
    "    print(date_str,df_doc_summary_all.shape)\n"
   ]
  },
  {
   "cell_type": "code",
   "execution_count": 43,
   "metadata": {},
   "outputs": [
    {
     "name": "stdout",
     "output_type": "stream",
     "text": [
      "../warehouse/stock/original_data\\2022-05-02\n",
      "../warehouse/stock/original_data\\2022-05-06\n",
      "../warehouse/stock/original_data\\2022-05-09\n",
      "../warehouse/stock/original_data\\2022-05-10\n",
      "../warehouse/stock/original_data\\2022-05-11\n",
      "../warehouse/stock/original_data\\2022-05-12\n",
      "../warehouse/stock/original_data\\2022-05-13\n"
     ]
    }
   ],
   "source": [
    "\n",
    "files = glob.glob(save_path+'*')\n",
    "for file in files:\n",
    "    print(file)"
   ]
  },
  {
   "cell_type": "code",
   "execution_count": 42,
   "metadata": {},
   "outputs": [
    {
     "data": {
      "text/plain": [
       "'../warehouse/stock/original_data/'"
      ]
     },
     "execution_count": 42,
     "metadata": {},
     "output_type": "execute_result"
    }
   ],
   "source": [
    "save_path"
   ]
  },
  {
   "cell_type": "code",
   "execution_count": 51,
   "metadata": {},
   "outputs": [
    {
     "name": "stdout",
     "output_type": "stream",
     "text": [
      "2022-05-02 (19, 28)\n",
      "2022-05-06 (50, 28)\n",
      "2022-05-09 (74, 28)\n",
      "2022-05-10 (92, 28)\n",
      "2022-05-11 (100, 28)\n",
      "2022-05-12 (123, 28)\n",
      "2022-05-13 (195, 28)\n"
     ]
    }
   ],
   "source": [
    "start_date = datetime(2022, 5, 1)\n",
    "end_date = datetime(2022, 5, 13)\n",
    "i = -1\n",
    "for date in sr.date_range(start_date, end_date):\n",
    "    date_str = str(date)[:10]\n",
    "    tmppath = save_path + date_str + '/doc_summary.csv'\n",
    "    if os.path.exists(tmppath):\n",
    "        i+=1\n",
    "        df_doc_summary = pd.read_csv(save_path + date_str + '/doc_summary.csv')\n",
    "        if i == 0:\n",
    "            df_doc_summary_all = df_doc_summary.copy()\n",
    "        else:\n",
    "            df_doc_summary_all = pd.concat([df_doc_summary_all, df_doc_summary])\n",
    "        print(date_str,df_doc_summary_all.shape)\n"
   ]
  },
  {
   "cell_type": "code",
   "execution_count": 101,
   "metadata": {},
   "outputs": [
    {
     "data": {
      "text/html": [
       "<div>\n",
       "<style scoped>\n",
       "    .dataframe tbody tr th:only-of-type {\n",
       "        vertical-align: middle;\n",
       "    }\n",
       "\n",
       "    .dataframe tbody tr th {\n",
       "        vertical-align: top;\n",
       "    }\n",
       "\n",
       "    .dataframe thead th {\n",
       "        text-align: right;\n",
       "    }\n",
       "</style>\n",
       "<table border=\"1\" class=\"dataframe\">\n",
       "  <thead>\n",
       "    <tr style=\"text-align: right;\">\n",
       "      <th></th>\n",
       "      <th>seqNumber</th>\n",
       "      <th>docID</th>\n",
       "      <th>edinetCode</th>\n",
       "      <th>secCode</th>\n",
       "      <th>JCN</th>\n",
       "      <th>filerName</th>\n",
       "      <th>fundCode</th>\n",
       "      <th>ordinanceCode</th>\n",
       "      <th>formCode</th>\n",
       "      <th>docTypeCode</th>\n",
       "      <th>periodStart</th>\n",
       "      <th>periodEnd</th>\n",
       "      <th>submitDateTime</th>\n",
       "      <th>docDescription</th>\n",
       "      <th>issuerEdinetCode</th>\n",
       "      <th>subjectEdinetCode</th>\n",
       "      <th>subsidiaryEdinetCode</th>\n",
       "      <th>currentReportReason</th>\n",
       "      <th>parentDocID</th>\n",
       "      <th>opeDateTime</th>\n",
       "      <th>withdrawalStatus</th>\n",
       "      <th>docInfoEditStatus</th>\n",
       "      <th>disclosureStatus</th>\n",
       "      <th>xbrlFlag</th>\n",
       "      <th>pdfFlag</th>\n",
       "      <th>attachDocFlag</th>\n",
       "      <th>englishDocFlag</th>\n",
       "    </tr>\n",
       "  </thead>\n",
       "  <tbody>\n",
       "    <tr>\n",
       "      <th>233</th>\n",
       "      <td>234</td>\n",
       "      <td>S100O0LR</td>\n",
       "      <td>E33868</td>\n",
       "      <td>65730</td>\n",
       "      <td>6011001056801</td>\n",
       "      <td>アジャイルメディア・ネットワーク株式会社</td>\n",
       "      <td>None</td>\n",
       "      <td>010</td>\n",
       "      <td>030000</td>\n",
       "      <td>120</td>\n",
       "      <td>2021-01-01</td>\n",
       "      <td>2021-12-31</td>\n",
       "      <td>2022-05-11 15:02</td>\n",
       "      <td>有価証券報告書－第15期(令和3年1月1日－令和3年12月31日)</td>\n",
       "      <td>None</td>\n",
       "      <td>None</td>\n",
       "      <td>None</td>\n",
       "      <td>None</td>\n",
       "      <td>None</td>\n",
       "      <td>None</td>\n",
       "      <td>0</td>\n",
       "      <td>0</td>\n",
       "      <td>0</td>\n",
       "      <td>1</td>\n",
       "      <td>1</td>\n",
       "      <td>1</td>\n",
       "      <td>0</td>\n",
       "    </tr>\n",
       "    <tr>\n",
       "      <th>139</th>\n",
       "      <td>140</td>\n",
       "      <td>S100O02E</td>\n",
       "      <td>E03219</td>\n",
       "      <td>99760</td>\n",
       "      <td>3070001008818</td>\n",
       "      <td>株式会社　セキチュー</td>\n",
       "      <td>None</td>\n",
       "      <td>010</td>\n",
       "      <td>030000</td>\n",
       "      <td>120</td>\n",
       "      <td>2021-02-21</td>\n",
       "      <td>2022-02-20</td>\n",
       "      <td>2022-05-12 10:16</td>\n",
       "      <td>有価証券報告書－第71期(令和3年2月21日－令和4年2月20日)</td>\n",
       "      <td>None</td>\n",
       "      <td>None</td>\n",
       "      <td>None</td>\n",
       "      <td>None</td>\n",
       "      <td>None</td>\n",
       "      <td>None</td>\n",
       "      <td>0</td>\n",
       "      <td>0</td>\n",
       "      <td>0</td>\n",
       "      <td>1</td>\n",
       "      <td>1</td>\n",
       "      <td>1</td>\n",
       "      <td>0</td>\n",
       "    </tr>\n",
       "    <tr>\n",
       "      <th>256</th>\n",
       "      <td>257</td>\n",
       "      <td>S100O06O</td>\n",
       "      <td>E03119</td>\n",
       "      <td>82170</td>\n",
       "      <td>2170001002092</td>\n",
       "      <td>株式会社オークワ</td>\n",
       "      <td>None</td>\n",
       "      <td>010</td>\n",
       "      <td>030000</td>\n",
       "      <td>120</td>\n",
       "      <td>2021-02-21</td>\n",
       "      <td>2022-02-20</td>\n",
       "      <td>2022-05-12 13:57</td>\n",
       "      <td>有価証券報告書－第53期(令和3年2月21日－令和4年2月20日)</td>\n",
       "      <td>None</td>\n",
       "      <td>None</td>\n",
       "      <td>None</td>\n",
       "      <td>None</td>\n",
       "      <td>None</td>\n",
       "      <td>None</td>\n",
       "      <td>0</td>\n",
       "      <td>0</td>\n",
       "      <td>0</td>\n",
       "      <td>1</td>\n",
       "      <td>1</td>\n",
       "      <td>1</td>\n",
       "      <td>0</td>\n",
       "    </tr>\n",
       "    <tr>\n",
       "      <th>177</th>\n",
       "      <td>178</td>\n",
       "      <td>S100O17W</td>\n",
       "      <td>E03415</td>\n",
       "      <td>27780</td>\n",
       "      <td>4180001086075</td>\n",
       "      <td>パレモ・ホールディングス株式会社</td>\n",
       "      <td>None</td>\n",
       "      <td>010</td>\n",
       "      <td>030000</td>\n",
       "      <td>120</td>\n",
       "      <td>2021-02-21</td>\n",
       "      <td>2022-02-20</td>\n",
       "      <td>2022-05-13 09:16</td>\n",
       "      <td>有価証券報告書－第37期(令和3年2月21日－令和4年2月20日)</td>\n",
       "      <td>None</td>\n",
       "      <td>None</td>\n",
       "      <td>None</td>\n",
       "      <td>None</td>\n",
       "      <td>None</td>\n",
       "      <td>None</td>\n",
       "      <td>0</td>\n",
       "      <td>0</td>\n",
       "      <td>0</td>\n",
       "      <td>1</td>\n",
       "      <td>1</td>\n",
       "      <td>1</td>\n",
       "      <td>0</td>\n",
       "    </tr>\n",
       "  </tbody>\n",
       "</table>\n",
       "</div>"
      ],
      "text/plain": [
       "     seqNumber     docID edinetCode secCode            JCN  \\\n",
       "233        234  S100O0LR     E33868   65730  6011001056801   \n",
       "139        140  S100O02E     E03219   99760  3070001008818   \n",
       "256        257  S100O06O     E03119   82170  2170001002092   \n",
       "177        178  S100O17W     E03415   27780  4180001086075   \n",
       "\n",
       "                filerName fundCode ordinanceCode formCode docTypeCode  \\\n",
       "233  アジャイルメディア・ネットワーク株式会社     None           010   030000         120   \n",
       "139            株式会社　セキチュー     None           010   030000         120   \n",
       "256              株式会社オークワ     None           010   030000         120   \n",
       "177      パレモ・ホールディングス株式会社     None           010   030000         120   \n",
       "\n",
       "    periodStart   periodEnd    submitDateTime  \\\n",
       "233  2021-01-01  2021-12-31  2022-05-11 15:02   \n",
       "139  2021-02-21  2022-02-20  2022-05-12 10:16   \n",
       "256  2021-02-21  2022-02-20  2022-05-12 13:57   \n",
       "177  2021-02-21  2022-02-20  2022-05-13 09:16   \n",
       "\n",
       "                        docDescription issuerEdinetCode subjectEdinetCode  \\\n",
       "233  有価証券報告書－第15期(令和3年1月1日－令和3年12月31日)             None              None   \n",
       "139  有価証券報告書－第71期(令和3年2月21日－令和4年2月20日)             None              None   \n",
       "256  有価証券報告書－第53期(令和3年2月21日－令和4年2月20日)             None              None   \n",
       "177  有価証券報告書－第37期(令和3年2月21日－令和4年2月20日)             None              None   \n",
       "\n",
       "    subsidiaryEdinetCode currentReportReason parentDocID opeDateTime  \\\n",
       "233                 None                None        None        None   \n",
       "139                 None                None        None        None   \n",
       "256                 None                None        None        None   \n",
       "177                 None                None        None        None   \n",
       "\n",
       "    withdrawalStatus docInfoEditStatus disclosureStatus xbrlFlag pdfFlag  \\\n",
       "233                0                 0                0        1       1   \n",
       "139                0                 0                0        1       1   \n",
       "256                0                 0                0        1       1   \n",
       "177                0                 0                0        1       1   \n",
       "\n",
       "    attachDocFlag englishDocFlag  \n",
       "233             1              0  \n",
       "139             1              0  \n",
       "256             1              0  \n",
       "177             1              0  "
      ]
     },
     "metadata": {},
     "output_type": "display_data"
    }
   ],
   "source": [
    "df_doc_summary_all.sort_values('submitDateTime',ascending=False)\n",
    "display(df_doc_summary_all[df_doc_summary_all['secCode'].notnull()])"
   ]
  },
  {
   "cell_type": "code",
   "execution_count": null,
   "metadata": {},
   "outputs": [],
   "source": []
  },
  {
   "cell_type": "code",
   "execution_count": 102,
   "metadata": {},
   "outputs": [
    {
     "name": "stderr",
     "output_type": "stream",
     "text": [
      "C:\\Users\\thyt\\tfgpu2\\.venv\\lib\\site-packages\\bs4\\builder\\__init__.py:545: XMLParsedAsHTMLWarning: It looks like you're parsing an XML document using an HTML parser. If this really is an HTML document (maybe it's XHTML?), you can ignore or filter this warning. If it's XML, you should know that using an XML parser will be more reliable. To parse this document as XML, make sure you have the lxml package installed, and pass the keyword argument `features=\"xml\"` into the BeautifulSoup constructor.\n",
      "  warnings.warn(\n"
     ]
    },
    {
     "data": {
      "text/plain": [
       "'255996000000'"
      ]
     },
     "execution_count": 102,
     "metadata": {},
     "output_type": "execute_result"
    }
   ],
   "source": [
    " \n",
    "seccode = 8217\n",
    "# 文書IDと提出日を取得\n",
    "doc_id = df_doc_summary_all.query(f'secCode==\"{seccode}0\"').docID.values[0]\n",
    "date = df_doc_summary_all.query(f'secCode==\"{seccode}0\"').submitDateTime.values[0]\n",
    "file_path = save_path + date[:10] + '/' + doc_id + '/XBRL/PublicDoc/*.xbrl'\n",
    "file_path = glob.glob(file_path)[0]\n",
    "\n",
    "# データを取得\n",
    "sr.get_one_xbrl_data(file_path,\n",
    "              key='jpcrp_cor:NetSalesSummaryOfBusinessResults', \n",
    "              context_ref='CurrentYearDuration')"
   ]
  },
  {
   "cell_type": "code",
   "execution_count": 103,
   "metadata": {},
   "outputs": [],
   "source": [
    "seccode = 8217\n",
    "doc_id = df_doc_summary_all.query(f'secCode==\"{seccode}0\"').docID.values[0]\n",
    "date = df_doc_summary_all.query(f'secCode==\"{seccode}0\"').submitDateTime.values[0]\n",
    "file_path = save_path + date[:10] + '/' + doc_id + '/XBRL/PublicDoc/*.xbrl'\n",
    "file_path = glob.glob(file_path)[0]\n",
    "account_df_path = '../warehouse/stock/accountdf/account_df.csv'\n",
    "print(f'seccode:{seccode}')\n",
    "print(f'doc_id:{doc_id}')\n",
    "print(f'date:{date}')\n",
    "print(f'file_path:{file_path}')\n",
    "print(f'account_df_path:{account_df_path}')"
   ]
  },
  {
   "cell_type": "code",
   "execution_count": 105,
   "metadata": {},
   "outputs": [
    {
     "data": {
      "text/html": [
       "<div>\n",
       "<style scoped>\n",
       "    .dataframe tbody tr th:only-of-type {\n",
       "        vertical-align: middle;\n",
       "    }\n",
       "\n",
       "    .dataframe tbody tr th {\n",
       "        vertical-align: top;\n",
       "    }\n",
       "\n",
       "    .dataframe thead th {\n",
       "        text-align: right;\n",
       "    }\n",
       "</style>\n",
       "<table border=\"1\" class=\"dataframe\">\n",
       "  <thead>\n",
       "    <tr style=\"text-align: right;\">\n",
       "      <th></th>\n",
       "      <th>name</th>\n",
       "      <th>prior_year</th>\n",
       "      <th>key</th>\n",
       "      <th>context_ref</th>\n",
       "      <th>value</th>\n",
       "    </tr>\n",
       "  </thead>\n",
       "  <tbody>\n",
       "    <tr>\n",
       "      <th>0</th>\n",
       "      <td>net_sales_summary</td>\n",
       "      <td>4</td>\n",
       "      <td>jpcrp_cor:NetSalesSummaryOfBusinessResults</td>\n",
       "      <td>Prior4YearDuration</td>\n",
       "      <td>259523000000</td>\n",
       "    </tr>\n",
       "    <tr>\n",
       "      <th>1</th>\n",
       "      <td>net_sales_summary</td>\n",
       "      <td>3</td>\n",
       "      <td>jpcrp_cor:NetSalesSummaryOfBusinessResults</td>\n",
       "      <td>Prior3YearDuration</td>\n",
       "      <td>255027000000</td>\n",
       "    </tr>\n",
       "    <tr>\n",
       "      <th>2</th>\n",
       "      <td>net_sales_summary</td>\n",
       "      <td>2</td>\n",
       "      <td>jpcrp_cor:NetSalesSummaryOfBusinessResults</td>\n",
       "      <td>Prior2YearDuration</td>\n",
       "      <td>255225000000</td>\n",
       "    </tr>\n",
       "    <tr>\n",
       "      <th>3</th>\n",
       "      <td>net_sales_summary</td>\n",
       "      <td>1</td>\n",
       "      <td>jpcrp_cor:NetSalesSummaryOfBusinessResults</td>\n",
       "      <td>Prior1YearDuration</td>\n",
       "      <td>268679000000</td>\n",
       "    </tr>\n",
       "    <tr>\n",
       "      <th>4</th>\n",
       "      <td>net_sales_summary</td>\n",
       "      <td>0</td>\n",
       "      <td>jpcrp_cor:NetSalesSummaryOfBusinessResults</td>\n",
       "      <td>CurrentYearDuration</td>\n",
       "      <td>255996000000</td>\n",
       "    </tr>\n",
       "  </tbody>\n",
       "</table>\n",
       "</div>"
      ],
      "text/plain": [
       "                name  prior_year                                         key  \\\n",
       "0  net_sales_summary           4  jpcrp_cor:NetSalesSummaryOfBusinessResults   \n",
       "1  net_sales_summary           3  jpcrp_cor:NetSalesSummaryOfBusinessResults   \n",
       "2  net_sales_summary           2  jpcrp_cor:NetSalesSummaryOfBusinessResults   \n",
       "3  net_sales_summary           1  jpcrp_cor:NetSalesSummaryOfBusinessResults   \n",
       "4  net_sales_summary           0  jpcrp_cor:NetSalesSummaryOfBusinessResults   \n",
       "\n",
       "           context_ref         value  \n",
       "0   Prior4YearDuration  259523000000  \n",
       "1   Prior3YearDuration  255027000000  \n",
       "2   Prior2YearDuration  255225000000  \n",
       "3   Prior1YearDuration  268679000000  \n",
       "4  CurrentYearDuration  255996000000  "
      ]
     },
     "execution_count": 105,
     "metadata": {},
     "output_type": "execute_result"
    }
   ],
   "source": [
    "account_df = pd.read_csv(account_df_path)\n",
    "sr.get_xbrl_data(file_path, account_df)"
   ]
  },
  {
   "cell_type": "code",
   "execution_count": 142,
   "metadata": {},
   "outputs": [
    {
     "name": "stdout",
     "output_type": "stream",
     "text": [
      "4 2019-12-31 00:00:00\n",
      "2015 12 31\n",
      "2015-12-31\n",
      "3 2019-12-31 00:00:00\n",
      "2016 12 31\n",
      "2016-12-31\n",
      "2 2019-12-31 00:00:00\n",
      "2017 12 31\n",
      "2017-12-31\n",
      "1 2019-12-31 00:00:00\n",
      "2018 12 31\n",
      "2018-12-31\n",
      "0 2019-12-31 00:00:00\n",
      "2019 12 31\n",
      "2019-12-31\n"
     ]
    },
    {
     "data": {
      "text/plain": [
       "Text(0.5, 1.0, 'Net Sales')"
      ]
     },
     "execution_count": 142,
     "metadata": {},
     "output_type": "execute_result"
    },
    {
     "data": {
      "image/png": "[encoded data removed]",
      "text/plain": [
       "<Figure size 432x288 with 1 Axes>"
      ]
     },
     "metadata": {
      "needs_background": "light"
     },
     "output_type": "display_data"
    }
   ],
   "source": [
    "# 売上を取得\n",
    "net_sales_summary = account_df.query('name==\"net_sales_summary\"').copy()\n",
    "# 数値データに変換\n",
    "net_sales_summary['value'] = net_sales_summary['value'].astype('float')\n",
    "# x軸用に調整\n",
    "years = [sr.calc_fiscal_year(prior_year, asof=datetime(2019,12,31))\\\n",
    "         for prior_year in net_sales_summary.prior_year]\n",
    "\n",
    "net_sales_summary['fiscal_year'] = [str(year.year)+'/'+str(year.month) for year in years]\n",
    "# 棒グラフを作成\n",
    "plt.bar(net_sales_summary['fiscal_year'], net_sales_summary['value'], \n",
    "        color='b', alpha=0.8, width=0.5)\n",
    "plt.title('Net Sales')"
   ]
  },
  {
   "cell_type": "code",
   "execution_count": null,
   "metadata": {},
   "outputs": [],
   "source": []
  }
 ],
 "metadata": {
  "interpreter": {
   "hash": "d36304fb69ec66b197d9a73d64fbf46e5c10120c279b1e6cb368f2e7c4ac209b"
  },
  "kernelspec": {
   "display_name": "Python 3 (ipykernel)",
   "language": "python",
   "name": "python3"
  },
  "language_info": {
   "codemirror_mode": {
    "name": "ipython",
    "version": 3
   },
   "file_extension": ".py",
   "mimetype": "text/x-python",
   "name": "python",
   "nbconvert_exporter": "python",
   "pygments_lexer": "ipython3",
   "version": "3.8.0"
  }
 },
 "nbformat": 4,
 "nbformat_minor": 4
}
