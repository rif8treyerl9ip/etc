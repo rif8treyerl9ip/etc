{
 "cells": [
  {
   "cell_type": "code",
   "execution_count": 4,
   "id": "920280e1-3877-4009-b49e-3b5967c8c879",
   "metadata": {},
   "outputs": [],
   "source": [
    "import psycopg2\n",
    "\n",
    "# connect postgreSQL\n",
    "users = 'postgres' # initial user\n",
    "dbnames = 'test'\n",
    "passwords = '#@@#9821'\n",
    "conn = psycopg2.connect(\" user=\" + users +\" dbname=\" + dbnames +\" password=\" + passwords)\n"
   ]
  },
  {
   "cell_type": "code",
   "execution_count": 6,
   "id": "e833694e-f700-4875-ab0a-d550ff7f4830",
   "metadata": {},
   "outputs": [
    {
     "name": "stdout",
     "output_type": "stream",
     "text": [
      "[('前田 義明', 100, '東京都港区虎ノ門3-2-29'), ('前田 由美', 100, '東京都港区虎ノ門3-2-92'), ('加藤 茶', 200, '東京都新宿区西新宿2-8-1'), ('加藤 勝', 200, '東京都新宿区西新宿2-8-1'), ('ホームズ', 300, 'ベーカー街221B'), ('ワトソン', 400, 'ベーカー街221B')]\n"
     ]
    }
   ],
   "source": [
    "\n",
    "# excexute sql\n",
    "cur = conn.cursor()\n",
    "cur.execute('SELECT * FROM addresses;')\n",
    "results = cur.fetchall()\n",
    "\n",
    "#output result\n",
    "print(results)\n",
    "\n",
    "cur.close()\n",
    "conn.close()"
   ]
  },
  {
   "cell_type": "code",
   "execution_count": null,
   "id": "67137bff-95e0-42fc-8625-d95936d3b733",
   "metadata": {},
   "outputs": [],
   "source": []
  },
  {
   "cell_type": "code",
   "execution_count": null,
   "id": "44a87b65-88a1-45d9-b5d4-46ae654fbbbf",
   "metadata": {},
   "outputs": [],
   "source": []
  },
  {
   "cell_type": "code",
   "execution_count": null,
   "id": "dbbcc6f6-6880-483e-b1ef-8b20804b5ab0",
   "metadata": {},
   "outputs": [],
   "source": []
  },
  {
   "cell_type": "code",
   "execution_count": null,
   "id": "147dee94-bd22-48d8-a67f-783c6d1c5e09",
   "metadata": {},
   "outputs": [],
   "source": [
    "import psycopg2\n",
    "\n",
    "# 実在するデータベースに接続\n",
    ">>> conn = psycopg2.connect(\"dbname=test user=postgres\")\n",
    "\n",
    "# Open a cursor to perform database operations\n",
    ">>> cur = conn.cursor()\n",
    "\n",
    "# Execute a command: this creates a new table\n",
    ">>> cur.execute(\"CREATE TABLE test (id serial PRIMARY KEY, num integer, data varchar);\")\n",
    "\n",
    "# Pass data to fill a query placeholders and let Psycopg perform\n",
    "# the correct conversion (no more SQL injections!)\n",
    ">>> cur.execute(\"INSERT INTO test (num, data) VALUES (%s, %s)\",\n",
    "...      (100, \"abc'def\"))\n",
    "\n",
    "# Query the database and obtain data as Python objects\n",
    ">>> cur.execute(\"SELECT * FROM test;\")\n",
    ">>> cur.fetchone()\n",
    "(1, 100, \"abc'def\")\n",
    "\n",
    "# Make the changes to the database persistent\n",
    ">>> conn.commit()\n",
    "\n",
    "# Close communication with the database\n",
    ">>> cur.close()\n",
    ">>> conn.close()"
   ]
  },
  {
   "cell_type": "code",
   "execution_count": null,
   "id": "8fa58295-82b5-4bcc-9288-fe1442f1b41d",
   "metadata": {},
   "outputs": [],
   "source": []
  },
  {
   "cell_type": "code",
   "execution_count": null,
   "id": "d349f26c-1ec8-4675-9616-82063a975d6b",
   "metadata": {},
   "outputs": [],
   "source": []
  }
 ],
 "metadata": {
  "kernelspec": {
   "display_name": "Python 3 (ipykernel)",
   "language": "python",
   "name": "python3"
  },
  "language_info": {
   "codemirror_mode": {
    "name": "ipython",
    "version": 3
   },
   "file_extension": ".py",
   "mimetype": "text/x-python",
   "name": "python",
   "nbconvert_exporter": "python",
   "pygments_lexer": "ipython3",
   "version": "3.8.0"
  }
 },
 "nbformat": 4,
 "nbformat_minor": 5
}
