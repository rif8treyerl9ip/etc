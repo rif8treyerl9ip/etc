{
 "cells": [
  {
   "cell_type": "code",
   "execution_count": 18,
   "id": "56593ad2-3526-4474-86e3-ee663320902e",
   "metadata": {},
   "outputs": [],
   "source": [
    "# - 売り上げ高\n",
    "# - 営業利益\n",
    "# まで\n",
    "# かなりめんどくさい…\n",
    "\n",
    "# todo \n",
    "# 営業活動キャッシュフロー\n",
    "# 営業活動キャッシュフロー/売上=営業キャッシュフローマージン計算\n",
    "# 営業キャッシュフローマージンをendDatetimeで降順ソートして直近5年(出せるとこまで、2年が限界か？)\n",
    "# 算出し、15%以上が2年以上ならOperating_cash_flow_margin_listに銘柄を追加"
   ]
  },
  {
   "cell_type": "code",
   "execution_count": 19,
   "id": "8d11fc9f-8885-43c4-ae16-f03cd9850f59",
   "metadata": {},
   "outputs": [],
   "source": [
    "import glob\n",
    "\n",
    "from arelle.ModelValue import qname\n",
    "from arelle import Cntlr\n",
    "import numpy as np\n",
    "\n",
    "import pandas as pd\n",
    "pd.set_option('display.max_rows',1000)\n",
    "import plotly.graph_objects as go\n",
    "\n",
    "import stock_research as sr\n",
    "taiouhyou = sr.taiouhyou\n"
   ]
  },
  {
   "cell_type": "code",
   "execution_count": 31,
   "id": "0b6ff59d-b695-4557-bb6d-130ca0668f40",
   "metadata": {},
   "outputs": [
    {
     "name": "stdout",
     "output_type": "stream",
     "text": [
      "../warehouse/stock/created\\submitted_doc_list_only_stock_20220330_20220428.csv\n"
     ]
    }
   ],
   "source": [
    "stock_code_list_path = '../warehouse/stock/created/submitted_doc_list_only_stock*.csv'\n",
    "files = glob.glob(stock_code_list_path)\n",
    "for file in files:\n",
    "    print(file)"
   ]
  },
  {
   "cell_type": "code",
   "execution_count": 40,
   "id": "dfd17a55-e24b-48cb-bba1-6bee766c76bb",
   "metadata": {},
   "outputs": [],
   "source": [
    "orig_data_path = '../warehouse/stock/original_data/'\n",
    "stock_code_list = '../warehouse/stock/created/submitted_doc_list_only_stock_20220330_20220428.csv'\n",
    "code_df = pd.read_csv(stock_code_list)"
   ]
  },
  {
   "cell_type": "code",
   "execution_count": 41,
   "id": "7c6bfd93-39d7-4945-9721-62ad2599e658",
   "metadata": {},
   "outputs": [
    {
     "data": {
      "text/plain": [
       "132"
      ]
     },
     "execution_count": 41,
     "metadata": {},
     "output_type": "execute_result"
    }
   ],
   "source": [
    "# code_listは銘柄コードごとにユニーク\n",
    "tmp = code_df.groupby('filerName').size()\n",
    "# tmp.name = 'count'\n",
    "len(tmp.values)"
   ]
  },
  {
   "cell_type": "code",
   "execution_count": 43,
   "id": "a9d82e78-5e8d-456b-8a00-ad126e78c860",
   "metadata": {},
   "outputs": [],
   "source": [
    "def read_xbrl(file_path,stock_code) -> pd.DataFrame:\n",
    "    ctrl = Cntlr.Cntlr(logFileName='logToPrint')\n",
    "    modelXbrl = ctrl.modelManager.load(file_path)\n",
    "    \n",
    "    fact_df = pd.DataFrame(\n",
    "    data=[(\n",
    "        fact.concept.qname.localName, \n",
    "        fact.value,\n",
    "        fact.isNumeric, \n",
    "        fact.contextID,\n",
    "        fact.concept.label(preferredLabel=None, lang='ja', linkroleHint=None),\n",
    "        fact.concept.label(preferredLabel=None, lang='en', linkroleHint=None),\n",
    "        fact.context.startDatetime,\n",
    "        fact.context.endDatetime,\n",
    "        fact.context.instantDatetime,\n",
    "        fact.decimals,\n",
    "    ) for fact in modelXbrl.facts],\n",
    "    columns=[\n",
    "        \"element_id\", \n",
    "        \"value\",\n",
    "        \"isNumeric\", \n",
    "        \"contextID\",\n",
    "        \"Ja_item_name\",\n",
    "        \"en_item_name\",     \n",
    "        \"startDatetime\",\n",
    "        \"endDatetime\",\n",
    "        \"instantDatetime\",\n",
    "        \"decimals\",\n",
    "    ])\n",
    "    return fact_df\n"
   ]
  },
  {
   "cell_type": "code",
   "execution_count": 44,
   "id": "41f07fa1-6a9e-43a7-9e3f-88d235bdbee5",
   "metadata": {},
   "outputs": [],
   "source": [
    "import warnings\n",
    "warnings.filterwarnings('ignore')"
   ]
  },
  {
   "cell_type": "code",
   "execution_count": 45,
   "id": "8ba83d68-926c-4ca7-a964-a1ccdb87b99a",
   "metadata": {},
   "outputs": [
    {
     "name": "stdout",
     "output_type": "stream",
     "text": [
      "NetSalesSummaryOfBusinessResults\n",
      "OperatingIncome\n"
     ]
    }
   ],
   "source": [
    "j=-1\n",
    "for stock_code in code_df['コード'].unique():\n",
    "    j+=1\n",
    "    if j==1:break\n",
    "    df = []\n",
    "    doc_id = code_df.query(f'コード=={stock_code}').docID.values[0]\n",
    "    date = code_df.query(f'コード=={stock_code}').submitDateTime.values[0]\n",
    "    company_name = code_df.query(f'コード=={stock_code}').filerName.values[0]\n",
    "\n",
    "    file_path = orig_data_path + date[:10] + '/' + doc_id + '/XBRL/PublicDoc/*.xbrl'\n",
    "    file_path = glob.glob(file_path)[0]\n",
    "    \n",
    "    fact_df = read_xbrl(file_path,stock_code)\n",
    "    \n",
    "    # プロットに向かない数値以外のデータをすべて除外\n",
    "    mask = fact_df['value'].str.match('^[0-9]+$')\n",
    "    fact_df = fact_df[mask]\n",
    "    \n",
    "    count = 0\n",
    "    for k in taiouhyou:\n",
    "        print(k)\n",
    "        if k==\"NetSalesSummaryOfBusinessResults\":\n",
    "            tmp = sr.get_sales(fact_df,k)\n",
    "        elif k==\"OperatingIncome\":\n",
    "            tmp = sr.get_OperatingIncome(fact_df,k)\n",
    "        \n",
    "        if count==0:\n",
    "            df = tmp\n",
    "            count+=1\n",
    "            continue\n",
    "        else:\n",
    "            df = pd.concat([df,tmp],axis=0)\n",
    "        count+=1\n",
    "        \n",
    "    # save_stock__statistics(df)"
   ]
  },
  {
   "cell_type": "code",
   "execution_count": 16,
   "id": "af1cfa25-4a36-4702-8824-4ec9845a86a3",
   "metadata": {},
   "outputs": [
    {
     "name": "stdout",
     "output_type": "stream",
     "text": [
      "0\n",
      "1\n"
     ]
    }
   ],
   "source": [
    "# def save_stock_statistics(df):\n",
    "'''csvとして保存するための後処理'''\n",
    "df = df.drop_duplicates()\n",
    "min_date = df.endDatetime.min().strftime('%Y%m%d')\n",
    "max_date = df.endDatetime.max().strftime('%Y%m%d')\n",
    "\n",
    "for i,ele in enumerate(df.element_id.unique()):\n",
    "    print(i)\n",
    "    ele_df = df.query(f'element_id == \"{ele}\"')\n",
    "    ele_df = ele_df.sort_values('endDatetime',ascending=False)\n",
    "    YoY = sr.make_YoY(ele_df['value'])\n",
    "    ele_df['YoY'] = YoY.values\n",
    "    if i == 0:\n",
    "        tmpdf = ele_df\n",
    "    else:\n",
    "        tmpdf = pd.concat([tmpdf,ele_df],axis=0)\n",
    "\n",
    "# df.to_csv(f'../warehouse/stock/created/{stock_code}_statistics_{min_date}_{max_date}.csv')\n"
   ]
  },
  {
   "cell_type": "code",
   "execution_count": null,
   "id": "80113d05-ad2a-4694-8136-cf05664a3b5a",
   "metadata": {},
   "outputs": [],
   "source": []
  },
  {
   "cell_type": "code",
   "execution_count": null,
   "id": "c3ed4b29-7107-4e1d-8d55-132bab6909ad",
   "metadata": {},
   "outputs": [],
   "source": []
  },
  {
   "cell_type": "code",
   "execution_count": null,
   "id": "bacb0823-ceb4-4324-8461-55672df8dd1d",
   "metadata": {},
   "outputs": [],
   "source": []
  },
  {
   "cell_type": "code",
   "execution_count": null,
   "id": "d4d58224-e5f2-4ff1-93a4-c9015fcb75f8",
   "metadata": {},
   "outputs": [],
   "source": [
    "import datetime\n",
    "thisyear = datetime.date.today().year\n",
    "useyear_1 = thisyear-5\n",
    "useyear_2 = thisyear+5\n",
    "# ここに実績値をジョインしていけばいい。value_sales,value_operaing...とか\n",
    "tmp = [str(i)+'-01'+'-01' for i in range(useyear_1,useyear_2)]\n",
    "tmp = pd.DataFrame(tmp,columns=['endDatetime'])\n",
    "tmp = pd.to_datetime(tmp[\"endDatetime\"]) \n",
    "\n",
    "pd.DataFrame.merge(tmp,pd.concat([x,y],axis=1),how='left')\n"
   ]
  },
  {
   "cell_type": "code",
   "execution_count": null,
   "id": "7768b1ad-2c07-4958-a619-a9c31cdbbe94",
   "metadata": {},
   "outputs": [],
   "source": []
  }
 ],
 "metadata": {
  "kernelspec": {
   "display_name": "Python 3 (ipykernel)",
   "language": "python",
   "name": "python3"
  },
  "language_info": {
   "codemirror_mode": {
    "name": "ipython",
    "version": 3
   },
   "file_extension": ".py",
   "mimetype": "text/x-python",
   "name": "python",
   "nbconvert_exporter": "python",
   "pygments_lexer": "ipython3",
   "version": "3.8.0"
  }
 },
 "nbformat": 4,
 "nbformat_minor": 5
}
