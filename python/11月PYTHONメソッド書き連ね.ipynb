{
 "cells": [
  {
   "cell_type": "markdown",
   "metadata": {},
   "source": [
    "## python メソッド"
   ]
  },
  {
   "cell_type": "code",
   "execution_count": 15,
   "metadata": {},
   "outputs": [
    {
     "name": "stdout",
     "output_type": "stream",
     "text": [
      "<class '__main__.A'>\n",
      "<class '__main__.Froma'>\n",
      "True\n",
      "False\n",
      "True\n",
      "True\n",
      "False\n",
      "True\n",
      "False\n"
     ]
    }
   ],
   "source": [
    "# isinstance(object, classinfo)\n",
    "# Return True if the object argument is an instance of the classinfo argument,\n",
    "#  or of a (direct, indirect or virtual) subclass thereof.\n",
    "\n",
    "class A:\n",
    "    def __init__(self) -> None:\n",
    "        self.name = \"A\"\n",
    "\n",
    "class Froma(A):\n",
    "    pass\n",
    "\n",
    "a = A()\n",
    "print(type(a))\n",
    "\n",
    "froma = Froma()\n",
    "print(type(froma))\n",
    "\n",
    "# type()を使った型の判定では型が一致しているときのみTrueとなるが、isinstance()ではスーパークラスに対してもTrueを返す。\n",
    "\n",
    "print(type(froma) is Froma)\n",
    "print(type(froma) is A)\n",
    "print(isinstance(froma, Froma))\n",
    "print(isinstance(froma, A)) # fromaインスタンスのスーパークラスであるAクラスに対してもTRUE\n",
    "print(isinstance(A, A))\n",
    "\n",
    "# 継承先の子クラスに対しても判定できるのでカスタムオブジェクトを作成するときは役に立つかも\n",
    "# Featherクラスを継承して作ったクラスに対して(作成クラス,Feather)で判定するとか\n",
    "\n",
    "# 真偽値型boolはintのサブクラスだからt,fが混ざってると予期しない動作をするかも\n",
    "print(isinstance(True,int))\n",
    "print(type(True) is int)"
   ]
  }
 ],
 "metadata": {
  "kernelspec": {
   "display_name": "Python 3",
   "language": "python",
   "name": "python3"
  },
  "language_info": {
   "codemirror_mode": {
    "name": "ipython",
    "version": 3
   },
   "file_extension": ".py",
   "mimetype": "text/x-python",
   "name": "python",
   "nbconvert_exporter": "python",
   "pygments_lexer": "ipython3",
   "version": "3.9.5"
  },
  "varInspector": {
   "cols": {
    "lenName": 16,
    "lenType": 16,
    "lenVar": 40
   },
   "kernels_config": {
    "python": {
     "delete_cmd_postfix": "",
     "delete_cmd_prefix": "del ",
     "library": "var_list.py",
     "varRefreshCmd": "print(var_dic_list())"
    },
    "r": {
     "delete_cmd_postfix": ") ",
     "delete_cmd_prefix": "rm(",
     "library": "var_list.r",
     "varRefreshCmd": "cat(var_dic_list()) "
    }
   },
   "types_to_exclude": [
    "module",
    "function",
    "builtin_function_or_method",
    "instance",
    "_Feature"
   ],
   "window_display": false
  }
 },
 "nbformat": 4,
 "nbformat_minor": 4
}
