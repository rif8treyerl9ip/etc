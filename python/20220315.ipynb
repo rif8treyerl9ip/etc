{
 "cells": [
  {
   "cell_type": "code",
   "execution_count": null,
   "metadata": {},
   "outputs": [],
   "source": [
    "import webbrowser\n",
    "url = \"amazon.co.jp\"\n",
    "print(webbrowser)\n",
    "browser = webbrowser.get('\"C:\\Program Files\\Google\\Chrome\\Application\\chrome.exe\" %s')\n",
    "\n",
    "browser.open(url)\n",
    "print(\"s\")\n"
   ]
  },
  {
   "cell_type": "code",
   "execution_count": null,
   "metadata": {},
   "outputs": [],
   "source": [
    "import subprocess\n",
    "class BaseBrowser(object):\n",
    "    \"\"\"Parent class for all browsers. Do not use directly.\"\"\"\n",
    "\n",
    "    args = ['%s']\n",
    "\n",
    "    def __init__(self, name=\"\"):\n",
    "        self.name = name\n",
    "        self.basename = name\n",
    "\n",
    "    def open(self, url, new=0, autoraise=True):\n",
    "        raise NotImplementedError\n",
    "\n",
    "    def open_new(self, url):\n",
    "        return self.open(url, 1)\n",
    "\n",
    "    def open_new_tab(self, url):\n",
    "        return self.open(url, 2)\n",
    "\n",
    "\n",
    "class GenericBrowser(BaseBrowser):\n",
    "    \"\"\"Class for all browsers started with a command\n",
    "       and without remote functionality.\"\"\"\n",
    "\n",
    "    def __init__(self, name):\n",
    "        if isinstance(name, str):\n",
    "            self.name = name\n",
    "            self.args = [\"%s\"]\n",
    "        else:\n",
    "            # name should be a list with arguments\n",
    "            self.name = name[0]\n",
    "            self.args = name[1:]\n",
    "        self.basename = os.path.basename(self.name)\n",
    "\n",
    "    def open(self, url, new=0, autoraise=True):\n",
    "        sys.audit(\"webbrowser.open\", url)\n",
    "        cmdline = [self.name] + [arg.replace(\"%s\", url)\n",
    "                                 for arg in self.args]\n",
    "        print([self.name])\n",
    "        try:\n",
    "            if sys.platform[:3] == 'win':\n",
    "                p = subprocess.Popen(cmdline)\n",
    "            else:\n",
    "                p = subprocess.Popen(cmdline, close_fds=True)\n",
    "            return not p.wait()\n",
    "        except OSError:\n",
    "            return False\n",
    "\n"
   ]
  },
  {
   "cell_type": "code",
   "execution_count": null,
   "metadata": {},
   "outputs": [],
   "source": [
    "tmp = GenericBrowser('\"C:\\Program Files\\Google\\Chrome\\Application\\chrome.exe\" %s')\n",
    "print(tmp.args,'  ' ,tmp.name)\n",
    "url = \"amazon.co.jp\"\n",
    "tmp.open(url)\n"
   ]
  },
  {
   "cell_type": "code",
   "execution_count": null,
   "metadata": {},
   "outputs": [],
   "source": [
    "cmdline = [tmp.name] + ['%s'.replace(\"%s\", url)] # こゆことか\n",
    "cmdline\n",
    "# subprocess.Popen(cmdline)"
   ]
  },
  {
   "cell_type": "code",
   "execution_count": null,
   "metadata": {},
   "outputs": [],
   "source": []
  }
 ],
 "metadata": {
  "interpreter": {
   "hash": "202a2dcc7b779cfde467c4972d2d363fc6b30d2cc1283646dd3692082c1514bf"
  },
  "kernelspec": {
   "display_name": "Python 3.9.5 64-bit",
   "language": "python",
   "name": "python3"
  },
  "language_info": {
   "codemirror_mode": {
    "name": "ipython",
    "version": 3
   },
   "file_extension": ".py",
   "mimetype": "text/x-python",
   "name": "python",
   "nbconvert_exporter": "python",
   "pygments_lexer": "ipython3",
   "version": "3.9.5"
  },
  "orig_nbformat": 4
 },
 "nbformat": 4,
 "nbformat_minor": 2
}
