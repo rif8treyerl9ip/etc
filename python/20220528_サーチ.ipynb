{
 "cells": [
  {
   "cell_type": "code",
   "execution_count": 1,
   "id": "8d11fc9f-8885-43c4-ae16-f03cd9850f59",
   "metadata": {},
   "outputs": [
    {
     "name": "stdout",
     "output_type": "stream",
     "text": [
      "60\n",
      "20\n"
     ]
    }
   ],
   "source": [
    "import datetime\n",
    "import glob\n",
    "import os\n",
    "\n",
    "from arelle.ModelValue import qname\n",
    "from arelle import Cntlr\n",
    "import numpy as np\n",
    "\n",
    "import pandas as pd\n",
    "pd.reset_option('display.max_rows')\n",
    "print(pd.options.display.max_rows)\n",
    "pd.reset_option('display.max_columns')\n",
    "print(pd.options.display.max_columns)\n",
    "import plotly.graph_objects as go\n",
    "\n",
    "import stock_research as sr\n",
    "taiouhyou = sr.taiouhyou\n",
    "import warnings\n",
    "warnings.filterwarnings('ignore')"
   ]
  },
  {
   "cell_type": "code",
   "execution_count": 2,
   "id": "0b6ff59d-b695-4557-bb6d-130ca0668f40",
   "metadata": {},
   "outputs": [
    {
     "name": "stdout",
     "output_type": "stream",
     "text": [
      "../warehouse/stock/created/result_statistics\\20220528_report.txt\n",
      "../warehouse/stock/created/result_statistics\\stock_statistics_20170301_20211201.csv\n"
     ]
    }
   ],
   "source": [
    "result_path = '../warehouse/stock/created/result_statistics/*'\n",
    "files = glob.glob(result_path)\n",
    "for file in files:\n",
    "    print(file)\n",
    "result_path = '../warehouse/stock/created/result_statistics\\stock_statistics_20170301_20211201.csv'"
   ]
  },
  {
   "cell_type": "code",
   "execution_count": 4,
   "id": "dfd17a55-e24b-48cb-bba1-6bee766c76bb",
   "metadata": {},
   "outputs": [],
   "source": [
    "result = pd.read_csv(result_path)"
   ]
  },
  {
   "cell_type": "code",
   "execution_count": 23,
   "id": "a87cd9ef-c900-492c-b535-1f3a5f649540",
   "metadata": {},
   "outputs": [],
   "source": [
    "today = datetime.datetime.today().strftime('%Y%m%d')\n",
    "filepath = f'../warehouse/stock/created/result_statistics/{today}_report.txt'\n",
    "th_opemargin = 40\n",
    "th_sales_CAGR = 1.20\n",
    "sentence = f'報告日 {today} 基準値\\n営業CFマージン {th_opemargin}%\\tCAGR {int(th_sales_CAGR*100)}%'+'\\n'\n",
    "sentence = today + sentence"
   ]
  },
  {
   "cell_type": "code",
   "execution_count": null,
   "id": "4ae06281-b8d9-4d67-a9b9-4bd4f8620197",
   "metadata": {},
   "outputs": [],
   "source": []
  },
  {
   "cell_type": "code",
   "execution_count": 37,
   "id": "41f07fa1-6a9e-43a7-9e3f-88d235bdbee5",
   "metadata": {},
   "outputs": [],
   "source": [
    "with open(filepath, mode='a') as f:\n",
    "    f.write(sentence)\n",
    "\n",
    "res_dict = {}\n",
    "for stock in result.secCode.unique():\n",
    "    res_dict[f'{stock}'] = {}\n",
    "    sdf = result.query(f'secCode=={stock}')\n",
    "    filerName = sdf.filerName.reset_index(drop=True)[0]\n",
    "    s = f'''{stock} {filerName}\\n'''\n",
    "    \n",
    "    \n",
    "    # 足切り 純利益が赤字\n",
    "    \n",
    "    # 営業キャッシュフローマージンが平均40%以上\n",
    "    mean_1 = sdf.operatingincome_margin.replace('%','',regex=True).astype(float).mean()\n",
    "    count_1 = sdf.operatingincome_margin.replace('%','',regex=True).astype(float).count()\n",
    "    \n",
    "    if mean_1 > th_opemargin:\n",
    "        s1 = f'''{s} {count_1}年 {mean_1:.2f}% > {th_opemargin}%\\n'''\n",
    "        # print(s1)\n",
    "        res_dict[f'{stock}']['opeCF']=[count_1,mean_1]\n",
    "        # with open(filepath, mode='a') as f:\n",
    "        #     f.write(s1)\n",
    "\n",
    "    #############################################################\n",
    "    # 連結会計\n",
    "    tmp = sdf.query('NonConsolidated==0')\n",
    "    tmp = tmp.query('element_id==\"NetSalesSummaryOfBusinessResults\"')\n",
    "    \n",
    "    if len(tmp)<2:\n",
    "        continue\n",
    "    \n",
    "    # 幾何平均\n",
    "    gmean_2 = (((tmp.Yoy.replace('%','',regex=True).astype(float)/100)[1:].cumprod(axis=0)[-1:]**(1/len((tmp.Yoy)[1:]))).values[0])\n",
    "    count_2 = tmp.Yoy.replace('%','',regex=True).astype(float).count()\n",
    "    if gmean_2 > th_sales_CAGR:\n",
    "        s2 = f'''{s} CAGR({count_2}) {gmean_2:.3f}% > {th_sales_CAGR}%\\n'''\n",
    "        # print(s2)\n",
    "        res_dict[f'{stock}']['CAGR']=[count_2,gmean_2]\n",
    "        # with open(filepath, mode='a') as f:\n",
    "        #     f.write(s2)\n",
    "    #############################################################\n",
    "    \n",
    "    if (gmean_2 > th_sales_CAGR) and (mean_1 > th_opemargin):\n",
    "        ss = f'''{s}CAGR({count_2}) > {gmean_2:.3f}\\n営業CFマージン{th_opemargin} {count_1}年 {mean_1:.2f}% > {th_sales_CAGR}%\\n'''\n",
    "        with open(filepath, mode='a') as f:\n",
    "            f.write(ss)\n",
    "    \n",
    "    "
   ]
  },
  {
   "cell_type": "code",
   "execution_count": 31,
   "id": "f020a704-0b68-4cbe-a82b-e3df6d385c85",
   "metadata": {},
   "outputs": [
    {
     "data": {
      "text/plain": [
       "{'9941': {'opeCF': [3, 47.333333333333336]},\n",
       " '4707': {},\n",
       " '7640': {},\n",
       " '4441': {},\n",
       " '3733': {'CAGR': [1, 1.23]},\n",
       " '7034': {},\n",
       " '2198': {},\n",
       " '7856': {},\n",
       " '8077': {},\n",
       " '2695': {'opeCF': [5, 60.8]},\n",
       " '3248': {},\n",
       " '1873': {'opeCF': [5, 41.8]},\n",
       " '9678': {},\n",
       " '7265': {'opeCF': [5, 72.6]},\n",
       " '5218': {'opeCF': [5, 53.2]},\n",
       " '1840': {},\n",
       " '3974': {},\n",
       " '3480': {'opeCF': [5, 63.4]},\n",
       " '3475': {'CAGR': [4, 1.3588475398583801]},\n",
       " '4880': {},\n",
       " '7983': {'opeCF': [5, 80.8]},\n",
       " '7831': {},\n",
       " '9824': {},\n",
       " '2345': {'CAGR': [2, 1.4629422408283932]},\n",
       " '4627': {'opeCF': [5, 72.4]},\n",
       " '7804': {},\n",
       " '3491': {'CAGR': [2, 1.469693845669907]},\n",
       " '9279': {'CAGR': [4, 1.2396216400777649]},\n",
       " '4378': {},\n",
       " '2375': {},\n",
       " '8079': {'opeCF': [5, 48.0]},\n",
       " '9251': {},\n",
       " '2373': {'opeCF': [5, 58.6]},\n",
       " '3804': {},\n",
       " '3195': {'opeCF': [2, 42.5]},\n",
       " '4355': {},\n",
       " '2315': {'opeCF': [2, 46.0]},\n",
       " '4666': {},\n",
       " '7131': {'opeCF': [2, 74.0]},\n",
       " '7378': {},\n",
       " '6309': {'opeCF': [5, 44.2]},\n",
       " '8917': {'opeCF': [3, 46.0]},\n",
       " '9603': {'opeCF': [3, 42.666666666666664]},\n",
       " '3038': {'opeCF': [5, 56.8]},\n",
       " '6049': {},\n",
       " '7033': {'opeCF': [5, 46.4], 'CAGR': [4, 1.3015042147137925]},\n",
       " '7827': {'opeCF': [3, 49.333333333333336]},\n",
       " '2301': {},\n",
       " '4996': {'opeCF': [4, 59.5]},\n",
       " '3419': {},\n",
       " '7605': {},\n",
       " '8894': {'CAGR': [1, 1.42]},\n",
       " '7279': {'opeCF': [5, 50.0]},\n",
       " '3653': {},\n",
       " '3976': {},\n",
       " '1383': {'opeCF': [5, 55.4]},\n",
       " '7965': {'opeCF': [5, 76.2]},\n",
       " '9872': {},\n",
       " '6136': {},\n",
       " '3647': {'opeCF': [2, 83.5]},\n",
       " '4616': {'opeCF': [5, 64.0]},\n",
       " '2734': {'opeCF': [5, 48.0]},\n",
       " '2830': {'opeCF': [5, 55.6]},\n",
       " '3994': {'CAGR': [4, 1.5201317839157051]},\n",
       " '6474': {'opeCF': [5, 59.2]},\n",
       " '3267': {},\n",
       " '9369': {},\n",
       " '4995': {'opeCF': [4, 52.5]},\n",
       " '2493': {},\n",
       " '4361': {'opeCF': [5, 68.4]},\n",
       " '9720': {},\n",
       " '3186': {'opeCF': [2, 45.0], 'CAGR': [4, 1.2448249301921939]},\n",
       " '3907': {},\n",
       " '5942': {'opeCF': [5, 65.8]},\n",
       " '6076': {},\n",
       " '6664': {},\n",
       " '2471': {'opeCF': [5, 62.0], 'CAGR': [4, 1.2020440422641199]},\n",
       " '3201': {},\n",
       " '9313': {'opeCF': [5, 48.8]},\n",
       " '3089': {'opeCF': [3, 40.333333333333336]},\n",
       " '3454': {},\n",
       " '7997': {'opeCF': [4, 41.5]},\n",
       " '7501': {'opeCF': [3, 73.0]},\n",
       " '7879': {'opeCF': [5, 59.2]},\n",
       " '2975': {},\n",
       " '3377': {},\n",
       " '3266': {},\n",
       " '9972': {'opeCF': [5, 57.4]},\n",
       " '3547': {},\n",
       " '7074': {'opeCF': [4, 40.75]},\n",
       " '7360': {},\n",
       " '9647': {},\n",
       " '8095': {},\n",
       " '3244': {},\n",
       " '6634': {'opeCF': [1, 88.0]},\n",
       " '4992': {'opeCF': [5, 53.8]},\n",
       " '7083': {},\n",
       " '6492': {},\n",
       " '3139': {},\n",
       " '6217': {}}"
      ]
     },
     "execution_count": 31,
     "metadata": {},
     "output_type": "execute_result"
    }
   ],
   "source": [
    "res_dict"
   ]
  }
 ],
 "metadata": {
  "kernelspec": {
   "display_name": "Python 3 (ipykernel)",
   "language": "python",
   "name": "python3"
  },
  "language_info": {
   "codemirror_mode": {
    "name": "ipython",
    "version": 3
   },
   "file_extension": ".py",
   "mimetype": "text/x-python",
   "name": "python",
   "nbconvert_exporter": "python",
   "pygments_lexer": "ipython3",
   "version": "3.8.0"
  }
 },
 "nbformat": 4,
 "nbformat_minor": 5
}
