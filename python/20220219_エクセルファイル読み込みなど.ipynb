{
 "cells": [
  {
   "cell_type": "code",
   "execution_count": 126,
   "id": "8c1ad050-6c49-45ed-8738-30304be12e17",
   "metadata": {},
   "outputs": [],
   "source": [
    "import pandas as pd"
   ]
  },
  {
   "cell_type": "code",
   "execution_count": 127,
   "id": "8fbc695e-3656-42a6-8c68-9695d876968b",
   "metadata": {},
   "outputs": [],
   "source": [
    "# エクセルファイルから日本語と英語の対応関係を取得\n",
    "sheet_dict = pd.read_excel('./data/20220219_monthly.xlsx',sheet_name=None)\n",
    "\n",
    "jp_en = sheet_dict['シートいち']\n",
    "jp_en.columns = [['国・地域','Country/Area']]\n",
    "\n",
    "old  = jp_en['国・地域']\n",
    "new = jp_en['Country/Area']\n",
    "\n",
    "old  = set((old .values).flatten())\n",
    "new = set((new.values).flatten())"
   ]
  },
  {
   "cell_type": "code",
   "execution_count": 128,
   "id": "e2db6450-3920-4924-b8d9-cb2ba8196c23",
   "metadata": {},
   "outputs": [
    {
     "name": "stdout",
     "output_type": "stream",
     "text": [
      "その他:存在、hogehoge:存在せず\n"
     ]
    }
   ],
   "source": [
    "'''\n",
    "両方の集合に共通する要素を除去する\n",
    "イテレータを生成するオブジェクトが変更されないようにディープコピーを使用している。\n",
    "'''\n",
    "\n",
    "import copy\n",
    "deep_old = copy.deepcopy(old)\n",
    "deep_new = copy.deepcopy(new)\n",
    "\n",
    "for i in old:\n",
    "    # print(i in old and i in new)\n",
    "    if (i in old and i in new):\n",
    "        print(f'{i}を削除')\n",
    "        deep_old.remove(i)\n",
    "        deep_new.remove(i)\n",
    "        \n",
    "old = deep_old\n",
    "new = deep_new\n",
    "\n",
    "\n",
    "'''\n",
    "対応関係を提供するファイルから読み込んだ対応関係がそれぞれの集合の要素にあった場合、\n",
    "それぞれの集合から対応関係にあたる要素を削除\n",
    "\n",
    "'''\n",
    "correspondence_list = []\n",
    "for row in jp_en.iterrows():\n",
    "    correspondence_list.append((row[1][0],row[1][1]))\n",
    "\n",
    "have_to_search_new_ddl = []\n",
    "# for i,j in correspondence_list:\n",
    "for i,j in [('その他','hogehoge')]:\n",
    "    \n",
    "    if (i in old) and (j in new):\n",
    "        old.remove(i)\n",
    "        new.remove(j)\n",
    "        \n",
    "    elif (i in old) and (j not in new):\n",
    "        print(f'{i}:存在、{j}:存在せず')\n",
    "        have_to_search_new_ddl.append((i,j))\n",
    "        \n",
    "    elif (i not in old) and (j in new):\n",
    "        print(f'{i}:存在せず、{j}:存在')\n",
    "            \n",
    "    elif (i not in old) and (j not in new):\n",
    "        continue\n",
    "        # print(f'{i}と{j}はどちらのシステムにも存在しないテーブルです。')\n",
    "        \n",
    "# print(old)\n",
    "# print(new)\n"
   ]
  }
 ],
 "metadata": {
  "kernelspec": {
   "display_name": "Python 3 (ipykernel)",
   "language": "python",
   "name": "python3"
  },
  "language_info": {
   "codemirror_mode": {
    "name": "ipython",
    "version": 3
   },
   "file_extension": ".py",
   "mimetype": "text/x-python",
   "name": "python",
   "nbconvert_exporter": "python",
   "pygments_lexer": "ipython3",
   "version": "3.8.0"
  }
 },
 "nbformat": 4,
 "nbformat_minor": 5
}
