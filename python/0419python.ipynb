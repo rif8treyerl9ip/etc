{
 "cells": [
  {
   "cell_type": "code",
   "execution_count": 1,
   "metadata": {},
   "outputs": [],
   "source": [
    "import pandas as pd\n",
    "import numpy as np\n",
    "import inspect\n",
    "import pprint\n",
    "from pprint import pprint\n"
   ]
  },
  {
   "cell_type": "code",
   "execution_count": 14,
   "metadata": {},
   "outputs": [],
   "source": [
    "# 対話モード >>> に\n",
    "# コピペで実行できます。\n",
    "class Friend:\n",
    "    def __init__(self, name):\n",
    "        self.name = name\n",
    "\n",
    "friend = Friend('hogesan')"
   ]
  },
  {
   "cell_type": "code",
   "execution_count": 15,
   "metadata": {},
   "outputs": [
    {
     "data": {
      "text/plain": [
       "2792878967344"
      ]
     },
     "execution_count": 15,
     "metadata": {},
     "output_type": "execute_result"
    }
   ],
   "source": [
    "# 1. identity, 同一性\n",
    "id(friend)"
   ]
  },
  {
   "cell_type": "code",
   "execution_count": 16,
   "metadata": {},
   "outputs": [
    {
     "data": {
      "text/plain": [
       "__main__.Friend"
      ]
     },
     "execution_count": 16,
     "metadata": {},
     "output_type": "execute_result"
    }
   ],
   "source": [
    "# 2. class, 型\n",
    "type(friend)"
   ]
  },
  {
   "cell_type": "code",
   "execution_count": 17,
   "metadata": {},
   "outputs": [
    {
     "data": {
      "text/plain": [
       "'hogesan'"
      ]
     },
     "execution_count": 17,
     "metadata": {},
     "output_type": "execute_result"
    }
   ],
   "source": [
    "# 3. value, 値(いまは属性くらいに思っていてください)\n",
    "friend.name"
   ]
  },
  {
   "cell_type": "code",
   "execution_count": 18,
   "metadata": {},
   "outputs": [
    {
     "name": "stdout",
     "output_type": "stream",
     "text": [
      "def change_nameが実行された\n",
      "<__main__.Friend object at 0x0000028A465A6640>\n",
      "hoge\n",
      "def change_nameが実行された\n",
      "<__main__.Friend object at 0x0000028A465A6640>\n",
      "あ\n"
     ]
    }
   ],
   "source": [
    "class Friend:\n",
    "    def change_name(self, name): #selfはインスタンスオブジェクト\n",
    "        print('def change_nameが実行された')\n",
    "        print(self) \n",
    "        self.name = name\n",
    "\n",
    "friend = Friend()\n",
    "\n",
    "\n",
    "# 1) メソッドでの呼び出し方\n",
    "friend.change_name('hoge') \n",
    "print(friend.name)  \n",
    "\n",
    "\n",
    "# 2) 関数での呼び出し方\n",
    "Friend.change_name(friend, 'あ')\n",
    "print(friend.name)\n"
   ]
  },
  {
   "cell_type": "code",
   "execution_count": 19,
   "metadata": {},
   "outputs": [
    {
     "data": {
      "text/plain": [
       "<function __main__.Friend.change_name(self, name)>"
      ]
     },
     "execution_count": 19,
     "metadata": {},
     "output_type": "execute_result"
    }
   ],
   "source": [
    "class Friend:\n",
    "    def change_name(self, name): #selfはインスタンスオブジェクト\n",
    "        self.name = name\n",
    "\n",
    "        \n",
    "Friend #これはクラスオブジェクト\n",
    "\n",
    "# 属性参照\n",
    "Friend.change_name"
   ]
  },
  {
   "cell_type": "code",
   "execution_count": 20,
   "metadata": {},
   "outputs": [
    {
     "name": "stdout",
     "output_type": "stream",
     "text": [
      "def change_nameが実行された\n",
      "<__main__.Friend object at 0x0000028A465A6640>\n",
      "def change_nameが実行された\n",
      "<__main__.Friend object at 0x0000028A465A6640>\n"
     ]
    }
   ],
   "source": [
    "friend.change_name('hogemaro')\n",
    "friend.name\n",
    "\n",
    "friend.change_name('friend')"
   ]
  },
  {
   "cell_type": "code",
   "execution_count": 21,
   "metadata": {},
   "outputs": [
    {
     "name": "stdout",
     "output_type": "stream",
     "text": [
      "---------------------------\n",
      "Person\n",
      "---------------------------\n",
      "__main__\n",
      "---------------------------\n",
      "{'__module__': '__main__', '__doc__': 'sample class person', 'other_name': 'ヒト', '__init__': <function Person.__init__ at 0x0000028A4659C820>, 'method': <function Person.method at 0x0000028A4659C5E0>, '__dict__': <attribute '__dict__' of 'Person' objects>, '__weakref__': <attribute '__weakref__' of 'Person' objects>}\n",
      "---------------------------\n",
      "(<class 'object'>,)\n",
      "---------------------------\n",
      "sample class person\n"
     ]
    }
   ],
   "source": [
    "class Person(object):\n",
    "    \"sample class person\"\n",
    "    other_name=u\"ヒト\"\n",
    "    def __init__(self,name,age):\n",
    "        self.name=name\n",
    "        self.age=age\n",
    "    def method(self):\n",
    "        pass\n",
    "\n",
    "print(\"---------------------------\")\n",
    "print(Person.__name__) #クラス名\n",
    "print(\"---------------------------\")\n",
    "print(Person.__module__) # クラスが定義されているモジュールの名前\n",
    "print(\"---------------------------\")\n",
    "print(Person.__dict__) # クラスの名前空間が入った辞書\n",
    "print(\"---------------------------\")\n",
    "print(Person.__bases__) #定義順の基底クラスのリスト(タプル)\n",
    "print(\"---------------------------\")\n",
    "print(Person.__doc__) #クラスのドキュメンテーション文字列。ドキュメンテーション文字列がない場合には None。\n"
   ]
  },
  {
   "cell_type": "code",
   "execution_count": 22,
   "metadata": {},
   "outputs": [
    {
     "name": "stdout",
     "output_type": "stream",
     "text": [
      "{'name': 'hogesan', 'age': 99}\n",
      "<class '__main__.Person'>\n"
     ]
    }
   ],
   "source": [
    "# インスタンス（インスタンスオブジェクト）の特殊属性\n",
    "person=Person(\"hogesan\", 99)\n",
    "\n",
    "print(person.__dict__) #インスタンスオブジェクトの属性の辞書\n",
    "print(person.__class__) #インスタンスのクラス"
   ]
  },
  {
   "cell_type": "code",
   "execution_count": 23,
   "metadata": {},
   "outputs": [
    {
     "name": "stdout",
     "output_type": "stream",
     "text": [
      "[('__class__', <class '__main__.Person'>),\n",
      " ('__delattr__',\n",
      "  <method-wrapper '__delattr__' of Person object at 0x0000028A46592DF0>),\n",
      " ('__dict__', {'age': 99, 'name': 'hogesan'}),\n",
      " ('__dir__', <built-in method __dir__ of Person object at 0x0000028A46592DF0>),\n",
      " ('__doc__', 'sample class person'),\n",
      " ('__eq__', <method-wrapper '__eq__' of Person object at 0x0000028A46592DF0>),\n",
      " ('__format__',\n",
      "  <built-in method __format__ of Person object at 0x0000028A46592DF0>),\n",
      " ('__ge__', <method-wrapper '__ge__' of Person object at 0x0000028A46592DF0>),\n",
      " ('__getattribute__',\n",
      "  <method-wrapper '__getattribute__' of Person object at 0x0000028A46592DF0>),\n",
      " ('__gt__', <method-wrapper '__gt__' of Person object at 0x0000028A46592DF0>),\n",
      " ('__hash__',\n",
      "  <method-wrapper '__hash__' of Person object at 0x0000028A46592DF0>),\n",
      " ('__init__',\n",
      "  <bound method Person.__init__ of <__main__.Person object at 0x0000028A46592DF0>>),\n",
      " ('__init_subclass__',\n",
      "  <built-in method __init_subclass__ of type object at 0x0000028A44D05660>),\n",
      " ('__le__', <method-wrapper '__le__' of Person object at 0x0000028A46592DF0>),\n",
      " ('__lt__', <method-wrapper '__lt__' of Person object at 0x0000028A46592DF0>),\n",
      " ('__module__', '__main__'),\n",
      " ('__ne__', <method-wrapper '__ne__' of Person object at 0x0000028A46592DF0>),\n",
      " ('__new__', <built-in method __new__ of type object at 0x00007FFA9FDEBB50>),\n",
      " ('__reduce__',\n",
      "  <built-in method __reduce__ of Person object at 0x0000028A46592DF0>),\n",
      " ('__reduce_ex__',\n",
      "  <built-in method __reduce_ex__ of Person object at 0x0000028A46592DF0>),\n",
      " ('__repr__',\n",
      "  <method-wrapper '__repr__' of Person object at 0x0000028A46592DF0>),\n",
      " ('__setattr__',\n",
      "  <method-wrapper '__setattr__' of Person object at 0x0000028A46592DF0>),\n",
      " ('__sizeof__',\n",
      "  <built-in method __sizeof__ of Person object at 0x0000028A46592DF0>),\n",
      " ('__str__', <method-wrapper '__str__' of Person object at 0x0000028A46592DF0>),\n",
      " ('__subclasshook__',\n",
      "  <built-in method __subclasshook__ of type object at 0x0000028A44D05660>),\n",
      " ('__weakref__', None),\n",
      " ('age', 99),\n",
      " ('method',\n",
      "  <bound method Person.method of <__main__.Person object at 0x0000028A46592DF0>>),\n",
      " ('name', 'hogesan'),\n",
      " ('other_name', 'ヒト')]\n"
     ]
    }
   ],
   "source": [
    "# inspect.getmembers(int)\n",
    "\n",
    "pprint(inspect.getmembers(person))"
   ]
  },
  {
   "cell_type": "code",
   "execution_count": 24,
   "metadata": {},
   "outputs": [
    {
     "name": "stdout",
     "output_type": "stream",
     "text": [
      "----------------------- print inspect.getmembers(person)\n",
      "[('__class__', <class '__main__.Person'>), ('__delattr__', <method-wrapper '__delattr__' of Person object at 0x0000028A46592DF0>), ('__dict__', {'name': 'hogesan', 'age': 99}), ('__dir__', <built-in method __dir__ of Person object at 0x0000028A46592DF0>), ('__doc__', 'sample class person'), ('__eq__', <method-wrapper '__eq__' of Person object at 0x0000028A46592DF0>), ('__format__', <built-in method __format__ of Person object at 0x0000028A46592DF0>), ('__ge__', <method-wrapper '__ge__' of Person object at 0x0000028A46592DF0>), ('__getattribute__', <method-wrapper '__getattribute__' of Person object at 0x0000028A46592DF0>), ('__gt__', <method-wrapper '__gt__' of Person object at 0x0000028A46592DF0>), ('__hash__', <method-wrapper '__hash__' of Person object at 0x0000028A46592DF0>), ('__init__', <bound method Person.__init__ of <__main__.Person object at 0x0000028A46592DF0>>), ('__init_subclass__', <built-in method __init_subclass__ of type object at 0x0000028A44D05660>), ('__le__', <method-wrapper '__le__' of Person object at 0x0000028A46592DF0>), ('__lt__', <method-wrapper '__lt__' of Person object at 0x0000028A46592DF0>), ('__module__', '__main__'), ('__ne__', <method-wrapper '__ne__' of Person object at 0x0000028A46592DF0>), ('__new__', <built-in method __new__ of type object at 0x00007FFA9FDEBB50>), ('__reduce__', <built-in method __reduce__ of Person object at 0x0000028A46592DF0>), ('__reduce_ex__', <built-in method __reduce_ex__ of Person object at 0x0000028A46592DF0>), ('__repr__', <method-wrapper '__repr__' of Person object at 0x0000028A46592DF0>), ('__setattr__', <method-wrapper '__setattr__' of Person object at 0x0000028A46592DF0>), ('__sizeof__', <built-in method __sizeof__ of Person object at 0x0000028A46592DF0>), ('__str__', <method-wrapper '__str__' of Person object at 0x0000028A46592DF0>), ('__subclasshook__', <built-in method __subclasshook__ of type object at 0x0000028A44D05660>), ('__weakref__', None), ('age', 99), ('method', <bound method Person.method of <__main__.Person object at 0x0000028A46592DF0>>), ('name', 'hogesan'), ('other_name', 'ヒト')]\n",
      "-----------------------\n",
      "-----------------------\n",
      "----------------------- pprint.pprint(inspect.getmembers(person)\n",
      "[('__class__', <class '__main__.Person'>),\n",
      " ('__delattr__',\n",
      "  <method-wrapper '__delattr__' of Person object at 0x0000028A46592DF0>),\n",
      " ('__dict__', {'age': 99, 'name': 'hogesan'}),\n",
      " ('__dir__', <built-in method __dir__ of Person object at 0x0000028A46592DF0>),\n",
      " ('__doc__', 'sample class person'),\n",
      " ('__eq__', <method-wrapper '__eq__' of Person object at 0x0000028A46592DF0>),\n",
      " ('__format__',\n",
      "  <built-in method __format__ of Person object at 0x0000028A46592DF0>),\n",
      " ('__ge__', <method-wrapper '__ge__' of Person object at 0x0000028A46592DF0>),\n",
      " ('__getattribute__',\n",
      "  <method-wrapper '__getattribute__' of Person object at 0x0000028A46592DF0>),\n",
      " ('__gt__', <method-wrapper '__gt__' of Person object at 0x0000028A46592DF0>),\n",
      " ('__hash__',\n",
      "  <method-wrapper '__hash__' of Person object at 0x0000028A46592DF0>),\n",
      " ('__init__',\n",
      "  <bound method Person.__init__ of <__main__.Person object at 0x0000028A46592DF0>>),\n",
      " ('__init_subclass__',\n",
      "  <built-in method __init_subclass__ of type object at 0x0000028A44D05660>),\n",
      " ('__le__', <method-wrapper '__le__' of Person object at 0x0000028A46592DF0>),\n",
      " ('__lt__', <method-wrapper '__lt__' of Person object at 0x0000028A46592DF0>),\n",
      " ('__module__', '__main__'),\n",
      " ('__ne__', <method-wrapper '__ne__' of Person object at 0x0000028A46592DF0>),\n",
      " ('__new__', <built-in method __new__ of type object at 0x00007FFA9FDEBB50>),\n",
      " ('__reduce__',\n",
      "  <built-in method __reduce__ of Person object at 0x0000028A46592DF0>),\n",
      " ('__reduce_ex__',\n",
      "  <built-in method __reduce_ex__ of Person object at 0x0000028A46592DF0>),\n",
      " ('__repr__',\n",
      "  <method-wrapper '__repr__' of Person object at 0x0000028A46592DF0>),\n",
      " ('__setattr__',\n",
      "  <method-wrapper '__setattr__' of Person object at 0x0000028A46592DF0>),\n",
      " ('__sizeof__',\n",
      "  <built-in method __sizeof__ of Person object at 0x0000028A46592DF0>),\n",
      " ('__str__', <method-wrapper '__str__' of Person object at 0x0000028A46592DF0>),\n",
      " ('__subclasshook__',\n",
      "  <built-in method __subclasshook__ of type object at 0x0000028A44D05660>),\n",
      " ('__weakref__', None),\n",
      " ('age', 99),\n",
      " ('method',\n",
      "  <bound method Person.method of <__main__.Person object at 0x0000028A46592DF0>>),\n",
      " ('name', 'hogesan'),\n",
      " ('other_name', 'ヒト')]\n"
     ]
    }
   ],
   "source": [
    "print(\"----------------------- print inspect.getmembers(person)\")\n",
    "print(inspect.getmembers(person))\n",
    "print(\"-----------------------\\n-----------------------\\n----------------------- pprint.pprint(inspect.getmembers(person)\")\n",
    "pprint(inspect.getmembers(person))"
   ]
  },
  {
   "cell_type": "code",
   "execution_count": 25,
   "metadata": {},
   "outputs": [
    {
     "name": "stdout",
     "output_type": "stream",
     "text": [
      "{'Person': <pyclbr.Class object at 0x0000028A448C97F0>}\n",
      "{'Person': <pyclbr.Class object at 0x0000028A448C97F0>,\n",
      " 'func': <pyclbr.Function object at 0x0000028A448F01C0>}\n"
     ]
    }
   ],
   "source": [
    "'''sample_source.py\n",
    "\n",
    "class Person(object):\n",
    "    def __init__(self,name,age):\n",
    "        self.name=name\n",
    "        self.age=age\n",
    "\n",
    "    def method(self):\n",
    "        pass\n",
    "person=Person(\"gudon\",99)\n",
    "\n",
    "def func(arg):\n",
    "    pass\n",
    "このソースをpyclbrを使って解析する。'''\n",
    "\n",
    "import pyclbr\n",
    "import pprint\n",
    "\n",
    "obj_dict = pyclbr.readmodule('sample_source')\n",
    "\n",
    "# readmodule関数の戻り値をprint文で表示してみると\n",
    "# sample_source.pyのPersonクラスの情報がpyclbr.Classクラスのインスタンスに格納されているのがわかる。\n",
    "\n",
    "print(obj_dict)\n",
    "\n",
    "# 同様に、readmodule_ex関数を使って関数の情報も取得してみると\n",
    "# 今度は関数の情報もpyclbr.Functionクラスのインスタンスとして辞書に追加されているのがわかる。\n",
    "obj_dict = pyclbr.readmodule_ex('sample_source')\n",
    "pprint.pprint(obj_dict)"
   ]
  },
  {
   "cell_type": "code",
   "execution_count": 26,
   "metadata": {},
   "outputs": [
    {
     "name": "stdout",
     "output_type": "stream",
     "text": [
      "Person\n",
      "{'children': {'__init__': <pyclbr.Function object at 0x0000028A448F02B0>,\n",
      "              'method': <pyclbr.Function object at 0x0000028A448C98E0>},\n",
      " 'file': 'C:\\\\Users\\\\富永隼斗\\\\rakus_kensyu\\\\programming\\\\python\\\\自習\\\\sample_source.py',\n",
      " 'lineno': 9,\n",
      " 'methods': {'__init__': 10, 'method': 14},\n",
      " 'module': 'sample_source',\n",
      " 'name': 'Person',\n",
      " 'parent': None,\n",
      " 'super': ['object']}\n",
      "func\n",
      "{'children': {},\n",
      " 'file': 'C:\\\\Users\\\\富永隼斗\\\\rakus_kensyu\\\\programming\\\\python\\\\自習\\\\sample_source.py',\n",
      " 'lineno': 18,\n",
      " 'module': 'sample_source',\n",
      " 'name': 'func',\n",
      " 'parent': None}\n"
     ]
    },
    {
     "data": {
      "text/plain": [
       "\"Person\\n{'children': {'__init__': <pyclbr.Function object at 0x000001FAFC65B820>,\\n              'method': <pyclbr.Function object at 0x000001FAFC65BDF0>},\\n 'file': 'C:\\\\Users\\\\富永隼斗\\\\rakus_kensyu\\\\programming\\\\python\\\\sample\\\\sample_source.py',\\n 'lineno': 1,\\n 'methods': {'__init__': 2, 'method': 6}, クラスに含まれるメソッド\\n 'module': 'sample_source',\\n 'name': 'Person',\\u3000クラス名\\n 'parent': None,\\n 'super': ['object']}\\nfunc\\n{'children': {},\\n 'file': 'C:\\\\Users\\\\富永隼斗\\\\rakus_kensyu\\\\programming\\\\python\\\\sample\\\\sample_source.py',\\n 'lineno': 10,\\n 'module': 'sample_source',\\n 'name': 'func',\\n 'parent': None}\""
      ]
     },
     "execution_count": 26,
     "metadata": {},
     "output_type": "execute_result"
    }
   ],
   "source": [
    "obj_dict = pyclbr.readmodule_ex('sample_source')\n",
    "for obj_name,obj_value in obj_dict.items():\n",
    "    print(obj_name)\n",
    "    pprint.pprint(vars(obj_value))\n",
    "    \n",
    "    \n",
    "'''Person\n",
    "{'children': {'__init__': <pyclbr.Function object at 0x000001FAFC65B820>,\n",
    "              'method': <pyclbr.Function object at 0x000001FAFC65BDF0>},\n",
    " 'file': 'C:\\\\Users\\\\富永隼斗\\\\rakus_kensyu\\\\programming\\\\python\\\\sample\\\\sample_source.py',\n",
    " 'lineno': 1,\n",
    " 'methods': {'__init__': 2, 'method': 6}, クラスに含まれるメソッド\n",
    " 'module': 'sample_source',\n",
    " 'name': 'Person',　クラス名\n",
    " 'parent': None,\n",
    " 'super': ['object']}\n",
    "func\n",
    "{'children': {},\n",
    " 'file': 'C:\\\\Users\\\\富永隼斗\\\\rakus_kensyu\\\\programming\\\\python\\\\sample\\\\sample_source.py',\n",
    " 'lineno': 10,\n",
    " 'module': 'sample_source',\n",
    " 'name': 'func',\n",
    " 'parent': None}'''"
   ]
  },
  {
   "cell_type": "code",
   "execution_count": 27,
   "metadata": {},
   "outputs": [
    {
     "data": {
      "text/plain": [
       "int"
      ]
     },
     "execution_count": 27,
     "metadata": {},
     "output_type": "execute_result"
    }
   ],
   "source": [
    "a = 1\n",
    "\n",
    "a.__class__"
   ]
  },
  {
   "cell_type": "code",
   "execution_count": 51,
   "metadata": {},
   "outputs": [
    {
     "data": {
      "text/html": [
       "<div>\n",
       "<style scoped>\n",
       "    .dataframe tbody tr th:only-of-type {\n",
       "        vertical-align: middle;\n",
       "    }\n",
       "\n",
       "    .dataframe tbody tr th {\n",
       "        vertical-align: top;\n",
       "    }\n",
       "\n",
       "    .dataframe thead th {\n",
       "        text-align: right;\n",
       "    }\n",
       "</style>\n",
       "<table border=\"1\" class=\"dataframe\">\n",
       "  <thead>\n",
       "    <tr style=\"text-align: right;\">\n",
       "      <th></th>\n",
       "      <th></th>\n",
       "      <th>month</th>\n",
       "      <th>day</th>\n",
       "      <th>title</th>\n",
       "    </tr>\n",
       "    <tr>\n",
       "      <th>genre</th>\n",
       "      <th>year</th>\n",
       "      <th></th>\n",
       "      <th></th>\n",
       "      <th></th>\n",
       "    </tr>\n",
       "  </thead>\n",
       "  <tbody>\n",
       "    <tr>\n",
       "      <th>music</th>\n",
       "      <th>2017</th>\n",
       "      <td>2</td>\n",
       "      <td>12</td>\n",
       "      <td>The singer sold 1 million CDs.</td>\n",
       "    </tr>\n",
       "    <tr>\n",
       "      <th rowspan=\"3\" valign=\"top\">sports</th>\n",
       "      <th>2017</th>\n",
       "      <td>3</td>\n",
       "      <td>12</td>\n",
       "      <td>Team A won the first game of the season.</td>\n",
       "    </tr>\n",
       "    <tr>\n",
       "      <th>2017</th>\n",
       "      <td>4</td>\n",
       "      <td>14</td>\n",
       "      <td>The athlete will retire by next month.</td>\n",
       "    </tr>\n",
       "    <tr>\n",
       "      <th>2016</th>\n",
       "      <td>12</td>\n",
       "      <td>13</td>\n",
       "      <td>Team B lose for the first time in the season.</td>\n",
       "    </tr>\n",
       "    <tr>\n",
       "      <th rowspan=\"2\" valign=\"top\">politics</th>\n",
       "      <th>2016</th>\n",
       "      <td>8</td>\n",
       "      <td>21</td>\n",
       "      <td>C on Trump tweet calling D a 'dog'.</td>\n",
       "    </tr>\n",
       "    <tr>\n",
       "      <th>2017</th>\n",
       "      <td>5</td>\n",
       "      <td>29</td>\n",
       "      <td>E won the election.</td>\n",
       "    </tr>\n",
       "    <tr>\n",
       "      <th rowspan=\"2\" valign=\"top\">health</th>\n",
       "      <th>2016</th>\n",
       "      <td>5</td>\n",
       "      <td>30</td>\n",
       "      <td>Running effectives.</td>\n",
       "    </tr>\n",
       "    <tr>\n",
       "      <th>2017</th>\n",
       "      <td>2</td>\n",
       "      <td>21</td>\n",
       "      <td>Best foods for health.</td>\n",
       "    </tr>\n",
       "  </tbody>\n",
       "</table>\n",
       "</div>"
      ],
      "text/plain": [
       "               month  day                                          title\n",
       "genre    year                                                           \n",
       "music    2017      2   12                 The singer sold 1 million CDs.\n",
       "sports   2017      3   12       Team A won the first game of the season.\n",
       "         2017      4   14         The athlete will retire by next month.\n",
       "         2016     12   13  Team B lose for the first time in the season.\n",
       "politics 2016      8   21            C on Trump tweet calling D a 'dog'.\n",
       "         2017      5   29                            E won the election.\n",
       "health   2016      5   30                            Running effectives.\n",
       "         2017      2   21                         Best foods for health."
      ]
     },
     "execution_count": 51,
     "metadata": {},
     "output_type": "execute_result"
    }
   ],
   "source": [
    "df = pd.read_csv(\"sample_news.csv\", index_col=[0,1])\n",
    "df"
   ]
  },
  {
   "cell_type": "code",
   "execution_count": 32,
   "metadata": {},
   "outputs": [
    {
     "data": {
      "text/html": [
       "<div>\n",
       "<style scoped>\n",
       "    .dataframe tbody tr th:only-of-type {\n",
       "        vertical-align: middle;\n",
       "    }\n",
       "\n",
       "    .dataframe tbody tr th {\n",
       "        vertical-align: top;\n",
       "    }\n",
       "\n",
       "    .dataframe thead th {\n",
       "        text-align: right;\n",
       "    }\n",
       "</style>\n",
       "<table border=\"1\" class=\"dataframe\">\n",
       "  <thead>\n",
       "    <tr style=\"text-align: right;\">\n",
       "      <th></th>\n",
       "      <th></th>\n",
       "      <th></th>\n",
       "      <th></th>\n",
       "      <th>title</th>\n",
       "    </tr>\n",
       "    <tr>\n",
       "      <th>genre</th>\n",
       "      <th>year</th>\n",
       "      <th>month</th>\n",
       "      <th>day</th>\n",
       "      <th></th>\n",
       "    </tr>\n",
       "  </thead>\n",
       "  <tbody>\n",
       "    <tr>\n",
       "      <th>music</th>\n",
       "      <th>2017</th>\n",
       "      <th>2</th>\n",
       "      <th>12</th>\n",
       "      <td>The singer sold 1 million CDs.</td>\n",
       "    </tr>\n",
       "    <tr>\n",
       "      <th rowspan=\"3\" valign=\"top\">sports</th>\n",
       "      <th rowspan=\"2\" valign=\"top\">2017</th>\n",
       "      <th>3</th>\n",
       "      <th>12</th>\n",
       "      <td>Team A won the first game of the season.</td>\n",
       "    </tr>\n",
       "    <tr>\n",
       "      <th>4</th>\n",
       "      <th>14</th>\n",
       "      <td>The athlete will retire by next month.</td>\n",
       "    </tr>\n",
       "    <tr>\n",
       "      <th>2016</th>\n",
       "      <th>12</th>\n",
       "      <th>13</th>\n",
       "      <td>Team B lose for the first time in the season.</td>\n",
       "    </tr>\n",
       "    <tr>\n",
       "      <th rowspan=\"2\" valign=\"top\">politics</th>\n",
       "      <th>2016</th>\n",
       "      <th>8</th>\n",
       "      <th>21</th>\n",
       "      <td>C on Trump tweet calling D a 'dog'.</td>\n",
       "    </tr>\n",
       "    <tr>\n",
       "      <th>2017</th>\n",
       "      <th>5</th>\n",
       "      <th>29</th>\n",
       "      <td>E won the election.</td>\n",
       "    </tr>\n",
       "    <tr>\n",
       "      <th rowspan=\"2\" valign=\"top\">health</th>\n",
       "      <th>2016</th>\n",
       "      <th>5</th>\n",
       "      <th>30</th>\n",
       "      <td>Running effectives.</td>\n",
       "    </tr>\n",
       "    <tr>\n",
       "      <th>2017</th>\n",
       "      <th>2</th>\n",
       "      <th>21</th>\n",
       "      <td>Best foods for health.</td>\n",
       "    </tr>\n",
       "  </tbody>\n",
       "</table>\n",
       "</div>"
      ],
      "text/plain": [
       "                                                                 title\n",
       "genre    year month day                                               \n",
       "music    2017 2     12                  The singer sold 1 million CDs.\n",
       "sports   2017 3     12        Team A won the first game of the season.\n",
       "              4     14          The athlete will retire by next month.\n",
       "         2016 12    13   Team B lose for the first time in the season.\n",
       "politics 2016 8     21             C on Trump tweet calling D a 'dog'.\n",
       "         2017 5     29                             E won the election.\n",
       "health   2016 5     30                             Running effectives.\n",
       "         2017 2     21                          Best foods for health."
      ]
     },
     "execution_count": 32,
     "metadata": {},
     "output_type": "execute_result"
    }
   ],
   "source": [
    "df = pd.read_csv(\"sample_news.csv\", index_col=[0,1,2,3]) # インデックスラベルとして0,1,2,3列目のデータを使う\n",
    "df"
   ]
  },
  {
   "cell_type": "code",
   "execution_count": 35,
   "metadata": {},
   "outputs": [
    {
     "data": {
      "text/html": [
       "<div>\n",
       "<style scoped>\n",
       "    .dataframe tbody tr th:only-of-type {\n",
       "        vertical-align: middle;\n",
       "    }\n",
       "\n",
       "    .dataframe tbody tr th {\n",
       "        vertical-align: top;\n",
       "    }\n",
       "\n",
       "    .dataframe thead th {\n",
       "        text-align: right;\n",
       "    }\n",
       "</style>\n",
       "<table border=\"1\" class=\"dataframe\">\n",
       "  <thead>\n",
       "    <tr style=\"text-align: right;\">\n",
       "      <th></th>\n",
       "      <th></th>\n",
       "      <th></th>\n",
       "      <th></th>\n",
       "      <th>title</th>\n",
       "    </tr>\n",
       "    <tr>\n",
       "      <th>genre</th>\n",
       "      <th>year</th>\n",
       "      <th>month</th>\n",
       "      <th>day</th>\n",
       "      <th></th>\n",
       "    </tr>\n",
       "  </thead>\n",
       "  <tbody>\n",
       "    <tr>\n",
       "      <th rowspan=\"2\" valign=\"top\">health</th>\n",
       "      <th>2016</th>\n",
       "      <th>5</th>\n",
       "      <th>30</th>\n",
       "      <td>Running effectives.</td>\n",
       "    </tr>\n",
       "    <tr>\n",
       "      <th>2017</th>\n",
       "      <th>2</th>\n",
       "      <th>21</th>\n",
       "      <td>Best foods for health.</td>\n",
       "    </tr>\n",
       "    <tr>\n",
       "      <th>music</th>\n",
       "      <th>2017</th>\n",
       "      <th>2</th>\n",
       "      <th>12</th>\n",
       "      <td>The singer sold 1 million CDs.</td>\n",
       "    </tr>\n",
       "    <tr>\n",
       "      <th rowspan=\"2\" valign=\"top\">politics</th>\n",
       "      <th>2016</th>\n",
       "      <th>8</th>\n",
       "      <th>21</th>\n",
       "      <td>C on Trump tweet calling D a 'dog'.</td>\n",
       "    </tr>\n",
       "    <tr>\n",
       "      <th>2017</th>\n",
       "      <th>5</th>\n",
       "      <th>29</th>\n",
       "      <td>E won the election.</td>\n",
       "    </tr>\n",
       "    <tr>\n",
       "      <th rowspan=\"3\" valign=\"top\">sports</th>\n",
       "      <th>2016</th>\n",
       "      <th>12</th>\n",
       "      <th>13</th>\n",
       "      <td>Team B lose for the first time in the season.</td>\n",
       "    </tr>\n",
       "    <tr>\n",
       "      <th rowspan=\"2\" valign=\"top\">2017</th>\n",
       "      <th>3</th>\n",
       "      <th>12</th>\n",
       "      <td>Team A won the first game of the season.</td>\n",
       "    </tr>\n",
       "    <tr>\n",
       "      <th>4</th>\n",
       "      <th>14</th>\n",
       "      <td>The athlete will retire by next month.</td>\n",
       "    </tr>\n",
       "  </tbody>\n",
       "</table>\n",
       "</div>"
      ],
      "text/plain": [
       "                                                                 title\n",
       "genre    year month day                                               \n",
       "health   2016 5     30                             Running effectives.\n",
       "         2017 2     21                          Best foods for health.\n",
       "music    2017 2     12                  The singer sold 1 million CDs.\n",
       "politics 2016 8     21             C on Trump tweet calling D a 'dog'.\n",
       "         2017 5     29                             E won the election.\n",
       "sports   2016 12    13   Team B lose for the first time in the season.\n",
       "         2017 3     12        Team A won the first game of the season.\n",
       "              4     14          The athlete will retire by next month."
      ]
     },
     "execution_count": 35,
     "metadata": {},
     "output_type": "execute_result"
    }
   ],
   "source": [
    "news_list = df.sort_index(level=0) # 最も外側 level=\"genre\" h>m>p>s\n",
    "news_list"
   ]
  },
  {
   "cell_type": "code",
   "execution_count": 39,
   "metadata": {},
   "outputs": [
    {
     "data": {
      "text/html": [
       "<div>\n",
       "<style scoped>\n",
       "    .dataframe tbody tr th:only-of-type {\n",
       "        vertical-align: middle;\n",
       "    }\n",
       "\n",
       "    .dataframe tbody tr th {\n",
       "        vertical-align: top;\n",
       "    }\n",
       "\n",
       "    .dataframe thead th {\n",
       "        text-align: right;\n",
       "    }\n",
       "</style>\n",
       "<table border=\"1\" class=\"dataframe\">\n",
       "  <thead>\n",
       "    <tr style=\"text-align: right;\">\n",
       "      <th></th>\n",
       "      <th></th>\n",
       "      <th></th>\n",
       "      <th></th>\n",
       "      <th>title</th>\n",
       "    </tr>\n",
       "    <tr>\n",
       "      <th>genre</th>\n",
       "      <th>year</th>\n",
       "      <th>month</th>\n",
       "      <th>day</th>\n",
       "      <th></th>\n",
       "    </tr>\n",
       "  </thead>\n",
       "  <tbody>\n",
       "    <tr>\n",
       "      <th rowspan=\"2\" valign=\"top\">health</th>\n",
       "      <th>2016</th>\n",
       "      <th>5</th>\n",
       "      <th>30</th>\n",
       "      <td>Running effectives.</td>\n",
       "    </tr>\n",
       "    <tr>\n",
       "      <th>2017</th>\n",
       "      <th>2</th>\n",
       "      <th>21</th>\n",
       "      <td>Best foods for health.</td>\n",
       "    </tr>\n",
       "    <tr>\n",
       "      <th>music</th>\n",
       "      <th>2017</th>\n",
       "      <th>2</th>\n",
       "      <th>12</th>\n",
       "      <td>The singer sold 1 million CDs.</td>\n",
       "    </tr>\n",
       "    <tr>\n",
       "      <th rowspan=\"2\" valign=\"top\">politics</th>\n",
       "      <th>2016</th>\n",
       "      <th>8</th>\n",
       "      <th>21</th>\n",
       "      <td>C on Trump tweet calling D a 'dog'.</td>\n",
       "    </tr>\n",
       "    <tr>\n",
       "      <th>2017</th>\n",
       "      <th>5</th>\n",
       "      <th>29</th>\n",
       "      <td>E won the election.</td>\n",
       "    </tr>\n",
       "    <tr>\n",
       "      <th rowspan=\"3\" valign=\"top\">sports</th>\n",
       "      <th>2016</th>\n",
       "      <th>12</th>\n",
       "      <th>13</th>\n",
       "      <td>Team B lose for the first time in the season.</td>\n",
       "    </tr>\n",
       "    <tr>\n",
       "      <th rowspan=\"2\" valign=\"top\">2017</th>\n",
       "      <th>3</th>\n",
       "      <th>12</th>\n",
       "      <td>Team A won the first game of the season.</td>\n",
       "    </tr>\n",
       "    <tr>\n",
       "      <th>4</th>\n",
       "      <th>14</th>\n",
       "      <td>The athlete will retire by next month.</td>\n",
       "    </tr>\n",
       "  </tbody>\n",
       "</table>\n",
       "</div>"
      ],
      "text/plain": [
       "                                                                 title\n",
       "genre    year month day                                               \n",
       "health   2016 5     30                             Running effectives.\n",
       "         2017 2     21                          Best foods for health.\n",
       "music    2017 2     12                  The singer sold 1 million CDs.\n",
       "politics 2016 8     21             C on Trump tweet calling D a 'dog'.\n",
       "         2017 5     29                             E won the election.\n",
       "sports   2016 12    13   Team B lose for the first time in the season.\n",
       "         2017 3     12        Team A won the first game of the season.\n",
       "              4     14          The athlete will retire by next month."
      ]
     },
     "execution_count": 39,
     "metadata": {},
     "output_type": "execute_result"
    }
   ],
   "source": [
    "news_list = df.sort_index(level='genre') # 最も外側 level=\"genre\" h>m>p>s\n",
    "news_list"
   ]
  },
  {
   "cell_type": "code",
   "execution_count": 36,
   "metadata": {},
   "outputs": [
    {
     "data": {
      "text/html": [
       "<div>\n",
       "<style scoped>\n",
       "    .dataframe tbody tr th:only-of-type {\n",
       "        vertical-align: middle;\n",
       "    }\n",
       "\n",
       "    .dataframe tbody tr th {\n",
       "        vertical-align: top;\n",
       "    }\n",
       "\n",
       "    .dataframe thead th {\n",
       "        text-align: right;\n",
       "    }\n",
       "</style>\n",
       "<table border=\"1\" class=\"dataframe\">\n",
       "  <thead>\n",
       "    <tr style=\"text-align: right;\">\n",
       "      <th></th>\n",
       "      <th></th>\n",
       "      <th></th>\n",
       "      <th></th>\n",
       "      <th>title</th>\n",
       "    </tr>\n",
       "    <tr>\n",
       "      <th>genre</th>\n",
       "      <th>year</th>\n",
       "      <th>month</th>\n",
       "      <th>day</th>\n",
       "      <th></th>\n",
       "    </tr>\n",
       "  </thead>\n",
       "  <tbody>\n",
       "    <tr>\n",
       "      <th>health</th>\n",
       "      <th>2016</th>\n",
       "      <th>5</th>\n",
       "      <th>30</th>\n",
       "      <td>Running effectives.</td>\n",
       "    </tr>\n",
       "    <tr>\n",
       "      <th>politics</th>\n",
       "      <th>2016</th>\n",
       "      <th>8</th>\n",
       "      <th>21</th>\n",
       "      <td>C on Trump tweet calling D a 'dog'.</td>\n",
       "    </tr>\n",
       "    <tr>\n",
       "      <th>sports</th>\n",
       "      <th>2016</th>\n",
       "      <th>12</th>\n",
       "      <th>13</th>\n",
       "      <td>Team B lose for the first time in the season.</td>\n",
       "    </tr>\n",
       "    <tr>\n",
       "      <th>health</th>\n",
       "      <th>2017</th>\n",
       "      <th>2</th>\n",
       "      <th>21</th>\n",
       "      <td>Best foods for health.</td>\n",
       "    </tr>\n",
       "    <tr>\n",
       "      <th>music</th>\n",
       "      <th>2017</th>\n",
       "      <th>2</th>\n",
       "      <th>12</th>\n",
       "      <td>The singer sold 1 million CDs.</td>\n",
       "    </tr>\n",
       "    <tr>\n",
       "      <th>politics</th>\n",
       "      <th>2017</th>\n",
       "      <th>5</th>\n",
       "      <th>29</th>\n",
       "      <td>E won the election.</td>\n",
       "    </tr>\n",
       "    <tr>\n",
       "      <th rowspan=\"2\" valign=\"top\">sports</th>\n",
       "      <th rowspan=\"2\" valign=\"top\">2017</th>\n",
       "      <th>3</th>\n",
       "      <th>12</th>\n",
       "      <td>Team A won the first game of the season.</td>\n",
       "    </tr>\n",
       "    <tr>\n",
       "      <th>4</th>\n",
       "      <th>14</th>\n",
       "      <td>The athlete will retire by next month.</td>\n",
       "    </tr>\n",
       "  </tbody>\n",
       "</table>\n",
       "</div>"
      ],
      "text/plain": [
       "                                                                 title\n",
       "genre    year month day                                               \n",
       "health   2016 5     30                             Running effectives.\n",
       "politics 2016 8     21             C on Trump tweet calling D a 'dog'.\n",
       "sports   2016 12    13   Team B lose for the first time in the season.\n",
       "health   2017 2     21                          Best foods for health.\n",
       "music    2017 2     12                  The singer sold 1 million CDs.\n",
       "politics 2017 5     29                             E won the election.\n",
       "sports   2017 3     12        Team A won the first game of the season.\n",
       "              4     14          The athlete will retire by next month."
      ]
     },
     "execution_count": 36,
     "metadata": {},
     "output_type": "execute_result"
    }
   ],
   "source": [
    "news_list = df.sort_index(level=1) # 内側 level=\"year\""
   ]
  },
  {
   "cell_type": "code",
   "execution_count": 60,
   "metadata": {
    "scrolled": true
   },
   "outputs": [
    {
     "data": {
      "text/plain": [
       "grade  class\n",
       "foo    A        0.871489\n",
       "       B        1.553255\n",
       "bar    A        0.747450\n",
       "       B        1.764211\n",
       "baz    A       -0.153146\n",
       "       B        0.667791\n",
       "dtype: float64"
      ]
     },
     "execution_count": 60,
     "metadata": {},
     "output_type": "execute_result"
    }
   ],
   "source": [
    "import pandas as pd\n",
    "from pandas import MultiIndex\n",
    "\n",
    "arrays = [['foo','foo','bar','bar','baz','baz'],\n",
    "          ['A','B','A','B','A','B']]\n",
    "\n",
    "tuples = list(zip(*arrays))\n",
    "\n",
    "tuples\n",
    "index = pd.MultiIndex.from_tuples(tuples, names=['grade','class']) # タプルからMultiIndexを作成。階層の名前を'names'で設定できる。\n",
    "\n",
    "index\n",
    "\n",
    "series = pd.Series(np.random.randn(6), index=index) # MultiIndexを使ってSeriesを作成する\n",
    "series"
   ]
  },
  {
   "cell_type": "code",
   "execution_count": 61,
   "metadata": {},
   "outputs": [
    {
     "data": {
      "text/plain": [
       "['BooleanDtype',\n",
       " 'Categorical',\n",
       " 'CategoricalDtype',\n",
       " 'CategoricalIndex',\n",
       " 'DataFrame',\n",
       " 'DateOffset',\n",
       " 'DatetimeIndex',\n",
       " 'DatetimeTZDtype',\n",
       " 'ExcelFile',\n",
       " 'ExcelWriter',\n",
       " 'Float64Index',\n",
       " 'Grouper',\n",
       " 'HDFStore',\n",
       " 'Index',\n",
       " 'IndexSlice',\n",
       " 'Int16Dtype',\n",
       " 'Int32Dtype',\n",
       " 'Int64Dtype',\n",
       " 'Int64Index',\n",
       " 'Int8Dtype',\n",
       " 'Interval',\n",
       " 'IntervalDtype',\n",
       " 'IntervalIndex',\n",
       " 'MultiIndex',\n",
       " 'NA',\n",
       " 'NaT',\n",
       " 'NamedAgg',\n",
       " 'Period',\n",
       " 'PeriodDtype',\n",
       " 'PeriodIndex',\n",
       " 'RangeIndex',\n",
       " 'Series',\n",
       " 'SparseDtype',\n",
       " 'StringDtype',\n",
       " 'Timedelta',\n",
       " 'TimedeltaIndex',\n",
       " 'Timestamp',\n",
       " 'UInt16Dtype',\n",
       " 'UInt32Dtype',\n",
       " 'UInt64Dtype',\n",
       " 'UInt64Index',\n",
       " 'UInt8Dtype',\n",
       " '__builtins__',\n",
       " '__cached__',\n",
       " '__doc__',\n",
       " '__docformat__',\n",
       " '__file__',\n",
       " '__getattr__',\n",
       " '__git_version__',\n",
       " '__loader__',\n",
       " '__name__',\n",
       " '__package__',\n",
       " '__path__',\n",
       " '__spec__',\n",
       " '__version__',\n",
       " '_config',\n",
       " '_hashtable',\n",
       " '_is_numpy_dev',\n",
       " '_lib',\n",
       " '_libs',\n",
       " '_np_version_under1p16',\n",
       " '_np_version_under1p17',\n",
       " '_np_version_under1p18',\n",
       " '_testing',\n",
       " '_tslib',\n",
       " '_typing',\n",
       " '_version',\n",
       " 'api',\n",
       " 'array',\n",
       " 'arrays',\n",
       " 'bdate_range',\n",
       " 'compat',\n",
       " 'concat',\n",
       " 'core',\n",
       " 'crosstab',\n",
       " 'cut',\n",
       " 'date_range',\n",
       " 'describe_option',\n",
       " 'errors',\n",
       " 'eval',\n",
       " 'factorize',\n",
       " 'get_dummies',\n",
       " 'get_option',\n",
       " 'infer_freq',\n",
       " 'interval_range',\n",
       " 'io',\n",
       " 'isna',\n",
       " 'isnull',\n",
       " 'json_normalize',\n",
       " 'lreshape',\n",
       " 'melt',\n",
       " 'merge',\n",
       " 'merge_asof',\n",
       " 'merge_ordered',\n",
       " 'notna',\n",
       " 'notnull',\n",
       " 'offsets',\n",
       " 'option_context',\n",
       " 'options',\n",
       " 'pandas',\n",
       " 'period_range',\n",
       " 'pivot',\n",
       " 'pivot_table',\n",
       " 'plotting',\n",
       " 'qcut',\n",
       " 'read_clipboard',\n",
       " 'read_csv',\n",
       " 'read_excel',\n",
       " 'read_feather',\n",
       " 'read_fwf',\n",
       " 'read_gbq',\n",
       " 'read_hdf',\n",
       " 'read_html',\n",
       " 'read_json',\n",
       " 'read_orc',\n",
       " 'read_parquet',\n",
       " 'read_pickle',\n",
       " 'read_sas',\n",
       " 'read_spss',\n",
       " 'read_sql',\n",
       " 'read_sql_query',\n",
       " 'read_sql_table',\n",
       " 'read_stata',\n",
       " 'read_table',\n",
       " 'reset_option',\n",
       " 'set_eng_float_format',\n",
       " 'set_option',\n",
       " 'show_versions',\n",
       " 'test',\n",
       " 'testing',\n",
       " 'timedelta_range',\n",
       " 'to_datetime',\n",
       " 'to_numeric',\n",
       " 'to_pickle',\n",
       " 'to_timedelta',\n",
       " 'tseries',\n",
       " 'unique',\n",
       " 'util',\n",
       " 'value_counts',\n",
       " 'wide_to_long']"
      ]
     },
     "execution_count": 61,
     "metadata": {},
     "output_type": "execute_result"
    }
   ],
   "source": [
    "dir(pd)"
   ]
  },
  {
   "cell_type": "code",
   "execution_count": null,
   "metadata": {},
   "outputs": [],
   "source": []
  },
  {
   "cell_type": "code",
   "execution_count": null,
   "metadata": {},
   "outputs": [],
   "source": []
  },
  {
   "cell_type": "code",
   "execution_count": null,
   "metadata": {},
   "outputs": [],
   "source": []
  },
  {
   "cell_type": "code",
   "execution_count": null,
   "metadata": {},
   "outputs": [],
   "source": []
  }
 ],
 "metadata": {
  "kernelspec": {
   "display_name": "Python 3 (ipykernel)",
   "language": "python",
   "name": "python3"
  },
  "language_info": {
   "codemirror_mode": {
    "name": "ipython",
    "version": 3
   },
   "file_extension": ".py",
   "mimetype": "text/x-python",
   "name": "python",
   "nbconvert_exporter": "python",
   "pygments_lexer": "ipython3",
   "version": "3.8.0"
  },
  "varInspector": {
   "cols": {
    "lenName": 16,
    "lenType": 16,
    "lenVar": 40
   },
   "kernels_config": {
    "python": {
     "delete_cmd_postfix": "",
     "delete_cmd_prefix": "del ",
     "library": "var_list.py",
     "varRefreshCmd": "print(var_dic_list())"
    },
    "r": {
     "delete_cmd_postfix": ") ",
     "delete_cmd_prefix": "rm(",
     "library": "var_list.r",
     "varRefreshCmd": "cat(var_dic_list()) "
    }
   },
   "types_to_exclude": [
    "module",
    "function",
    "builtin_function_or_method",
    "instance",
    "_Feature"
   ],
   "window_display": false
  }
 },
 "nbformat": 4,
 "nbformat_minor": 4
}
