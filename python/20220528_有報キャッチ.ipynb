{
 "cells": [
  {
   "cell_type": "code",
   "execution_count": 25,
   "metadata": {},
   "outputs": [
    {
     "name": "stdout",
     "output_type": "stream",
     "text": [
      "60\n",
      "20\n"
     ]
    }
   ],
   "source": [
    "from datetime import datetime, timedelta\n",
    "from datetime import date\n",
    "\n",
    "import glob\n",
    "import os\n",
    "\n",
    "import matplotlib.pyplot as plt\n",
    "plt.style.use('ggplot')\n",
    "%matplotlib inline\n",
    "import pandas as pd\n",
    "pd.reset_option('display.max_rows')\n",
    "print(pd.options.display.max_rows)\n",
    "pd.reset_option('display.max_columns')\n",
    "print(pd.options.display.max_columns)\n",
    "import numpy as np\n",
    "\n",
    "import stock_research as sr\n"
   ]
  },
  {
   "cell_type": "code",
   "execution_count": 57,
   "metadata": {},
   "outputs": [],
   "source": [
    "EDINET_API_URL = \"https://disclosure.edinet-fsa.go.jp/api/v1\"\n",
    "orignal_data_path = '../warehouse/stock/original_data/'"
   ]
  },
  {
   "cell_type": "code",
   "execution_count": 66,
   "metadata": {},
   "outputs": [
    {
     "name": "stdout",
     "output_type": "stream",
     "text": [
      "https://disclosure.edinet-fsa.go.jp/api/v1/documents.json\n",
      "2022-02-01 (5, 27)\n",
      "https://disclosure.edinet-fsa.go.jp/api/v1/documents.json\n",
      "2022-02-02 (20, 27)\n",
      "https://disclosure.edinet-fsa.go.jp/api/v1/documents.json\n",
      "2022-02-03 (30, 27)\n",
      "https://disclosure.edinet-fsa.go.jp/api/v1/documents.json\n",
      "2022-02-04 (51, 27)\n",
      "https://disclosure.edinet-fsa.go.jp/api/v1/documents.json\n",
      "2022-02-05 (51, 27)\n",
      "https://disclosure.edinet-fsa.go.jp/api/v1/documents.json\n",
      "2022-02-06 (51, 27)\n",
      "https://disclosure.edinet-fsa.go.jp/api/v1/documents.json\n",
      "2022-02-07 (65, 27)\n",
      "https://disclosure.edinet-fsa.go.jp/api/v1/documents.json\n",
      "2022-02-08 (90, 27)\n",
      "https://disclosure.edinet-fsa.go.jp/api/v1/documents.json\n",
      "2022-02-09 (121, 27)\n",
      "https://disclosure.edinet-fsa.go.jp/api/v1/documents.json\n",
      "2022-02-10 (204, 27)\n",
      "https://disclosure.edinet-fsa.go.jp/api/v1/documents.json\n",
      "2022-02-11 (204, 27)\n",
      "https://disclosure.edinet-fsa.go.jp/api/v1/documents.json\n",
      "2022-02-12 (204, 27)\n",
      "https://disclosure.edinet-fsa.go.jp/api/v1/documents.json\n",
      "2022-02-13 (204, 27)\n",
      "https://disclosure.edinet-fsa.go.jp/api/v1/documents.json\n",
      "2022-02-14 (217, 27)\n",
      "https://disclosure.edinet-fsa.go.jp/api/v1/documents.json\n",
      "2022-02-15 (265, 27)\n",
      "https://disclosure.edinet-fsa.go.jp/api/v1/documents.json\n",
      "2022-02-16 (286, 27)\n",
      "https://disclosure.edinet-fsa.go.jp/api/v1/documents.json\n",
      "2022-02-17 (321, 27)\n",
      "https://disclosure.edinet-fsa.go.jp/api/v1/documents.json\n",
      "2022-02-18 (383, 27)\n",
      "https://disclosure.edinet-fsa.go.jp/api/v1/documents.json\n",
      "2022-02-19 (383, 27)\n",
      "https://disclosure.edinet-fsa.go.jp/api/v1/documents.json\n",
      "2022-02-20 (383, 27)\n",
      "https://disclosure.edinet-fsa.go.jp/api/v1/documents.json\n",
      "2022-02-21 (447, 27)\n",
      "https://disclosure.edinet-fsa.go.jp/api/v1/documents.json\n",
      "2022-02-22 (482, 27)\n",
      "https://disclosure.edinet-fsa.go.jp/api/v1/documents.json\n",
      "2022-02-23 (482, 27)\n",
      "https://disclosure.edinet-fsa.go.jp/api/v1/documents.json\n",
      "2022-02-24 (545, 27)\n",
      "https://disclosure.edinet-fsa.go.jp/api/v1/documents.json\n",
      "2022-02-25 (677, 27)\n",
      "https://disclosure.edinet-fsa.go.jp/api/v1/documents.json\n",
      "2022-02-26 (677, 27)\n",
      "https://disclosure.edinet-fsa.go.jp/api/v1/documents.json\n",
      "2022-02-27 (677, 27)\n",
      "https://disclosure.edinet-fsa.go.jp/api/v1/documents.json\n",
      "2022-02-28 (748, 27)\n"
     ]
    }
   ],
   "source": [
    "doc_type_code=['120']\n",
    "SUMMARY_TYPE = 2\n",
    "start_date = datetime(2022, 2, 1)\n",
    "end_date = datetime(2022, 2, 28)\n",
    "for i, date in enumerate(sr.date_range(start_date, end_date)):\n",
    "    date_str = str(date)[:10]\n",
    "    df_doc_summary = sr.download_all_documents(date_str, orignal_data_path, EDINET_API_URL,\n",
    "                                                   SUMMARY_TYPE, doc_type_code)\n",
    "    if i == 0:\n",
    "        df_doc_summary_all = df_doc_summary.copy()\n",
    "    else:\n",
    "        df_doc_summary_all = pd.concat([df_doc_summary_all, df_doc_summary])\n",
    "    print(date_str,df_doc_summary_all.shape)\n"
   ]
  },
  {
   "cell_type": "code",
   "execution_count": 71,
   "metadata": {},
   "outputs": [
    {
     "name": "stdout",
     "output_type": "stream",
     "text": [
      "2022-01-04 2022-01-05 2022-01-06 2022-01-07 2022-01-11 2022-01-12 2022-01-13 2022-01-14 2022-01-17 2022-01-18 2022-01-19 2022-01-20 2022-01-21 2022-01-24 2022-01-25 2022-01-26 2022-01-27 2022-01-28 2022-01-31 2022-02-01 2022-02-02 2022-02-03 2022-02-04 2022-02-07 2022-02-08 2022-02-09 2022-02-10 2022-02-14 2022-02-15 2022-02-16 2022-02-17 2022-02-18 2022-02-21 2022-02-22 2022-02-24 2022-02-25 2022-02-28 2022-03-01 2022-03-02 2022-03-03 2022-03-04 2022-03-07 2022-03-08 2022-03-09 2022-03-10 2022-03-11 2022-03-14 2022-03-15 2022-03-16 2022-03-17 2022-03-18 2022-03-22 2022-03-23 2022-03-24 2022-03-25 2022-03-28 2022-03-29 2022-03-30 2022-03-31 2022-04-01 2022-04-04 2022-04-05 2022-04-06 2022-04-07 2022-04-08 2022-04-11 2022-04-12 2022-04-13 2022-04-14 2022-04-15 2022-04-18 2022-04-19 2022-04-20 2022-04-21 2022-04-22 2022-04-25 2022-04-26 2022-04-27 2022-04-28 stock_code_list "
     ]
    }
   ],
   "source": [
    "files = glob.glob(orignal_data_path+'*')\n",
    "for file in files:\n",
    "    print(file.split('\\\\')[1],end=' ')"
   ]
  },
  {
   "cell_type": "code",
   "execution_count": 72,
   "metadata": {},
   "outputs": [
    {
     "data": {
      "text/plain": [
       "'../warehouse/stock/original_data/'"
      ]
     },
     "execution_count": 72,
     "metadata": {},
     "output_type": "execute_result"
    }
   ],
   "source": [
    "orignal_data_path"
   ]
  },
  {
   "cell_type": "code",
   "execution_count": 73,
   "metadata": {},
   "outputs": [],
   "source": [
    "start_date = datetime(2022, 1, 1)\n",
    "end_date = datetime(2022, 4, 28)\n",
    "sdate = start_date.strftime('%Y%m%d')\n",
    "edate = end_date.strftime('%Y%m%d')\n",
    "\n",
    "i = -1\n",
    "csv_name = f'submitted_doc_list_{sdate}_{edate}.csv'\n",
    "save_path = '../warehouse/stock/created/'"
   ]
  },
  {
   "cell_type": "code",
   "execution_count": 74,
   "metadata": {},
   "outputs": [],
   "source": [
    "for date in sr.date_range(start_date, end_date):\n",
    "    date_str = str(date)[:10]\n",
    "    tmppath = orignal_data_path + date_str + '/doc_summary.csv'\n",
    "    if os.path.exists(tmppath):\n",
    "        i+=1\n",
    "        df_doc_summary = pd.read_csv(orignal_data_path + date_str + '/doc_summary.csv')\n",
    "        if i == 0:\n",
    "            df_doc_summary_all = df_doc_summary.copy()\n",
    "        else:\n",
    "            df_doc_summary_all = pd.concat([df_doc_summary_all, df_doc_summary])\n",
    "df_doc_summary_all.to_csv(save_path+csv_name,index=False)   \n",
    "# df_doc_summary_all = pd.read_csv(save_path+csv_name)\n",
    "# df_doc_summary_all.drop('Unnamed: 0',axis=1).to_csv(save_path+csv_name,index=False)        "
   ]
  },
  {
   "cell_type": "code",
   "execution_count": 75,
   "metadata": {},
   "outputs": [],
   "source": [
    "save_path = '../warehouse/stock/created/'\n",
    "stock_code_list_path = '../warehouse/stock/original_data/stock_code_list/data_j(202204_last).csv'\n",
    "stock_code_list = pd.read_csv(stock_code_list_path)\n",
    "stock_code_list.rename(columns={'コード': 'secCode'},inplace=True)\n",
    "df = pd.read_csv(save_path+csv_name)\n",
    "df = df.dropna(subset=['secCode'])\n",
    "df.secCode = df.secCode.astype(int)//10\n",
    "df = pd.merge(df,stock_code_list,how='left')\n"
   ]
  },
  {
   "cell_type": "code",
   "execution_count": 76,
   "metadata": {},
   "outputs": [],
   "source": [
    "# df.shape,stock_code_list.shape,pd.merge(df,stock_code_list,how='left').shape\n",
    "# mask = pd.isna(pd.merge(df,stock_code_list,how='left')['銘柄名']).values\n",
    "# df[mask]\n",
    "# stock_code_list.query('secCode==8594')  # 銘柄コードリストはすべての銘柄を網羅しているわけではないらしい…"
   ]
  },
  {
   "cell_type": "code",
   "execution_count": 77,
   "metadata": {},
   "outputs": [],
   "source": [
    "csv_name = f'submitted_doc_list_only_stock_{sdate}_{edate}.csv'\n",
    "df.to_csv(save_path+csv_name,index=False)"
   ]
  },
  {
   "cell_type": "code",
   "execution_count": 78,
   "metadata": {},
   "outputs": [
    {
     "data": {
      "text/html": [
       "<div>\n",
       "<style scoped>\n",
       "    .dataframe tbody tr th:only-of-type {\n",
       "        vertical-align: middle;\n",
       "    }\n",
       "\n",
       "    .dataframe tbody tr th {\n",
       "        vertical-align: top;\n",
       "    }\n",
       "\n",
       "    .dataframe thead th {\n",
       "        text-align: right;\n",
       "    }\n",
       "</style>\n",
       "<table border=\"1\" class=\"dataframe\">\n",
       "  <thead>\n",
       "    <tr style=\"text-align: right;\">\n",
       "      <th></th>\n",
       "      <th>seqNumber</th>\n",
       "      <th>docID</th>\n",
       "      <th>edinetCode</th>\n",
       "      <th>secCode</th>\n",
       "      <th>JCN</th>\n",
       "      <th>filerName</th>\n",
       "      <th>fundCode</th>\n",
       "      <th>ordinanceCode</th>\n",
       "      <th>formCode</th>\n",
       "      <th>docTypeCode</th>\n",
       "      <th>...</th>\n",
       "      <th>Unnamed: 0</th>\n",
       "      <th>日付</th>\n",
       "      <th>銘柄名</th>\n",
       "      <th>市場・商品区分</th>\n",
       "      <th>33業種コード</th>\n",
       "      <th>33業種区分</th>\n",
       "      <th>17業種コード</th>\n",
       "      <th>17業種区分</th>\n",
       "      <th>規模コード</th>\n",
       "      <th>規模区分</th>\n",
       "    </tr>\n",
       "  </thead>\n",
       "  <tbody>\n",
       "    <tr>\n",
       "      <th>0</th>\n",
       "      <td>116</td>\n",
       "      <td>S100N5KL</td>\n",
       "      <td>E02762</td>\n",
       "      <td>9941</td>\n",
       "      <td>5.010001e+12</td>\n",
       "      <td>太洋物産株式会社</td>\n",
       "      <td>NaN</td>\n",
       "      <td>10</td>\n",
       "      <td>30000</td>\n",
       "      <td>120</td>\n",
       "      <td>...</td>\n",
       "      <td>NaN</td>\n",
       "      <td>20220428.0</td>\n",
       "      <td>太洋物産</td>\n",
       "      <td>スタンダード（内国株式）</td>\n",
       "      <td>6050.0</td>\n",
       "      <td>卸売業</td>\n",
       "      <td>13.0</td>\n",
       "      <td>商社・卸売</td>\n",
       "      <td>-</td>\n",
       "      <td>-</td>\n",
       "    </tr>\n",
       "    <tr>\n",
       "      <th>1</th>\n",
       "      <td>10</td>\n",
       "      <td>S100N7DP</td>\n",
       "      <td>E05015</td>\n",
       "      <td>4707</td>\n",
       "      <td>2.110001e+12</td>\n",
       "      <td>株式会社キタック</td>\n",
       "      <td>NaN</td>\n",
       "      <td>10</td>\n",
       "      <td>30000</td>\n",
       "      <td>120</td>\n",
       "      <td>...</td>\n",
       "      <td>NaN</td>\n",
       "      <td>20220428.0</td>\n",
       "      <td>キタック</td>\n",
       "      <td>スタンダード（内国株式）</td>\n",
       "      <td>9050.0</td>\n",
       "      <td>サービス業</td>\n",
       "      <td>10.0</td>\n",
       "      <td>情報通信・サービスその他</td>\n",
       "      <td>-</td>\n",
       "      <td>-</td>\n",
       "    </tr>\n",
       "    <tr>\n",
       "      <th>2</th>\n",
       "      <td>85</td>\n",
       "      <td>S100N8J8</td>\n",
       "      <td>E03336</td>\n",
       "      <td>7640</td>\n",
       "      <td>1.110001e+12</td>\n",
       "      <td>株式会社トップカルチャー</td>\n",
       "      <td>NaN</td>\n",
       "      <td>10</td>\n",
       "      <td>30000</td>\n",
       "      <td>120</td>\n",
       "      <td>...</td>\n",
       "      <td>NaN</td>\n",
       "      <td>20220428.0</td>\n",
       "      <td>トップカルチャー</td>\n",
       "      <td>スタンダード（内国株式）</td>\n",
       "      <td>6100.0</td>\n",
       "      <td>小売業</td>\n",
       "      <td>14.0</td>\n",
       "      <td>小売</td>\n",
       "      <td>7</td>\n",
       "      <td>TOPIX Small 2</td>\n",
       "    </tr>\n",
       "    <tr>\n",
       "      <th>3</th>\n",
       "      <td>284</td>\n",
       "      <td>S100N99O</td>\n",
       "      <td>E34814</td>\n",
       "      <td>4441</td>\n",
       "      <td>9.180001e+12</td>\n",
       "      <td>トビラシステムズ株式会社</td>\n",
       "      <td>NaN</td>\n",
       "      <td>10</td>\n",
       "      <td>30000</td>\n",
       "      <td>120</td>\n",
       "      <td>...</td>\n",
       "      <td>NaN</td>\n",
       "      <td>20220428.0</td>\n",
       "      <td>トビラシステムズ</td>\n",
       "      <td>プライム（内国株式）</td>\n",
       "      <td>5250.0</td>\n",
       "      <td>情報・通信業</td>\n",
       "      <td>10.0</td>\n",
       "      <td>情報通信・サービスその他</td>\n",
       "      <td>7</td>\n",
       "      <td>TOPIX Small 2</td>\n",
       "    </tr>\n",
       "    <tr>\n",
       "      <th>4</th>\n",
       "      <td>72</td>\n",
       "      <td>S100N9CX</td>\n",
       "      <td>E05376</td>\n",
       "      <td>3733</td>\n",
       "      <td>4.120001e+12</td>\n",
       "      <td>株式会社ソフトウェア・サービス</td>\n",
       "      <td>NaN</td>\n",
       "      <td>10</td>\n",
       "      <td>30000</td>\n",
       "      <td>120</td>\n",
       "      <td>...</td>\n",
       "      <td>NaN</td>\n",
       "      <td>20220428.0</td>\n",
       "      <td>ソフトウェア・サービス</td>\n",
       "      <td>スタンダード（内国株式）</td>\n",
       "      <td>5250.0</td>\n",
       "      <td>情報・通信業</td>\n",
       "      <td>10.0</td>\n",
       "      <td>情報通信・サービスその他</td>\n",
       "      <td>-</td>\n",
       "      <td>-</td>\n",
       "    </tr>\n",
       "  </tbody>\n",
       "</table>\n",
       "<p>5 rows × 37 columns</p>\n",
       "</div>"
      ],
      "text/plain": [
       "   seqNumber     docID edinetCode  secCode           JCN        filerName  \\\n",
       "0        116  S100N5KL     E02762     9941  5.010001e+12         太洋物産株式会社   \n",
       "1         10  S100N7DP     E05015     4707  2.110001e+12         株式会社キタック   \n",
       "2         85  S100N8J8     E03336     7640  1.110001e+12     株式会社トップカルチャー   \n",
       "3        284  S100N99O     E34814     4441  9.180001e+12     トビラシステムズ株式会社   \n",
       "4         72  S100N9CX     E05376     3733  4.120001e+12  株式会社ソフトウェア・サービス   \n",
       "\n",
       "   fundCode  ordinanceCode  formCode  docTypeCode  ... Unnamed: 0          日付  \\\n",
       "0       NaN             10     30000          120  ...        NaN  20220428.0   \n",
       "1       NaN             10     30000          120  ...        NaN  20220428.0   \n",
       "2       NaN             10     30000          120  ...        NaN  20220428.0   \n",
       "3       NaN             10     30000          120  ...        NaN  20220428.0   \n",
       "4       NaN             10     30000          120  ...        NaN  20220428.0   \n",
       "\n",
       "           銘柄名       市場・商品区分  33業種コード  33業種区分  17業種コード         17業種区分  規模コード  \\\n",
       "0         太洋物産  スタンダード（内国株式）   6050.0     卸売業     13.0         商社・卸売       -   \n",
       "1         キタック  スタンダード（内国株式）   9050.0   サービス業     10.0  情報通信・サービスその他       -   \n",
       "2     トップカルチャー  スタンダード（内国株式）   6100.0     小売業     14.0            小売       7   \n",
       "3     トビラシステムズ    プライム（内国株式）   5250.0  情報・通信業     10.0  情報通信・サービスその他       7   \n",
       "4  ソフトウェア・サービス  スタンダード（内国株式）   5250.0  情報・通信業     10.0  情報通信・サービスその他       -   \n",
       "\n",
       "            規模区分  \n",
       "0              -  \n",
       "1              -  \n",
       "2  TOPIX Small 2  \n",
       "3  TOPIX Small 2  \n",
       "4              -  \n",
       "\n",
       "[5 rows x 37 columns]"
      ]
     },
     "execution_count": 78,
     "metadata": {},
     "output_type": "execute_result"
    }
   ],
   "source": [
    "df = pd.read_csv(save_path+csv_name)\n",
    "df.head()"
   ]
  },
  {
   "cell_type": "code",
   "execution_count": 69,
   "metadata": {},
   "outputs": [
    {
     "name": "stderr",
     "output_type": "stream",
     "text": [
      "C:\\Users\\thyt\\tfgpu2\\.venv\\lib\\site-packages\\bs4\\builder\\__init__.py:545: XMLParsedAsHTMLWarning: It looks like you're parsing an XML document using an HTML parser. If this really is an HTML document (maybe it's XHTML?), you can ignore or filter this warning. If it's XML, you should know that using an XML parser will be more reliable. To parse this document as XML, make sure you have the lxml package installed, and pass the keyword argument `features=\"xml\"` into the BeautifulSoup constructor.\n",
      "  warnings.warn(\n"
     ]
    },
    {
     "data": {
      "text/plain": [
       "'29909632000'"
      ]
     },
     "execution_count": 69,
     "metadata": {},
     "output_type": "execute_result"
    }
   ],
   "source": [
    "\n",
    "# 文書IDと提出日を取得\n",
    "stock_code = 7425\n",
    "doc_id = df_doc_summary_all.query(f'コード=={stock_code}').docID.values[0]\n",
    "date = df_doc_summary_all.query(f'コード=={stock_code}').submitDateTime.values[0]\n",
    "file_path = orignal_data_path + date[:10] + '/' + doc_id + '/XBRL/PublicDoc/*.xbrl'\n",
    "file_path = glob.glob(file_path)[0]\n",
    "\n",
    "# データを取得\n",
    "sr.get_one_xbrl_data(file_path,\n",
    "              key='jpcrp_cor:NetSalesSummaryOfBusinessResults', \n",
    "              context_ref='CurrentYearDuration')"
   ]
  },
  {
   "cell_type": "code",
   "execution_count": 70,
   "metadata": {},
   "outputs": [
    {
     "data": {
      "text/plain": [
       "'2022-03-30 09:27'"
      ]
     },
     "execution_count": 70,
     "metadata": {},
     "output_type": "execute_result"
    }
   ],
   "source": [
    "date"
   ]
  },
  {
   "cell_type": "code",
   "execution_count": 73,
   "metadata": {},
   "outputs": [
    {
     "name": "stdout",
     "output_type": "stream",
     "text": [
      "doc_id:S100NQFZ\n",
      "date:2022-03-30 09:27\n",
      "file_path:../warehouse/stock/original_data/2022-03-30/S100NQFZ/XBRL/PublicDoc\\jpcrp030000-asr-001_E02797-000_2021-12-31_01_2022-03-30.xbrl\n",
      "account_df_path:../warehouse/stock/created/account_df.csv\n"
     ]
    },
    {
     "name": "stderr",
     "output_type": "stream",
     "text": [
      "C:\\Users\\thyt\\tfgpu2\\.venv\\lib\\site-packages\\bs4\\builder\\__init__.py:545: XMLParsedAsHTMLWarning: It looks like you're parsing an XML document using an HTML parser. If this really is an HTML document (maybe it's XHTML?), you can ignore or filter this warning. If it's XML, you should know that using an XML parser will be more reliable. To parse this document as XML, make sure you have the lxml package installed, and pass the keyword argument `features=\"xml\"` into the BeautifulSoup constructor.\n",
      "  warnings.warn(\n"
     ]
    },
    {
     "data": {
      "text/html": [
       "<div>\n",
       "<style scoped>\n",
       "    .dataframe tbody tr th:only-of-type {\n",
       "        vertical-align: middle;\n",
       "    }\n",
       "\n",
       "    .dataframe tbody tr th {\n",
       "        vertical-align: top;\n",
       "    }\n",
       "\n",
       "    .dataframe thead th {\n",
       "        text-align: right;\n",
       "    }\n",
       "</style>\n",
       "<table border=\"1\" class=\"dataframe\">\n",
       "  <thead>\n",
       "    <tr style=\"text-align: right;\">\n",
       "      <th></th>\n",
       "      <th>name</th>\n",
       "      <th>prior_year</th>\n",
       "      <th>key</th>\n",
       "      <th>context_ref</th>\n",
       "      <th>value</th>\n",
       "    </tr>\n",
       "  </thead>\n",
       "  <tbody>\n",
       "    <tr>\n",
       "      <th>0</th>\n",
       "      <td>net_sales_summary</td>\n",
       "      <td>4.0</td>\n",
       "      <td>jpcrp_cor:NetSalesSummaryOfBusinessResults</td>\n",
       "      <td>Prior4YearDuration</td>\n",
       "      <td>None</td>\n",
       "    </tr>\n",
       "    <tr>\n",
       "      <th>1</th>\n",
       "      <td>net_sales_summary</td>\n",
       "      <td>3.0</td>\n",
       "      <td>jpcrp_cor:NetSalesSummaryOfBusinessResults</td>\n",
       "      <td>Prior3YearDuration</td>\n",
       "      <td>None</td>\n",
       "    </tr>\n",
       "    <tr>\n",
       "      <th>2</th>\n",
       "      <td>net_sales_summary</td>\n",
       "      <td>2.0</td>\n",
       "      <td>jpcrp_cor:NetSalesSummaryOfBusinessResults</td>\n",
       "      <td>Prior2YearDuration</td>\n",
       "      <td>19449010000</td>\n",
       "    </tr>\n",
       "    <tr>\n",
       "      <th>3</th>\n",
       "      <td>net_sales_summary</td>\n",
       "      <td>1.0</td>\n",
       "      <td>jpcrp_cor:NetSalesSummaryOfBusinessResults</td>\n",
       "      <td>Prior1YearDuration</td>\n",
       "      <td>29056373000</td>\n",
       "    </tr>\n",
       "    <tr>\n",
       "      <th>4</th>\n",
       "      <td>net_sales_summary</td>\n",
       "      <td>0.0</td>\n",
       "      <td>jpcrp_cor:NetSalesSummaryOfBusinessResults</td>\n",
       "      <td>CurrentYearDuration</td>\n",
       "      <td>29909632000</td>\n",
       "    </tr>\n",
       "    <tr>\n",
       "      <th>5</th>\n",
       "      <td>CompanyNameCoverPage</td>\n",
       "      <td>NaN</td>\n",
       "      <td>jpcrp_cor:CompanyNameCoverPage</td>\n",
       "      <td>FilingDateInstant</td>\n",
       "      <td>初穂商事株式会社</td>\n",
       "    </tr>\n",
       "  </tbody>\n",
       "</table>\n",
       "</div>"
      ],
      "text/plain": [
       "                   name  prior_year  \\\n",
       "0     net_sales_summary         4.0   \n",
       "1     net_sales_summary         3.0   \n",
       "2     net_sales_summary         2.0   \n",
       "3     net_sales_summary         1.0   \n",
       "4     net_sales_summary         0.0   \n",
       "5  CompanyNameCoverPage         NaN   \n",
       "\n",
       "                                          key          context_ref  \\\n",
       "0  jpcrp_cor:NetSalesSummaryOfBusinessResults   Prior4YearDuration   \n",
       "1  jpcrp_cor:NetSalesSummaryOfBusinessResults   Prior3YearDuration   \n",
       "2  jpcrp_cor:NetSalesSummaryOfBusinessResults   Prior2YearDuration   \n",
       "3  jpcrp_cor:NetSalesSummaryOfBusinessResults   Prior1YearDuration   \n",
       "4  jpcrp_cor:NetSalesSummaryOfBusinessResults  CurrentYearDuration   \n",
       "5              jpcrp_cor:CompanyNameCoverPage    FilingDateInstant   \n",
       "\n",
       "         value  \n",
       "0         None  \n",
       "1         None  \n",
       "2  19449010000  \n",
       "3  29056373000  \n",
       "4  29909632000  \n",
       "5     初穂商事株式会社  "
      ]
     },
     "execution_count": 73,
     "metadata": {},
     "output_type": "execute_result"
    }
   ],
   "source": [
    "file_path = orignal_data_path + date[:10] + '/' + doc_id + '/XBRL/PublicDoc/*.xbrl'\n",
    "file_path = glob.glob(file_path)[0]\n",
    "account_df_path = '../warehouse/stock/created/account_df.csv'\n",
    "# print(f'seccode:{seccode}')\n",
    "print(f'doc_id:{doc_id}')\n",
    "print(f'date:{date}')\n",
    "print(f'file_path:{file_path}')\n",
    "print(f'account_df_path:{account_df_path}')\n",
    "account_df = pd.read_csv(account_df_path)\n",
    "sr.get_xbrl_data(file_path, account_df)"
   ]
  },
  {
   "cell_type": "code",
   "execution_count": null,
   "metadata": {},
   "outputs": [],
   "source": []
  },
  {
   "cell_type": "code",
   "execution_count": 142,
   "metadata": {},
   "outputs": [
    {
     "name": "stdout",
     "output_type": "stream",
     "text": [
      "4 2019-12-31 00:00:00\n",
      "2015 12 31\n",
      "2015-12-31\n",
      "3 2019-12-31 00:00:00\n",
      "2016 12 31\n",
      "2016-12-31\n",
      "2 2019-12-31 00:00:00\n",
      "2017 12 31\n",
      "2017-12-31\n",
      "1 2019-12-31 00:00:00\n",
      "2018 12 31\n",
      "2018-12-31\n",
      "0 2019-12-31 00:00:00\n",
      "2019 12 31\n",
      "2019-12-31\n"
     ]
    },
    {
     "data": {
      "text/plain": [
       "Text(0.5, 1.0, 'Net Sales')"
      ]
     },
     "execution_count": 142,
     "metadata": {},
     "output_type": "execute_result"
    },
    {
     "data": {
      "image/png": "[encoded data removed]",
      "text/plain": [
       "<Figure size 432x288 with 1 Axes>"
      ]
     },
     "metadata": {
      "needs_background": "light"
     },
     "output_type": "display_data"
    }
   ],
   "source": [
    "# 売上を取得\n",
    "net_sales_summary = account_df.query('name==\"net_sales_summary\"').copy()\n",
    "# 数値データに変換\n",
    "net_sales_summary['value'] = net_sales_summary['value'].astype('float')\n",
    "# x軸用に調整\n",
    "years = [sr.calc_fiscal_year(prior_year, asof=datetime(2019,12,31))\\\n",
    "         for prior_year in net_sales_summary.prior_year]\n",
    "\n",
    "net_sales_summary['fiscal_year'] = [str(year.year)+'/'+str(year.month) for year in years]\n",
    "# 棒グラフを作成\n",
    "plt.bar(net_sales_summary['fiscal_year'], net_sales_summary['value'], \n",
    "        color='b', alpha=0.8, width=0.5)\n",
    "plt.title('Net Sales')"
   ]
  },
  {
   "cell_type": "code",
   "execution_count": null,
   "metadata": {},
   "outputs": [],
   "source": []
  }
 ],
 "metadata": {
  "interpreter": {
   "hash": "d36304fb69ec66b197d9a73d64fbf46e5c10120c279b1e6cb368f2e7c4ac209b"
  },
  "kernelspec": {
   "display_name": "Python 3 (ipykernel)",
   "language": "python",
   "name": "python3"
  },
  "language_info": {
   "codemirror_mode": {
    "name": "ipython",
    "version": 3
   },
   "file_extension": ".py",
   "mimetype": "text/x-python",
   "name": "python",
   "nbconvert_exporter": "python",
   "pygments_lexer": "ipython3",
   "version": "3.8.0"
  }
 },
 "nbformat": 4,
 "nbformat_minor": 4
}
