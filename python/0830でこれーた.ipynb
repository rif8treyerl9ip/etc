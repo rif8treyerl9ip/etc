{
 "cells": [
  {
   "cell_type": "code",
   "execution_count": 4,
   "source": [
    "def foo(arg):\r\n",
    "    x = 10\r\n",
    "    print(locals())\r\n",
    "# foo(20)\r\n",
    "globals()"
   ],
   "outputs": [
    {
     "output_type": "execute_result",
     "data": {
      "text/plain": [
       "{'__name__': '__main__',\n",
       " '__doc__': 'Automatically created module for IPython interactive environment',\n",
       " '__package__': None,\n",
       " '__loader__': None,\n",
       " '__spec__': None,\n",
       " '__builtin__': <module 'builtins' (built-in)>,\n",
       " '__builtins__': <module 'builtins' (built-in)>,\n",
       " '_ih': ['',\n",
       "  'def foo(arg):\\r\\n    x = 10\\r\\n    print locals()\\r\\nfoo(20)',\n",
       "  'def foo(arg):\\r\\n    x = 10\\r\\n    print(locals())\\r\\nfoo(20)',\n",
       "  'def foo(arg):\\r\\n    x = 10\\r\\n    print(locals())\\r\\nfoo(20)\\r\\nglobals()',\n",
       "  'def foo(arg):\\r\\n    x = 10\\r\\n    print(locals())\\r\\n# foo(20)\\r\\nglobals()'],\n",
       " '_oh': {3: {...}},\n",
       " '_dh': ['c:\\\\Users\\\\thyt\\\\arakus_kensyu\\\\python\\\\自習'],\n",
       " 'In': ['',\n",
       "  'def foo(arg):\\r\\n    x = 10\\r\\n    print locals()\\r\\nfoo(20)',\n",
       "  'def foo(arg):\\r\\n    x = 10\\r\\n    print(locals())\\r\\nfoo(20)',\n",
       "  'def foo(arg):\\r\\n    x = 10\\r\\n    print(locals())\\r\\nfoo(20)\\r\\nglobals()',\n",
       "  'def foo(arg):\\r\\n    x = 10\\r\\n    print(locals())\\r\\n# foo(20)\\r\\nglobals()'],\n",
       " 'Out': {3: {...}},\n",
       " 'get_ipython': <bound method InteractiveShell.get_ipython of <ipykernel.zmqshell.ZMQInteractiveShell object at 0x000001FA264F76D0>>,\n",
       " 'exit': <IPython.core.autocall.ZMQExitAutocall at 0x1fa26528eb0>,\n",
       " 'quit': <IPython.core.autocall.ZMQExitAutocall at 0x1fa26528eb0>,\n",
       " '_': {...},\n",
       " '__': '',\n",
       " '___': '',\n",
       " 'sys': <module 'sys' (built-in)>,\n",
       " 'os': <module 'os' from 'C:\\\\Users\\\\thyt\\\\anaconda3\\\\envs\\\\rake4\\\\lib\\\\os.py'>,\n",
       " '_i': 'def foo(arg):\\r\\n    x = 10\\r\\n    print(locals())\\r\\nfoo(20)\\r\\nglobals()',\n",
       " '_ii': 'def foo(arg):\\r\\n    x = 10\\r\\n    print(locals())\\r\\nfoo(20)',\n",
       " '_iii': 'def foo(arg):\\r\\n    x = 10\\r\\n    print locals()\\r\\nfoo(20)',\n",
       " '_i1': 'def foo(arg):\\r\\n    x = 10\\r\\n    print locals()\\r\\nfoo(20)',\n",
       " '_i2': 'def foo(arg):\\r\\n    x = 10\\r\\n    print(locals())\\r\\nfoo(20)',\n",
       " 'foo': <function __main__.foo(arg)>,\n",
       " '_i3': 'def foo(arg):\\r\\n    x = 10\\r\\n    print(locals())\\r\\nfoo(20)\\r\\nglobals()',\n",
       " '_3': {...},\n",
       " '_i4': 'def foo(arg):\\r\\n    x = 10\\r\\n    print(locals())\\r\\n# foo(20)\\r\\nglobals()'}"
      ]
     },
     "metadata": {},
     "execution_count": 4
    }
   ],
   "metadata": {}
  },
  {
   "cell_type": "code",
   "execution_count": 11,
   "source": [
    "def outer(x):\r\n",
    "    def inner():\r\n",
    "        print(x)\r\n",
    "    return inner\r\n",
    "print1 = outer(1)\r\n",
    "print2 = outer(2)\r\n",
    "print1()\r\n",
    "print2()"
   ],
   "outputs": [
    {
     "output_type": "stream",
     "name": "stdout",
     "text": [
      "1\n",
      "2\n"
     ]
    }
   ],
   "metadata": {}
  },
  {
   "cell_type": "code",
   "execution_count": 14,
   "source": [
    "class Coordinate(object):\r\n",
    "    def __init__(self, x, y):\r\n",
    "        self.x = x\r\n",
    "        self.y = y\r\n",
    "    def __repr__(self):\r\n",
    "        return \"Coord: \" + str(self.__dict__)\r\n",
    "def add(a, b):\r\n",
    "    return Coordinate(a.x + b.x, a.y + b.y)\r\n",
    "def sub(a, b):\r\n",
    "    return Coordinate(a.x - b.x, a.y - b.y)\r\n",
    "one = Coordinate(100, 200)\r\n",
    "two = Coordinate(300, 200)\r\n",
    "add(one, two)"
   ],
   "outputs": [
    {
     "output_type": "execute_result",
     "data": {
      "text/plain": [
       "Coord: {'x': 400, 'y': 400}"
      ]
     },
     "metadata": {},
     "execution_count": 14
    }
   ],
   "metadata": {}
  },
  {
   "cell_type": "code",
   "execution_count": 20,
   "source": [
    "def sub(x,y):\r\n",
    "    return x-y\r\n",
    "tmp = {'x':1,\"y\":3}\r\n",
    "sub(**tmp)"
   ],
   "outputs": [
    {
     "output_type": "execute_result",
     "data": {
      "text/plain": [
       "-2"
      ]
     },
     "metadata": {},
     "execution_count": 20
    }
   ],
   "metadata": {}
  },
  {
   "cell_type": "code",
   "execution_count": 23,
   "source": [
    "def logger(func):\r\n",
    "    def inner(*args, **kwargs): #1\r\n",
    "        print(\"Arguments were: %s, %s\" % (args, kwargs))\r\n",
    "        return func(*args, **kwargs) #2\r\n",
    "    return inner\r\n",
    "\r\n",
    "@logger\r\n",
    "def foo1(x, y=1):\r\n",
    "    return x * y\r\n",
    "@logger\r\n",
    "def foo2():\r\n",
    "    return 2\r\n",
    "foo1(5, 4)\r\n",
    "# foo1(1)\r\n",
    "# foo2()\r\n"
   ],
   "outputs": [
    {
     "output_type": "stream",
     "name": "stdout",
     "text": [
      "Arguments were: (5, 4), {}\n"
     ]
    },
    {
     "output_type": "execute_result",
     "data": {
      "text/plain": [
       "20"
      ]
     },
     "metadata": {},
     "execution_count": 23
    }
   ],
   "metadata": {}
  },
  {
   "cell_type": "code",
   "execution_count": null,
   "source": [],
   "outputs": [],
   "metadata": {}
  },
  {
   "cell_type": "code",
   "execution_count": null,
   "source": [],
   "outputs": [],
   "metadata": {}
  }
 ],
 "metadata": {
  "orig_nbformat": 4,
  "language_info": {
   "name": "python",
   "version": "3.8.10",
   "mimetype": "text/x-python",
   "codemirror_mode": {
    "name": "ipython",
    "version": 3
   },
   "pygments_lexer": "ipython3",
   "nbconvert_exporter": "python",
   "file_extension": ".py"
  },
  "kernelspec": {
   "name": "python3",
   "display_name": "Python 3.8.10 64-bit ('rake4': conda)"
  },
  "interpreter": {
   "hash": "dd5a840675b4b7a0124460e0160a18be5bf8441ea5223e9a03f358a511ddc22e"
  }
 },
 "nbformat": 4,
 "nbformat_minor": 2
}